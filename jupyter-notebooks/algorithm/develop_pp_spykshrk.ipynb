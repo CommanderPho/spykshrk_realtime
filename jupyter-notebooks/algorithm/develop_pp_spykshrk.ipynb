{
 "cells": [
  {
   "cell_type": "code",
   "execution_count": 5,
   "metadata": {},
   "outputs": [],
   "source": [
    "import pandas as pd\n",
    "import numpy as np\n",
    "import matplotlib.pyplot as plt\n",
    "import json\n",
    "import os\n",
    "\n",
    "from spykshrk.realtime.decoder_process import PointProcessDecoder\n",
    "\n",
    "def gaussian(x, mu, sig):\n",
    "    return np.exp(-np.power(x - mu, 2.) / (2 * np.power(sig, 2.)))"
   ]
  },
  {
   "cell_type": "code",
   "execution_count": 76,
   "metadata": {},
   "outputs": [],
   "source": [
    "# Setup\n",
    "\n",
    "delta = 1\n",
    "\n",
    "start_x = 0\n",
    "end_x = 100\n",
    "num_bins = 100\n",
    "\n",
    "pp_decoder = PointProcessDecoder(pos_range=[start_x, end_x],\n",
    "                                 pos_bins=num_bins,\n",
    "                                 time_bin_size=delta)\n",
    "\n",
    "pp_decoder.select_ntrodes([1, 2])\n"
   ]
  },
  {
   "cell_type": "code",
   "execution_count": 75,
   "metadata": {},
   "outputs": [],
   "source": [
    "# spike observation distributions\n",
    "x_bins = np.linspace(start_x, end_x - end_x/num_bins, num_bins)\n",
    "spk1 = gaussian(x_bins, 30, 10)\n",
    "spk1 = spk1/(spk1.sum() * num_bins / (end_x - start_x))\n",
    "spk2 = gaussian(x_bins, 40, 10)\n",
    "spk2 = spk2/(spk2.sum() * num_bins / (end_x - start_x))\n",
    "spk3 = gaussian(x_bins, 60, 10)\n",
    "spk3 = spk3/(spk3.sum() * num_bins / (end_x - start_x))\n",
    "spk4 = gaussian(x_bins, 70, 10)\n",
    "spk4 = spk4/(spk4.sum() * num_bins / (end_x - start_x))\n"
   ]
  },
  {
   "cell_type": "code",
   "execution_count": 86,
   "metadata": {},
   "outputs": [],
   "source": [
    "# Add spikes to model and increment bin\n",
    "pp_decoder.update_position(1, 1)\n",
    "pp_decoder.add_observation(1, spk1)\n",
    "pp_decoder.add_observation(1, spk2)\n",
    "\n",
    "posterior1 = pp_decoder.increment_bin()\n",
    "posterior2 = pp_decoder.increment_no_spike_bin()\n",
    "\n",
    "pp_decoder.add_observation(1, spk3)\n",
    "pp_decoder.add_observation(1, spk4)\n",
    "\n",
    "observation3 = pp_decoder.observation\n",
    "\n",
    "posterior3 = pp_decoder.increment_bin()"
   ]
  },
  {
   "cell_type": "code",
   "execution_count": 88,
   "metadata": {},
   "outputs": [],
   "source": [
    "plt.plot(x_bins, posterior1, 'r')\n",
    "plt.plot(x_bins, posterior2, 'c')\n",
    "plt.plot(x_bins, observation3/10, 'b')\n",
    "plt.plot(x_bins, posterior3, 'b')\n",
    "plt.show()"
   ]
  },
  {
   "cell_type": "code",
   "execution_count": 74,
   "metadata": {},
   "outputs": [],
   "source": [
    "plt.imshow(pp_decoder.transition_mat)\n",
    "plt.show()"
   ]
  },
  {
   "cell_type": "code",
   "execution_count": null,
   "metadata": {
    "collapsed": true
   },
   "outputs": [],
   "source": []
  }
 ],
 "metadata": {
  "git": {
   "suppress_outputs": true
  },
  "kernelspec": {
   "display_name": "Python 3",
   "language": "python",
   "name": "python3"
  },
  "language_info": {
   "codemirror_mode": {
    "name": "ipython",
    "version": 3
   },
   "file_extension": ".py",
   "mimetype": "text/x-python",
   "name": "python",
   "nbconvert_exporter": "python",
   "pygments_lexer": "ipython3",
   "version": "3.6.1"
  }
 },
 "nbformat": 4,
 "nbformat_minor": 2
}