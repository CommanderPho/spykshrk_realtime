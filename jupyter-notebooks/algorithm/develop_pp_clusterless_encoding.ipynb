{
 "cells": [
  {
   "cell_type": "code",
   "execution_count": 11,
   "metadata": {},
   "outputs": [],
   "source": [
    "import numpy as np\n",
    "import numpy.linalg\n",
    "import scipy as sp\n",
    "import scipy.stats\n",
    "import matplotlib.pyplot as plt\n",
    "\n",
    "%load_ext Cython\n"
   ]
  },
  {
   "cell_type": "code",
   "execution_count": 265,
   "metadata": {},
   "outputs": [],
   "source": [
    "num_marks = 4\n",
    "num_spikes = 100\n",
    "num_pos_bins = 100\n",
    "max_pos_bin = 20\n",
    "\n",
    "marks = np.tile(np.array([np.arange(10,110,100/num_spikes)]).T, (1,num_marks))\n",
    "\n",
    "pos_bins = np.arange(0, max_pos_bin, max_pos_bin/num_pos_bins)\n",
    "\n",
    "pos_spikes = np.arange(0,pos_bins[-1], pos_bins[-1]/num_spikes)\n",
    "\n",
    "pos_spikes = np.sin(pos_spikes) * max_pos_bin/2 +  max_pos_bin/2\n",
    "\n",
    "mark_kernel_sd = 2\n",
    "pos_kernel_sd = 2"
   ]
  },
  {
   "cell_type": "code",
   "execution_count": 266,
   "metadata": {},
   "outputs": [],
   "source": [
    "%%prun -r -s cumulative\n",
    "spike_pos_dist = sp.stats.norm.pdf(np.expand_dims(pos_bins, 0), \n",
    "                                   np.expand_dims(pos_spikes, 1),\n",
    "                                   pos_kernel_sd)\n",
    "\n",
    "dec_est = np.zeros([marks.shape[0], len(pos_bins)])\n",
    "for dec_spk_ii, decode_mark in enumerate(marks):\n",
    "    mark_contrib = np.prod(sp.stats.norm.pdf(decode_mark, marks, mark_kernel_sd), axis=1)\n",
    "    dec_est[dec_spk_ii, :] = np.matmul(mark_contrib, spike_pos_dist)\n",
    "    "
   ]
  },
  {
   "cell_type": "code",
   "execution_count": 267,
   "metadata": {},
   "outputs": [],
   "source": [
    "plt.figure(figsize=[10,10])\n",
    "plt.imshow(dec_est, extent=[pos_bins[0], pos_bins[-1], marks.shape[0], 0])\n",
    "plt.show()"
   ]
  },
  {
   "cell_type": "code",
   "execution_count": 205,
   "metadata": {
    "collapsed": true
   },
   "outputs": [],
   "source": [
    "def multi_norm_pdf(x, mean, cov):\n",
    "    x = np.array(x, ndmin=2)\n",
    "    mean = np.array(mean, ndmin=2)\n",
    "    cov = np.array(cov, ndmin=2)\n",
    "    \n",
    "    diff = x - mean\n",
    "    prob = (1/np.sqrt(np.power((2 * np.pi), x.shape[-1]) * np.linalg.det(cov)) * \n",
    "            np.exp(-1/2 * np.matmul(np.matmul(diff, np.linalg.inv(cov)), diff.T)))\n",
    "    if cov.ndim == 2:\n",
    "        return np.diagonal(prob)\n",
    "    elif cov.ndim == 3:\n",
    "        return np.diagonal(np.diagonal(prob))\n"
   ]
  },
  {
   "cell_type": "code",
   "execution_count": 220,
   "metadata": {},
   "outputs": [],
   "source": [
    "sp.stats.norm.pdf([[0,0,0,0]], loc=[[1,1,1,1], [2,2,2,2]], scale=[[1,1,1,1], [1,1,1,1]])"
   ]
  },
  {
   "cell_type": "code",
   "execution_count": 221,
   "metadata": {},
   "outputs": [],
   "source": [
    "sp.stats.multivariate_normal.pdf([0,0,0,0], [2,2,2,2], np.eye(4))"
   ]
  },
  {
   "cell_type": "code",
   "execution_count": 207,
   "metadata": {},
   "outputs": [],
   "source": [
    "multi_norm_pdf(np.array([[0, 0]]), np.array([[1, 1]]), np.eye(2))"
   ]
  },
  {
   "cell_type": "code",
   "execution_count": 193,
   "metadata": {},
   "outputs": [],
   "source": [
    "np.array([[0,0]]).shape"
   ]
  },
  {
   "cell_type": "code",
   "execution_count": 24,
   "metadata": {},
   "outputs": [],
   "source": [
    "x = np.array([1,1,1,1])\n",
    "mean = np.random.randint(0,100,[20000,4])\n",
    "\n",
    "#cov = [np.eye(4) for _ in range(mean.shape[0])]\n",
    "cov = np.eye(4)\n",
    "\n",
    "%time res = multi_norm_pdf(x, mean, cov)"
   ]
  },
  {
   "cell_type": "code",
   "execution_count": 18,
   "metadata": {},
   "outputs": [],
   "source": [
    "%%time\n",
    "val = []\n",
    "for it in mean:\n",
    "    val.append(scipy.stats.multivariate_normal.pdf([1,1,1,1],it,np.eye(4)))\n"
   ]
  }
 ],
 "metadata": {
  "git": {
   "suppress_outputs": true
  },
  "kernelspec": {
   "display_name": "Python 3",
   "language": "python",
   "name": "python3"
  },
  "language_info": {
   "codemirror_mode": {
    "name": "ipython",
    "version": 3
   },
   "file_extension": ".py",
   "mimetype": "text/x-python",
   "name": "python",
   "nbconvert_exporter": "python",
   "pygments_lexer": "ipython3",
   "version": "3.6.3"
  }
 },
 "nbformat": 4,
 "nbformat_minor": 2
}