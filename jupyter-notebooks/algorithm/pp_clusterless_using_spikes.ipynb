{
 "cells": [
  {
   "cell_type": "code",
   "execution_count": 1,
   "metadata": {},
   "outputs": [],
   "source": [
    "import pandas as pd\n",
    "import numpy as np\n",
    "import scipy as sp\n",
    "import matplotlib.pyplot as plt\n",
    "import json\n",
    "import os\n",
    "import scipy.signal\n",
    "\n",
    "import spykshrk.realtime.simulator.nspike_data as nspike_data\n",
    "\n",
    "#pd.set_option('float_format', '{:,.2f}'.format)\n",
    "pd.set_option('display.precision', 4)\n",
    "pd.set_option('display.max_rows', 10)\n",
    "#pd.set_option('display.width', 180)\n",
    "\n",
    "\n",
    "idx = pd.IndexSlice\n",
    "\n",
    "def gaussian(x, mu, sig):\n",
    "    return np.exp(-np.power(x - mu, 2.) / (2 * np.power(sig, 2.)))\n",
    "\n",
    "def normal2D(x, y, sig):\n",
    "    return np.exp(-(np.power(x, 2.) + np.power(y, 2.)) / (2 * np.power(sig, 2.)))\n",
    "\n",
    "\n",
    "def apply_no_anim_boundary(x_bins, bounds, image):\n",
    "    # no-animal boundary\n",
    "    boundary_ind = np.searchsorted(x_bins, bounds, side='right')\n",
    "    boundary_ind = np.reshape(boundary_ind, [3,2])\n",
    "\n",
    "    for bounds in boundary_ind:\n",
    "        if image.ndim == 1:\n",
    "            image[bounds[0]:bounds[1]] = 0\n",
    "        elif image.ndim == 2:\n",
    "            image[bounds[0]:bounds[1], :] = 0\n",
    "            image[:, bounds[0]:bounds[1]] = 0\n",
    "    return image"
   ]
  },
  {
   "cell_type": "code",
   "execution_count": 2,
   "metadata": {
    "collapsed": true
   },
   "outputs": [],
   "source": [
    "t = 1 - np.abs(np.linspace(-1, 1, 21))\n",
    "kernel = t.reshape(21, 1) * t.reshape(1, 21)\n",
    "kernel /= kernel.sum()"
   ]
  },
  {
   "cell_type": "code",
   "execution_count": 3,
   "metadata": {},
   "outputs": [],
   "source": [
    "%%time\n",
    "# Load merged rec HDF store based on config\n",
    "\n",
    "config_file = '/opt/data36/daliu/realtime/spykshrk/ripple_dec/bond.config.json'\n",
    "config = json.load(open(config_file, 'r'))\n",
    "\n",
    "hdf_file = os.path.join(config['files']['output_dir'],\n",
    "                        '{}.rec_merged.h5'.format(config['files']['prefix']))\n",
    "\n",
    "store = pd.HDFStore(hdf_file, mode='r')\n",
    "spike_decode = store['rec_3']\n",
    "stim_lockout = store['rec_11']"
   ]
  },
  {
   "cell_type": "code",
   "execution_count": 4,
   "metadata": {},
   "outputs": [],
   "source": [
    "%%time\n",
    "stim_lockout_ranges = stim_lockout.pivot(index='lockout_num',columns='lockout_state', values='timestamp')\n",
    "stim_lockout_ranges = stim_lockout_ranges.reindex(columns=[1,0])\n"
   ]
  },
  {
   "cell_type": "code",
   "execution_count": 5,
   "metadata": {},
   "outputs": [],
   "source": [
    "%%time\n",
    "# Get table with decode for each spike and generate decode bin mask\n",
    "\n",
    "dec_bin_size = 300     # Decode bin size in samples (usually 30kHz)\n",
    "\n",
    "x_no_anim_bounds = [69, 150, 150+102, 300, 300+104, 450]\n",
    "\n",
    "dec_bins = np.floor((spike_decode['timestamp'] - spike_decode['timestamp'][0])/dec_bin_size).astype('int')\n",
    "spike_decode['dec_bin'] = dec_bins\n",
    "\n",
    "\n",
    "pos_upper = config['encoder']['position']['upper']\n",
    "pos_lower = config['encoder']['position']['lower']\n",
    "pos_num_bins = config['encoder']['position']['bins']\n",
    "pos_bin_delta = ((pos_upper - pos_lower) / pos_num_bins)\n",
    "\n",
    "x_bins = np.linspace(0, pos_bin_delta*(pos_num_bins-1), pos_num_bins)\n",
    "x_bin_edges = np.linspace(0, pos_bin_delta*(pos_num_bins), pos_num_bins+1)\n",
    "\n",
    "pos_kernel = gaussian(x_bins, x_bins[int(len(x_bins)/2)], 3)\n"
   ]
  },
  {
   "cell_type": "code",
   "execution_count": 6,
   "metadata": {},
   "outputs": [],
   "source": [
    "# Get real position\n",
    "\n",
    "nspike_anim = nspike_data.AnimalInfo(**config['simulator']['nspike_animal_info'])\n",
    "pos = nspike_data.PosMatDataStream(nspike_anim)\n",
    "pos_data = pos.data\n"
   ]
  },
  {
   "cell_type": "code",
   "execution_count": 7,
   "metadata": {},
   "outputs": [],
   "source": [
    "# Transform position into simpler table with only linear position\n",
    "pos_data_time = pos_data.loc[:, 'time']\n",
    "\n",
    "pos_data_linpos = pos_data.loc[:,'lin_dist_well']\n",
    "pos_data_linpos.loc[:, 'lin_vel_center'] = pos_data.loc[:,('lin_vel', 'well_center')]\n",
    "pos_data_linpos.loc[:, 'seg_idx'] = pos_data.loc[:,('seg_idx', 0)]\n",
    "pos_data_linpos.loc[:,'timestamps'] = pos_data_time*30000\n",
    "pos_data_linpos = pos_data_linpos.set_index('timestamps')"
   ]
  },
  {
   "cell_type": "code",
   "execution_count": 8,
   "metadata": {
    "collapsed": true
   },
   "outputs": [],
   "source": [
    "# Convert real pos to realtime system linear map (single linear coordinate)\n",
    "\n",
    "center_pos_flat = pos_data_linpos[pos_data_linpos['seg_idx'] == 1]['well_center']\n",
    "left_pos_flat = pos_data_linpos[(pos_data_linpos['seg_idx'] == 2) | \n",
    "                                (pos_data_linpos['seg_idx'] == 3)]['well_left'] + 150\n",
    "right_pos_flat = pos_data_linpos[(pos_data_linpos['seg_idx'] == 4) | \n",
    "                                 (pos_data_linpos['seg_idx'] == 5)]['well_right'] + 300\n",
    "\n",
    "center_pos_flat.name = 'linpos_flat'\n",
    "left_pos_flat.name = 'linpos_flat'\n",
    "right_pos_flat.name = 'linpos_flat'\n",
    "\n",
    "linpos_flat = pd.concat([center_pos_flat, left_pos_flat, right_pos_flat])\n",
    "linpos_flat = linpos_flat.sort_index()\n"
   ]
  },
  {
   "cell_type": "code",
   "execution_count": 88,
   "metadata": {},
   "outputs": [],
   "source": [
    "# Calculate State Transition Matrix\n",
    "\n",
    "# Smoothing kernel for learned pos transition matrix\n",
    "xv, yv = np.meshgrid(np.arange(-20,21), np.arange(-20,21))\n",
    "kernel = normal2D(xv, yv, 1)\n",
    "kernel /= kernel.sum()\n",
    "\n",
    "linpos_state = linpos_flat\n",
    "linpos_ind = np.searchsorted(x_bins, linpos_state, side='right') - 1\n",
    "\n",
    "# Create learned pos transition matrix\n",
    "learned_trans_mat = np.zeros([pos_num_bins, pos_num_bins])\n",
    "for first_pos_ind, second_pos_ind in zip(linpos_ind[:-1], linpos_ind[1:]):\n",
    "    \n",
    "    learned_trans_mat[first_pos_ind, second_pos_ind] += 1\n",
    "\n",
    "\n",
    "# normalize\n",
    "learned_trans_mat = learned_trans_mat/( learned_trans_mat.sum(axis=0)[None,:])\n",
    "learned_trans_mat[np.isnan(learned_trans_mat)] = 0\n",
    "\n",
    "# smooth\n",
    "learned_trans_mat = sp.signal.convolve2d(learned_trans_mat, kernel, mode='same')\n",
    "learned_trans_mat = apply_no_anim_boundary(x_bins, x_no_anim_bounds, learned_trans_mat)\n",
    "\n",
    "# uniform offset\n",
    "uniform_gain = 0.01\n",
    "uniform_dist = np.ones(learned_trans_mat.shape)\n",
    "\n",
    "# no-animal boundary\n",
    "uniform_dist = apply_no_anim_boundary(x_bins, x_no_anim_bounds, uniform_dist)\n",
    "\n",
    "#normalize uniform offset\n",
    "uniform_dist = uniform_dist/( uniform_dist.sum(axis=0)[None,:])\n",
    "uniform_dist[np.isnan(uniform_dist)] = 0\n",
    "    \n",
    "# apply uniform offset\n",
    "learned_trans_mat = learned_trans_mat * (1 - uniform_gain) + uniform_dist * uniform_gain \n",
    "\n",
    "# renormalize\n",
    "learned_trans_mat = learned_trans_mat/( learned_trans_mat.sum(axis=0)[None,:])\n",
    "learned_trans_mat[np.isnan(learned_trans_mat)] = 0\n",
    "\n",
    "plt.figure(figsize=[20,20])\n",
    "plt.imshow(learned_trans_mat, cmap='hot')\n",
    "plt.colorbar()\n",
    "\n",
    "plt.show()"
   ]
  },
  {
   "cell_type": "code",
   "execution_count": 10,
   "metadata": {},
   "outputs": [],
   "source": [
    "%%time\n",
    "# Loop through each bin and generate the observation distribution from spikes in bin\n",
    "\n",
    "dec_bin_ids = np.unique(dec_bins)\n",
    "dec_est = np.zeros([dec_bin_ids[-1]+1, pos_num_bins])\n",
    "\n",
    "start_bin_time = np.floor(spike_decode['timestamp'][0] / dec_bin_size) * dec_bin_size\n",
    "dec_bin_times = np.arange(start_bin_time, start_bin_time + dec_bin_size * len(dec_est), dec_bin_size)\n",
    "\n",
    "# initialize conditional intensity function\n",
    "firing_rate = {ntrode_id: np.zeros(pos_num_bins) for ntrode_id in spike_decode['ntrode_id'].unique()}\n",
    "\n",
    "groups = spike_decode.groupby('dec_bin')\n",
    "bin_num_spikes = [0] * len(dec_est)\n",
    "\n",
    "for bin_id, spikes_in_bin in groups:\n",
    "    dec_in_bin = np.ones(pos_num_bins)\n",
    "    \n",
    "    \n",
    "    bin_num_spikes[bin_id] = len(spikes_in_bin)\n",
    "    \n",
    "    # Count spikes for occupancy firing rate (conditional intensity function)\n",
    "    for ntrode_id, pos in  spikes_in_bin.loc[:, ('ntrode_id', 'position')].values:\n",
    "        firing_rate[ntrode_id][np.searchsorted(x_bins, pos, side='right') - 1] += 1\n",
    "    \n",
    "    for dec_ii, dec in enumerate(spikes_in_bin.loc[:, 'x0':'x{:d}'.format(pos_num_bins-1)].values):\n",
    "        smooth_dec = np.convolve(dec, pos_kernel, mode='same')\n",
    "        dec_in_bin = dec_in_bin * smooth_dec\n",
    "        dec_in_bin = dec_in_bin / (np.sum(dec_in_bin) * pos_bin_delta)\n",
    "\n",
    "    dec_est[bin_id, :] = dec_in_bin\n",
    "    \n",
    "    \n",
    "# Smooth and normalize firing rate (conditional intensity function)\n",
    "for fr_key in firing_rate.keys():\n",
    "    firing_rate[fr_key] = np.convolve(firing_rate[fr_key], pos_kernel, mode='same')\n",
    "\n",
    "    firing_rate[fr_key] = apply_no_anim_boundary(x_bins, x_no_anim_bounds, firing_rate[fr_key])\n",
    "    \n",
    "    firing_rate[fr_key] = firing_rate[fr_key] / (firing_rate[fr_key].sum() * pos_bin_delta)"
   ]
  },
  {
   "cell_type": "code",
   "execution_count": 64,
   "metadata": {
    "scrolled": true
   },
   "outputs": [],
   "source": [
    "#Precompute prob of no spike from firing rate\n",
    "\n",
    "occupancy, occ_bin_edges = np.histogram(linpos_flat, bins=x_bin_edges, normed=True)\n",
    "\n",
    "occupancy = np.convolve(occupancy, pos_kernel, mode='same')\n",
    "\n",
    "prob_no_spike = {}\n",
    "for tet_id, tet_fr in firing_rate.items():\n",
    "    prob_no_spike[tet_id] = np.exp(-dec_bin_size/30000 * tet_fr / occupancy)\n"
   ]
  },
  {
   "cell_type": "code",
   "execution_count": 65,
   "metadata": {},
   "outputs": [],
   "source": [
    "# Compute the likelihood of each bin\n",
    "\n",
    "likelihoods = np.ones(dec_est.shape)\n",
    "\n",
    "\n",
    "for num_spikes, (dec_ind, dec_est_bin) in zip(bin_num_spikes, enumerate(dec_est)):\n",
    "    if num_spikes > 0:\n",
    "        likelihoods[dec_ind, :] = dec_est_bin\n",
    "        \n",
    "        for prob_no in prob_no_spike.values():\n",
    "            likelihoods[dec_ind, :] *= prob_no\n",
    "    else:\n",
    "        \n",
    "        for prob_no in prob_no_spike.values():\n",
    "            likelihoods[dec_ind, :] *= prob_no\n",
    "    \n",
    "    # Normalize\n",
    "    likelihoods[dec_ind, :] = likelihoods[dec_ind, :] / (likelihoods[dec_ind, :].sum() * pos_bin_delta)\n",
    "    "
   ]
  },
  {
   "cell_type": "code",
   "execution_count": 82,
   "metadata": {},
   "outputs": [],
   "source": [
    "%%time\n",
    "# Compute artificial gaussian state transition matrix\n",
    "\n",
    "last_posterior = np.ones(pos_num_bins)\n",
    "\n",
    "# Setup transition matrix\n",
    "transition_mat = np.ones([pos_num_bins, pos_num_bins])\n",
    "for bin_ii in range(pos_num_bins):\n",
    "    transition_mat[bin_ii, :] = gaussian(x_bins, x_bins[bin_ii], 3)\n",
    "\n",
    "# uniform offset\n",
    "uniform_gain = 0.01\n",
    "uniform_dist = np.ones(transition_mat.shape)\n",
    "\n",
    "# no-animal boundary\n",
    "boundary_ind = np.searchsorted(x_bins, [69, 150, 150+102, 300, 300+104, 450], side='right')\n",
    "boundary_ind = np.reshape(boundary_ind, [3,2])\n",
    "\n",
    "#for bounds in boundary_ind:\n",
    "#    uniform_dist[bounds[0]:bounds[1], :] = 0\n",
    "#    uniform_dist[:, bounds[0]:bounds[1]] = 0\n",
    "#    transition_mat[bounds[0]:bounds[1], :] = 0\n",
    "#    transition_mat[:, bounds[0]:bounds[1]] = 0\n",
    "\n",
    "# normalize transition matrix\n",
    "transition_mat = transition_mat/( transition_mat.sum(axis=0)[None,:])\n",
    "    \n",
    "#normalize uniform offset\n",
    "uniform_dist = uniform_dist/( uniform_dist.sum(axis=0)[None,:])\n",
    "    \n",
    "# apply uniform offset\n",
    "transition_mat = transition_mat * (1 - uniform_gain) + uniform_dist * uniform_gain \n",
    "\n",
    "    \n",
    "plt.figure(figsize=[10,10])\n",
    "plt.imshow(transition_mat, cmap='hot')\n",
    "plt.colorbar()\n",
    "plt.show()"
   ]
  },
  {
   "cell_type": "code",
   "execution_count": 67,
   "metadata": {
    "collapsed": true
   },
   "outputs": [],
   "source": [
    "# Iteratively calculate posterior\n",
    "\n",
    "posteriors = np.zeros(dec_est.shape)\n",
    "    \n",
    "for like_ii, like in enumerate(likelihoods):\n",
    "    posteriors[like_ii, :] = like * (learned_trans_mat * last_posterior).sum(axis=1)\n",
    "    posteriors[like_ii, :] = posteriors[like_ii, :] / (posteriors[like_ii, :].sum() * pos_bin_delta)\n",
    "    last_posterior = posteriors[like_ii, :]"
   ]
  },
  {
   "cell_type": "code",
   "execution_count": 68,
   "metadata": {},
   "outputs": [],
   "source": [
    "def plot_decode_2d(dec_est, dec_bin_times, stim_lockout_ranges, linpos_flat, plt_range):\n",
    "    stim_lockout_ranges_sec = stim_lockout_ranges/30000\n",
    "    stim_lockout_range_sec_sub = stim_lockout_ranges_sec[(stim_lockout_ranges_sec[1] > plt_range[0]) & (stim_lockout_ranges_sec[0] < plt_range[1])]\n",
    "    \n",
    "    plt.imshow(dec_est[(dec_bin_times > plt_range[0]*30000) & (dec_bin_times < plt_range[1]*30000)].transpose(), \n",
    "               extent=[plt_range[0], plt_range[1], 0, 450], origin='lower', aspect='auto', cmap='hot', zorder=0)\n",
    "\n",
    "    plt.colorbar()\n",
    "\n",
    "    # Plot linear position\n",
    "    linpos_index_s = linpos_flat.index / 30000\n",
    "    index_mask = (linpos_index_s > plt_range[0]) & (linpos_index_s < plt_range[1])\n",
    "\n",
    "    plt.plot(linpos_index_s[index_mask],\n",
    "             linpos_flat.values[index_mask], 'c.', zorder=1, markersize=5)\n",
    "\n",
    "    \n",
    "    plt.plot(stim_lockout_range_sec_sub.values.transpose(), np.tile([[440], [440]], [1, len(stim_lockout_range_sec_sub)]), 'c-*' )\n",
    "\n",
    "    for stim_lockout in stim_lockout_range_sec_sub.values:\n",
    "        plt.axvspan(stim_lockout[0], stim_lockout[1], facecolor='#AAAAAA', alpha=0.3)\n",
    "\n",
    "    plt.plot(plt_range, [74, 74], '--', color='gray')\n",
    "    plt.plot(plt_range, [148, 148], '--', color='gray')\n",
    "    plt.plot(plt_range, [256, 256], '--', color='gray')\n",
    "    plt.plot(plt_range, [298, 298], '--', color='gray')\n",
    "    plt.plot(plt_range, [407, 407], '--', color='gray')\n"
   ]
  },
  {
   "cell_type": "code",
   "execution_count": null,
   "metadata": {
    "scrolled": true
   },
   "outputs": [],
   "source": []
  },
  {
   "cell_type": "code",
   "execution_count": 84,
   "metadata": {
    "scrolled": false
   },
   "outputs": [],
   "source": [
    "plt_ranges = [[2930, 3050]]\n",
    "             \n",
    "for plt_range in plt_ranges:\n",
    "    \n",
    "    plt.figure(figsize=[400,20])\n",
    "    plt.subplot(2,1,1)\n",
    "    plot_decode_2d(dec_est, dec_bin_times, stim_lockout_ranges, linpos_flat, plt_range)\n",
    "    plt.subplot(2,1,2)\n",
    "    plot_decode_2d(posteriors, dec_bin_times, stim_lockout_ranges, linpos_flat, plt_range)\n",
    "\n",
    "\n",
    "plt.show()"
   ]
  },
  {
   "cell_type": "code",
   "execution_count": 70,
   "metadata": {
    "scrolled": false
   },
   "outputs": [],
   "source": [
    "likelihood_test = np.ones(len(x_bins))\n",
    "\n",
    "plt.figure( figsize=(40,20))\n",
    "for tet_ii, tet_fr in enumerate(firing_rate.values()):\n",
    "    likelihood_test *= np.exp(-dec_bin_size/30000 * (tet_fr / occupancy))\n",
    "    #for bound in boundary_ind:\n",
    "    #    likelihood_test[bound[0]:bound[1]] = 0\n",
    "    \n",
    "    #likelihood_test = likelihood_test / (likelihood_test.sum() * pos_bin_delta)\n",
    "    \n",
    "    \n",
    "    plt.subplot(9,2,tet_ii*2 + 1)\n",
    "    plt.plot( likelihood_test)\n",
    "    plt.subplot(9,2, tet_ii*2+2)\n",
    "    plt.plot(x_bins, tet_fr/occupancy)\n",
    "\n",
    "likelihood_test[np.isinf(likelihood_test)] = 0\n",
    "\n",
    "likelihood_test = np.convolve(likelihood_test, pos_kernel, mode='same')\n",
    "plt.subplot(9,2, 17)\n",
    "plt.plot(x_bins, likelihood_test)\n",
    "    \n",
    "plt.show()"
   ]
  },
  {
   "cell_type": "code",
   "execution_count": 71,
   "metadata": {
    "scrolled": false
   },
   "outputs": [],
   "source": [
    "\n",
    "plt_ii = 79953\n",
    "num_spikes = bin_num_spikes[plt_ii]\n",
    "plt.figure(figsize=[10*num_spikes,5])\n",
    "plt_spk_dec = spike_decode.query('dec_bin == {}'.format(plt_ii))\n",
    "\n",
    "spk_dec_single_agg = np.ones(len(x_bins))\n",
    "for subplt_ii, spk_dec_single in enumerate(plt_spk_dec.loc[:, 'x0':'x{:d}'.format(pos_num_bins-1)].values):\n",
    "    plt.subplot(1,6,subplt_ii+1)\n",
    "    plt.plot(x_bins, spk_dec_single)\n",
    "    spk_dec_single_agg *= spk_dec_single + 0.001\n",
    "    \n",
    "plt.subplot(1,6,6)\n",
    "plt.plot(x_bins, spk_dec_single_agg)\n",
    "    \n",
    "plt.figure(figsize=[30,5])\n",
    "print(\"ii {} had {} spikes\".format(plt_ii, num_spikes))\n",
    "plt.subplot(1,4,1)\n",
    "plt.plot(x_bins, dec_est[plt_ii,:])\n",
    "plt.title('aggregate observations')\n",
    "plt.subplot(1,4,2)\n",
    "plt.plot(x_bins, likelihoods[plt_ii,:])\n",
    "plt.title('likelihoods')\n",
    "plt.subplot(1,4,3)\n",
    "plt.plot(x_bins, posteriors[plt_ii-1,:])\n",
    "plt.title('last_posterior')\n",
    "plt.subplot(1,4,4)\n",
    "plt.plot(x_bins, posteriors[plt_ii,:])\n",
    "plt.title('posteriors')\n",
    "plt.show()"
   ]
  },
  {
   "cell_type": "code",
   "execution_count": 72,
   "metadata": {},
   "outputs": [],
   "source": [
    "np.searchsorted(dec_bin_times, 3260*30000)\n",
    "np.sum(dec_est[79900]) * 3\n",
    "(np.sum(posteriors, axis=1) * 3).all()\n",
    "\n",
    "bin_num_spikes[79900]"
   ]
  },
  {
   "cell_type": "code",
   "execution_count": null,
   "metadata": {
    "collapsed": true
   },
   "outputs": [],
   "source": []
  },
  {
   "cell_type": "code",
   "execution_count": 73,
   "metadata": {},
   "outputs": [],
   "source": [
    "#plt.plot(dec_est[79900])\n",
    "plt.plot(posteriors[79900,:])\n",
    "\n",
    "plt.show()\n"
   ]
  },
  {
   "cell_type": "code",
   "execution_count": 74,
   "metadata": {
    "scrolled": false
   },
   "outputs": [],
   "source": [
    "linpos_2cm = linpos_flat[pos_data_linpos['lin_vel_center'] > 5]\n",
    "linpos_ind = np.searchsorted(x_bins, linpos_2cm, side='right') - 1\n",
    "print(len(linpos_ind[1:]))\n",
    "\n",
    "pos_ind_bootstrap = np.random.randint(0, len(linpos_2cm)-10, 1000000)\n",
    "\n",
    "learned_trans_mat_fast = np.zeros([pos_num_bins, pos_num_bins])\n",
    "for first_pos in pos_ind_bootstrap:\n",
    "    learned_trans_mat_fast[linpos_ind[first_pos], linpos_ind[first_pos+10]] += 1\n",
    "    \n",
    "plt.figure(figsize=[10,10])\n",
    "plt.imshow(learned_trans_mat_fast, cmap='hot')\n",
    "plt.colorbar()\n",
    "plt.show()"
   ]
  },
  {
   "cell_type": "code",
   "execution_count": 75,
   "metadata": {},
   "outputs": [],
   "source": [
    "boundary_ind_mat = np.reshape(boundary_ind, [3,2])\n",
    "select_valid_bound = []\n",
    "for bounds in boundary_ind_mat:\n",
    "    select_valid_bound += range(bounds[0], bounds[1]+1)\n",
    "\n",
    "learned_trans_mat[0:22, :]\n"
   ]
  },
  {
   "cell_type": "code",
   "execution_count": 76,
   "metadata": {},
   "outputs": [],
   "source": [
    "plt.plot(occupancy)\n",
    "plt.show()"
   ]
  },
  {
   "cell_type": "code",
   "execution_count": 77,
   "metadata": {
    "scrolled": false
   },
   "outputs": [],
   "source": [
    "likelihood_test = np.ones(len(x_bins))\n",
    "\n",
    "plt.figure( figsize=(40,20))\n",
    "for tet_ii, tet_fr in enumerate(firing_rate.values()):\n",
    "    likelihood_test *= np.exp(-dec_bin_size/30000/10 * (tet_fr + 1))\n",
    "    for bound in boundary_ind:\n",
    "        likelihood_test[bound[0]:bound[1]] = 0\n",
    "    \n",
    "    #likelihood_test = likelihood_test / (likelihood_test.sum() * pos_bin_delta)\n",
    "    \n",
    "    plt.subplot(8,2,tet_ii*2 + 1)\n",
    "    plt.plot( likelihood_test)\n",
    "    plt.subplot(8,2, tet_ii*2+2)\n",
    "    plt.plot(x_bins, tet_fr)\n",
    "    \n",
    "plt.show()"
   ]
  },
  {
   "cell_type": "code",
   "execution_count": 78,
   "metadata": {
    "scrolled": true
   },
   "outputs": [],
   "source": [
    "spike_decode"
   ]
  },
  {
   "cell_type": "code",
   "execution_count": 79,
   "metadata": {},
   "outputs": [],
   "source": [
    "for tet_fr in firing_rate.values():\n",
    "    plt.figure()\n",
    "    plt.plot(x_bins, ( tet_fr))\n",
    "\n",
    "plt.show()"
   ]
  },
  {
   "cell_type": "code",
   "execution_count": 80,
   "metadata": {
    "scrolled": false
   },
   "outputs": [],
   "source": [
    "plt_ii = 79900\n",
    "num_spikes = bin_num_spikes[plt_ii]\n",
    "plt.figure(figsize=[10*num_spikes,5])\n",
    "plt_spk_dec = spike_decode.query('dec_bin == {}'.format(plt_ii))\n",
    "\n",
    "for subplt_ii, spk_dec_single in enumerate(plt_spk_dec.loc[:, 'x0':'x149'].values):\n",
    "    plt.subplot(1,4,subplt_ii+1)\n",
    "    plt.plot(x_bins, spk_dec_single)\n",
    "    \n",
    "plt.figure(figsize=[30,5])\n",
    "print(\"ii {} had {} spikes\".format(plt_ii, num_spikes))\n",
    "plt.subplot(1,4,1)\n",
    "plt.plot(x_bins, dec_est[plt_ii,:])\n",
    "plt.title('aggregate observations')\n",
    "plt.subplot(1,4,2)\n",
    "plt.plot(x_bins, likelihoods[plt_ii,:])\n",
    "plt.title('likelihoods')\n",
    "plt.subplot(1,4,3)\n",
    "plt.plot(x_bins, posteriors[plt_ii-1,:])\n",
    "plt.title('last_posterior')\n",
    "plt.subplot(1,4,4)\n",
    "plt.plot(x_bins, posteriors[plt_ii,:])\n",
    "plt.title('posteriors')\n",
    "plt.show()"
   ]
  },
  {
   "cell_type": "code",
   "execution_count": null,
   "metadata": {
    "scrolled": false
   },
   "outputs": [],
   "source": [
    "spikes_in_bin.loc[:, ['trode_id', 'position']]"
   ]
  },
  {
   "cell_type": "code",
   "execution_count": null,
   "metadata": {
    "scrolled": true
   },
   "outputs": [],
   "source": [
    "#plt.plot(firing_rate)\n",
    "plt.plot(np.exp(-dec_bin_size/30000 * firing_rate))\n",
    "plt.show()\n"
   ]
  }
 ],
 "metadata": {
  "git": {
   "suppress_outputs": true
  },
  "kernelspec": {
   "display_name": "Python 3",
   "language": "python",
   "name": "python3"
  },
  "language_info": {
   "codemirror_mode": {
    "name": "ipython",
    "version": 3
   },
   "file_extension": ".py",
   "mimetype": "text/x-python",
   "name": "python",
   "nbconvert_exporter": "python",
   "pygments_lexer": "ipython3",
   "version": "3.6.1"
  }
 },
 "nbformat": 4,
 "nbformat_minor": 2
}