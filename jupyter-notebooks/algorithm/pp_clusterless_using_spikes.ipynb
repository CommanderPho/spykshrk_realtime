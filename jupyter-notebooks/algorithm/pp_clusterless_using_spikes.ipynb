{
 "cells": [
  {
   "cell_type": "code",
   "execution_count": 1,
   "metadata": {
    "collapsed": true
   },
   "outputs": [],
   "source": [
    "import pandas as pd\n",
    "import numpy as np\n",
    "import matplotlib.pyplot as plt\n",
    "import json\n",
    "import os\n",
    "\n",
    "import spykshrk.realtime.simulator.nspike_data as nspike_data\n",
    "\n",
    "#pd.set_option('float_format', '{:,.2f}'.format)\n",
    "pd.set_option('display.precision', 4)\n",
    "pd.set_option('display.max_rows', 10)\n",
    "#pd.set_option('display.width', 180)\n",
    "\n",
    "\n",
    "idx = pd.IndexSlice\n",
    "\n",
    "def gaussian(x, mu, sig):\n",
    "    return np.exp(-np.power(x - mu, 2.) / (2 * np.power(sig, 2.)))\n"
   ]
  },
  {
   "cell_type": "code",
   "execution_count": 2,
   "metadata": {},
   "outputs": [],
   "source": [
    "%%time\n",
    "# Load merged rec HDF store based on config\n",
    "\n",
    "config_file = '/opt/data36/daliu/realtime/spykshrk/ripple_dec/bond.config.json'\n",
    "config = json.load(open(config_file, 'r'))\n",
    "\n",
    "hdf_file = os.path.join(config['files']['output_dir'],\n",
    "                        '{}.rec_merged.h5'.format(config['files']['prefix']))\n",
    "\n",
    "store = pd.HDFStore(hdf_file, mode='r')\n",
    "spike_decode = store['rec_3']\n",
    "stim_lockout = store['rec_11']"
   ]
  },
  {
   "cell_type": "code",
   "execution_count": 3,
   "metadata": {},
   "outputs": [],
   "source": [
    "%%time\n",
    "stim_lockout_ranges = stim_lockout.pivot(index='lockout_num',columns='lockout_state', values='timestamp')\n",
    "stim_lockout_ranges = stim_lockout_ranges.reindex(columns=[1,0])\n"
   ]
  },
  {
   "cell_type": "code",
   "execution_count": 4,
   "metadata": {},
   "outputs": [],
   "source": [
    "%%time\n",
    "# Get table with decode for each spike and generate decode bin mask\n",
    "\n",
    "dec_bin_size = 750     # Decode bin size in samples (usually 30kHz)\n",
    "\n",
    "dec_bins = np.floor((spike_decode['timestamp'] - spike_decode['timestamp'][0])/dec_bin_size).astype('int')\n",
    "spike_decode['dec_bin'] = dec_bins"
   ]
  },
  {
   "cell_type": "code",
   "execution_count": 5,
   "metadata": {},
   "outputs": [],
   "source": [
    "# Get real position\n",
    "\n",
    "nspike_anim = nspike_data.AnimalInfo(**config['simulator']['nspike_animal_info'])\n",
    "pos = nspike_data.PosMatDataStream(nspike_anim)\n",
    "pos_data = pos.data\n"
   ]
  },
  {
   "cell_type": "code",
   "execution_count": 6,
   "metadata": {},
   "outputs": [],
   "source": [
    "# Transform position into simpler table with only linear position\n",
    "pos_data_time = pos_data.loc[:, 'time']\n",
    "\n",
    "pos_data_linpos = pos_data.loc[:,'lin_dist_well']\n",
    "pos_data_linpos.loc[:, 'lin_vel_center'] = pos_data.loc[:,('lin_vel', 'well_center')]\n",
    "pos_data_linpos.loc[:, 'seg_idx'] = pos_data.loc[:,('seg_idx', 0)]\n",
    "pos_data_linpos.loc[:,'timestamps'] = pos_data_time*30000\n",
    "pos_data_linpos = pos_data_linpos.set_index('timestamps')"
   ]
  },
  {
   "cell_type": "code",
   "execution_count": 7,
   "metadata": {
    "collapsed": true
   },
   "outputs": [],
   "source": [
    "# Convert real pos to realtime system linear map (single linear coordinate)\n",
    "\n",
    "center_pos_flat = pos_data_linpos[pos_data_linpos['seg_idx'] == 1]['well_center']\n",
    "left_pos_flat = pos_data_linpos[(pos_data_linpos['seg_idx'] == 2) | \n",
    "                                (pos_data_linpos['seg_idx'] == 3)]['well_left'] + 150\n",
    "right_pos_flat = pos_data_linpos[(pos_data_linpos['seg_idx'] == 4) | \n",
    "                                 (pos_data_linpos['seg_idx'] == 5)]['well_right'] + 300\n",
    "\n",
    "center_pos_flat.name = 'linpos_flat'\n",
    "left_pos_flat.name = 'linpos_flat'\n",
    "right_pos_flat.name = 'linpos_flat'\n",
    "\n",
    "linpos_flat = pd.concat([center_pos_flat, left_pos_flat, right_pos_flat])\n",
    "linpos_flat = linpos_flat.sort_index()\n"
   ]
  },
  {
   "cell_type": "code",
   "execution_count": 9,
   "metadata": {},
   "outputs": [],
   "source": [
    "%%time\n",
    "# Loop through each bin and generate normalized posterior estimate of location\n",
    "\n",
    "pos_bin_delta = ((config['encoder']['position']['upper'] - config['encoder']['position']['lower']) / \n",
    "                 config['encoder']['position']['bins'])\n",
    "pos_num_bins = config['encoder']['position']['bins']\n",
    "\n",
    "x_bins = np.linspace(0, pos_bin_delta*(pos_num_bins-1), pos_num_bins)\n",
    "\n",
    "pos_kernel = gaussian(x_bins, x_bins[int(len(x_bins)/2)], 7)\n",
    "\n",
    "\n",
    "\n",
    "dec_bin_ids = np.unique(dec_bins)\n",
    "dec_est = np.zeros([dec_bin_ids[-1]+1, pos_num_bins])\n",
    "\n",
    "start_bin_time = np.floor(spike_decode['timestamp'][0] / dec_bin_size) * dec_bin_size\n",
    "dec_bin_times = np.arange(start_bin_time, start_bin_time + dec_bin_size * len(dec_est), dec_bin_size)\n",
    "\n",
    "firing_rate = np.zeros(pos_num_bins)\n",
    "\n",
    "groups = spike_decode.groupby('dec_bin')\n",
    "bin_num_spikes = [0] * len(dec_est)\n",
    "\n",
    "for bin_id, spikes_in_bin in groups:\n",
    "    dec_in_bin = np.ones(pos_num_bins)\n",
    "    \n",
    "    bin_num_spikes[bin_id] = len(spikes_in_bin)\n",
    "    \n",
    "    # Count spikes for occupancy firing rate\n",
    "    for pos in spikes_in_bin.loc[:, 'position'].values:\n",
    "        firing_rate[np.searchsorted(x_bins, pos, side='right') - 1] += 1\n",
    "    \n",
    "    for dec_ii, dec in enumerate(spikes_in_bin.loc[:, 'x0':'x{:d}'.format(pos_num_bins-1)].values):\n",
    "        smooth_dec = np.convolve(dec, pos_kernel, mode='same')\n",
    "        dec_in_bin = dec_in_bin * smooth_dec + 0.0000001\n",
    "        dec_in_bin = dec_in_bin / (np.sum(dec_in_bin) * pos_bin_delta)\n",
    "\n",
    "    dec_est[bin_id, :] = dec_in_bin\n",
    "    \n",
    "    \n",
    "firing_rate = firing_rate/(15*60)"
   ]
  },
  {
   "cell_type": "code",
   "execution_count": 10,
   "metadata": {},
   "outputs": [],
   "source": [
    "\n",
    "likelihoods = np.zeros(dec_est.shape)\n",
    "\n",
    "for num_spikes, (dec_ind, dec_est_bin) in zip(bin_num_spikes, enumerate(dec_est)):\n",
    "    if num_spikes > 0:\n",
    "        likelihoods[dec_ind, :] = dec_est_bin * np.exp(-dec_bin_size/30000 * firing_rate)\n",
    "    else:\n",
    "        likelihoods[dec_ind, :] = np.exp(-dec_bin_size/30000 * firing_rate)\n",
    "    \n",
    "    # Normalize\n",
    "    likelihoods[dec_ind, :] = likelihoods[dec_ind, :] / (likelihoods[dec_ind, :].sum() * pos_bin_delta)"
   ]
  },
  {
   "cell_type": "code",
   "execution_count": 11,
   "metadata": {},
   "outputs": [],
   "source": [
    "\n",
    "last_likelihood = np.ones(pos_num_bins)\n",
    "\n",
    "# Setup transition matrix\n",
    "transition_mat = np.ones([pos_num_bins, pos_num_bins])\n",
    "for bin_ii in range(pos_num_bins):\n",
    "    transition_mat[bin_ii, :] = gaussian(x_bins, x_bins[bin_ii], 20)\n",
    "\n",
    "posteriors = np.zeros(dec_est.shape)\n",
    "    \n",
    "for like_ii, like in enumerate(likelihoods):\n",
    "    posteriors[like_ii, :] = like * (transition_mat * last_likelihood).sum(axis=1)\n",
    "    posteriors[like_ii, :] = posteriors[like_ii, :] / (posteriors[like_ii, :].sum() * pos_bin_delta)\n",
    "    last_likelihood = posteriors[like_ii, :]"
   ]
  },
  {
   "cell_type": "code",
   "execution_count": 12,
   "metadata": {
    "scrolled": false
   },
   "outputs": [],
   "source": [
    "plt_ii = 10006\n",
    "num_spikes = bin_num_spikes[plt_ii\n",
    "                           ]\n",
    "plt.figure(figsize=[10*num_spikes,5])\n",
    "plt_spk_dec = spike_decode.query('dec_bin == {}'.format(plt_ii))\n",
    "\n",
    "for subplt_ii, spk_dec_single in enumerate(plt_spk_dec.loc[:, 'x0':'x149'].values):\n",
    "    plt.subplot(1,4,subplt_ii+1)\n",
    "    plt.plot(x_bins, spk_dec_single)\n",
    "    \n",
    "plt.figure(figsize=[30,5])\n",
    "print(\"ii {} had {} spikes\".format(plt_ii, num_spikes))\n",
    "plt.subplot(1,4,1)\n",
    "plt.plot(x_bins, dec_est[plt_ii,:])\n",
    "plt.title('aggregate observations')\n",
    "plt.subplot(1,4,2)\n",
    "plt.plot(x_bins, likelihoods[plt_ii,:])\n",
    "plt.title('likelihoods')\n",
    "plt.subplot(1,4,3)\n",
    "plt.plot(x_bins, posteriors[plt_ii-1,:])\n",
    "plt.title('last_posterior')\n",
    "plt.subplot(1,4,4)\n",
    "plt.plot(x_bins, posteriors[plt_ii,:])\n",
    "plt.title('posteriors')\n",
    "plt.show()"
   ]
  },
  {
   "cell_type": "code",
   "execution_count": 13,
   "metadata": {
    "scrolled": true
   },
   "outputs": [],
   "source": [
    "#plt.plot(firing_rate)\n",
    "plt.plot(np.exp(-dec_bin_size/30000 * firing_rate))\n",
    "plt.show()\n"
   ]
  },
  {
   "cell_type": "code",
   "execution_count": 14,
   "metadata": {
    "scrolled": false
   },
   "outputs": [],
   "source": [
    "plt_ranges = [[5070, 5300]]\n",
    "             \n",
    "for plt_range in plt_ranges:\n",
    "    stim_lockout_ranges_sec = stim_lockout_ranges/30000\n",
    "    stim_lockout_range_sec_sub = stim_lockout_ranges_sec[(stim_lockout_ranges_sec[1] > plt_range[0]) & (stim_lockout_ranges_sec[0] < plt_range[1])]\n",
    "\n",
    "    plt.figure(figsize=[600,20])\n",
    "    plt.subplot(2,1,1)\n",
    "    \n",
    "    plt.imshow(dec_est[(dec_bin_times > plt_range[0]*30000) & (dec_bin_times < plt_range[1]*30000)].transpose(), \n",
    "               extent=[plt_range[0], plt_range[1], 0, 450], origin='lower', aspect='auto', cmap='hot', zorder=0)\n",
    "\n",
    "    plt.colorbar()\n",
    "\n",
    "    linpos_index_s = linpos_flat.index / 30000\n",
    "    index_mask = (linpos_index_s > plt_range[0]) & (linpos_index_s < plt_range[1])\n",
    "\n",
    "    plt.plot(linpos_index_s[index_mask],\n",
    "             linpos_flat.values[index_mask], 'c.', zorder=1, markersize=5)\n",
    "\n",
    "    \n",
    "    plt.plot(stim_lockout_range_sec_sub.values.transpose(), np.tile([[440], [440]], [1, len(stim_lockout_range_sec_sub)]), 'c-*' )\n",
    "\n",
    "    for stim_lockout in stim_lockout_range_sec_sub.values:\n",
    "        plt.axvspan(stim_lockout[0], stim_lockout[1], facecolor='#AAAAAA', alpha=0.3)\n",
    "\n",
    "    plt.plot(plt_range, [74, 74], '--', color='gray')\n",
    "    plt.plot(plt_range, [148, 148], '--', color='gray')\n",
    "    plt.plot(plt_range, [256, 256], '--', color='gray')\n",
    "    plt.plot(plt_range, [298, 298], '--', color='gray')\n",
    "    plt.plot(plt_range, [407, 407], '--', color='gray')\n",
    "    \n",
    "    plt.subplot(2,1,2)\n",
    "    \n",
    "    plt.imshow(posteriors[(dec_bin_times > plt_range[0]*30000) & (dec_bin_times < plt_range[1]*30000)].transpose(), \n",
    "               extent=[plt_range[0], plt_range[1], 0, 450], origin='lower', aspect='auto', cmap='hot', zorder=0)\n",
    "    plt.colorbar()\n",
    "\n",
    "    \n",
    "    linpos_index_s = linpos_flat.index / 30000\n",
    "    index_mask = (linpos_index_s > plt_range[0]) & (linpos_index_s < plt_range[1])\n",
    "\n",
    "    plt.plot(linpos_index_s[index_mask],\n",
    "             linpos_flat.values[index_mask], 'c.', zorder=1, markersize=5)\n",
    "\n",
    "    \n",
    "    plt.plot(stim_lockout_range_sec_sub.values.transpose(), np.tile([[440], [440]], [1, len(stim_lockout_range_sec_sub)]), 'c-*' )\n",
    "\n",
    "    for stim_lockout in stim_lockout_range_sec_sub.values:\n",
    "        plt.axvspan(stim_lockout[0], stim_lockout[1], facecolor='#AAAAAA', alpha=0.3)\n",
    "\n",
    "    plt.plot(plt_range, [74, 74], '--', color='gray')\n",
    "    plt.plot(plt_range, [148, 148], '--', color='gray')\n",
    "    plt.plot(plt_range, [256, 256], '--', color='gray')\n",
    "    plt.plot(plt_range, [298, 298], '--', color='gray')\n",
    "    plt.plot(plt_range, [407, 407], '--', color='gray')\n",
    "\n",
    "plt.show()"
   ]
  },
  {
   "cell_type": "code",
   "execution_count": 15,
   "metadata": {},
   "outputs": [],
   "source": [
    "dec_bin_times/30000"
   ]
  },
  {
   "cell_type": "code",
   "execution_count": 16,
   "metadata": {},
   "outputs": [],
   "source": [
    "np.nonzero((dec_bin_times > plt_range[0]*30000) & (dec_bin_times < plt_range[1]*30000))"
   ]
  },
  {
   "cell_type": "code",
   "execution_count": 17,
   "metadata": {},
   "outputs": [],
   "source": [
    "x_bins"
   ]
  }
 ],
 "metadata": {
  "git": {
   "suppress_outputs": true
  },
  "kernelspec": {
   "display_name": "Python 3",
   "language": "python",
   "name": "python3"
  },
  "language_info": {
   "codemirror_mode": {
    "name": "ipython",
    "version": 3
   },
   "file_extension": ".py",
   "mimetype": "text/x-python",
   "name": "python",
   "nbconvert_exporter": "python",
   "pygments_lexer": "ipython3",
   "version": "3.6.1"
  }
 },
 "nbformat": 4,
 "nbformat_minor": 2
}