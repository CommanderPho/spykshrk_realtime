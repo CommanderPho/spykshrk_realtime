{
 "cells": [
  {
   "cell_type": "code",
   "execution_count": 3,
   "metadata": {
    "collapsed": true
   },
   "outputs": [],
   "source": [
    "import pstats\n",
    "import os.path"
   ]
  },
  {
   "cell_type": "code",
   "execution_count": 61,
   "metadata": {
    "collapsed": false
   },
   "outputs": [],
   "source": [
    "prof_dir = '/home/daliu/output/'\n",
    "filename = 'test_animal.01.pstats'\n",
    "p = pstats.Stats(os.path.join(prof_dir, filename))"
   ]
  },
  {
   "cell_type": "code",
   "execution_count": 62,
   "metadata": {
    "collapsed": false,
    "scrolled": false
   },
   "outputs": [
    {
     "name": "stdout",
     "output_type": "stream",
     "text": [
      "Fri May 26 19:39:52 2017    /home/daliu/output/test_animal.01.pstats\n",
      "\n",
      "         10817926 function calls (10817991 primitive calls) in 61.234 seconds\n",
      "\n",
      "   Random listing order was used\n",
      "   List reduced from 642 to 20 due to restriction <20>\n",
      "\n",
      "   ncalls  tottime  percall  cumtime  percall filename:lineno(function)\n",
      "        1    0.000    0.000  125.805  125.805 realtime_process.py:121(SimulatorProcess.outer)\n",
      "        1    0.000    0.000  125.805  125.805 simulator_process.py:90(SimulatorProcess.main_loop)\n",
      "   452009    3.562    0.000   59.635    0.000 sim_databuffer.py:22(SimDataBuffer.__call__)\n",
      "   449915   16.508    0.000   40.803    0.000 nspike_data.py:468(EEGDataStream.__call__)\n",
      "   181350    0.550    0.000   19.018    0.000 generic.py:2910(DataFrame.values)\n",
      "   181350    1.427    0.000   18.468    0.000 generic.py:2868(DataFrame.as_matrix)\n",
      "   181350    1.292    0.000   12.509    0.000 internals.py:3391(BlockManager.as_matrix)\n",
      "     2095    0.029    0.000   12.462    0.006 nspike_data.py:972(PosMatDataStream.__call__)\n",
      "      700    0.197    0.000   12.395    0.018 nspike_data.py:917(PosMatData.__call__)\n",
      "   904084    5.094    0.000   11.408    0.000 threading.py:533(Event.wait)\n",
      "    14658    0.155    0.000    6.423    0.000 series.py:600(Series.__getitem__)\n",
      "   181361    2.184    0.000    5.859    0.000 internals.py:2829(BlockManager._is_single_block)\n",
      "    12564    0.182    0.000    5.837    0.000 multi.py:681(MultiIndex.get_value)\n",
      "   183442    0.668    0.000    5.394    0.000 internals.py:154(FloatBlock.get_values)\n",
      "     4188    0.208    0.000    5.270    0.001 multi.py:689(_try_mi)\n",
      "   184899    0.813    0.000    4.755    0.000 common.py:54(is_object_dtype)\n",
      "   182051    0.560    0.000    4.547    0.000 generic.py:2795(DataFrame._consolidate_inplace)\n",
      "   811213    3.401    0.000    4.299    0.000 base.py:1406(Float64Index.__getitem__)\n",
      "   182751    1.152    0.000    3.992    0.000 generic.py:2785(DataFrame._protect_consolidate)\n",
      "190075/190083    2.540    0.000    3.717    0.000 common.py:357(_get_dtype_type)\n",
      "\n",
      "\n"
     ]
    },
    {
     "data": {
      "text/plain": [
       "<pstats.Stats at 0x7ff2aa159ba8>"
      ]
     },
     "execution_count": 62,
     "metadata": {},
     "output_type": "execute_result"
    }
   ],
   "source": [
    "p.sort_stats('cumtime')\n",
    "p.strip_dirs()\n",
    "p.print_stats(20)"
   ]
  },
  {
   "cell_type": "code",
   "execution_count": 64,
   "metadata": {
    "collapsed": false
   },
   "outputs": [
    {
     "name": "stdout",
     "output_type": "stream",
     "text": [
      "   Random listing order was used\n",
      "   List reduced from 642 to 1 due to restriction <'EEGDataStream.__call__'>\n",
      "\n",
      "Function                                    called...\n",
      "                                                ncalls  tottime  cumtime\n",
      "nspike_data.py:468(EEGDataStream.__call__)  ->       1    0.000    0.000  base.py:497(Float64Index.__array__)\n",
      "                                                     1    0.000    0.000  base.py:501(Float64Index.__array_wrap__)\n",
      "                                                     1    0.000    0.001  base.py:897(Float64Index.argmin)\n",
      "                                                809815    3.385    4.282  base.py:1406(Float64Index.__getitem__)\n",
      "                                                     1    0.000    0.001  base.py:3492(Float64Index._evaluate_numeric_binop)\n",
      "                                                449914    1.258    1.258  datatypes.py:19(LFPPoint.__init__)\n",
      "                                                179950    0.537   18.754  generic.py:2910(DataFrame.values)\n",
      "\n",
      "\n"
     ]
    },
    {
     "data": {
      "text/plain": [
       "<pstats.Stats at 0x7ff2aa159ba8>"
      ]
     },
     "execution_count": 64,
     "metadata": {},
     "output_type": "execute_result"
    }
   ],
   "source": [
    "p.print_callees('EEGDataStream.__call__')"
   ]
  },
  {
   "cell_type": "code",
   "execution_count": 66,
   "metadata": {
    "collapsed": false
   },
   "outputs": [
    {
     "name": "stdout",
     "output_type": "stream",
     "text": [
      "Fri May 26 20:26:42 2017    /home/daliu/output/timing3/test_animal.01.pstats\n",
      "\n",
      "         10637976 function calls (10638041 primitive calls) in 51.890 seconds\n",
      "\n",
      "   Random listing order was used\n",
      "   List reduced from 642 to 20 due to restriction <20>\n",
      "\n",
      "   ncalls  tottime  percall  cumtime  percall filename:lineno(function)\n",
      "        1    0.000    0.000  125.231  125.231 realtime_process.py:121(SimulatorProcess.outer)\n",
      "        1    0.000    0.000  125.231  125.231 simulator_process.py:90(SimulatorProcess.main_loop)\n",
      "   452009    2.701    0.000   49.803    0.000 sim_databuffer.py:22(SimDataBuffer.__call__)\n",
      "   449915   12.447    0.000   32.478    0.000 nspike_data.py:468(EEGDataStream.__call__)\n",
      "   181350    0.393    0.000   16.203    0.000 generic.py:2910(DataFrame.values)\n",
      "   181350    1.449    0.000   15.809    0.000 generic.py:2868(DataFrame.as_matrix)\n",
      "     2095    0.016    0.000   12.287    0.006 nspike_data.py:975(PosMatDataStream.__call__)\n",
      "      700    0.190    0.000   12.254    0.018 nspike_data.py:920(PosMatData.__call__)\n",
      "   904084    4.456    0.000   10.229    0.000 threading.py:533(Event.wait)\n",
      "   181350    1.044    0.000   10.121    0.000 internals.py:3391(BlockManager.as_matrix)\n",
      "    14658    0.235    0.000    6.738    0.000 series.py:600(Series.__getitem__)\n",
      "    12564    0.106    0.000    5.975    0.000 multi.py:681(MultiIndex.get_value)\n",
      "     4188    0.221    0.000    5.409    0.001 multi.py:689(_try_mi)\n",
      "   183442    0.414    0.000    4.587    0.000 internals.py:154(FloatBlock.get_values)\n",
      "   181361    1.793    0.000    4.540    0.000 internals.py:2829(BlockManager._is_single_block)\n",
      "   182051    0.612    0.000    4.257    0.000 generic.py:2795(DataFrame._consolidate_inplace)\n",
      "   184899    0.857    0.000    4.134    0.000 common.py:54(is_object_dtype)\n",
      "   182751    0.939    0.000    3.649    0.000 generic.py:2785(DataFrame._protect_consolidate)\n",
      "     2099    0.098    0.000    3.186    0.002 frame.py:2035(DataFrame.__getitem__)\n",
      "190075/190083    2.271    0.000    3.136    0.000 common.py:357(_get_dtype_type)\n",
      "\n",
      "\n"
     ]
    },
    {
     "data": {
      "text/plain": [
       "<pstats.Stats at 0x7ff2a9e61fd0>"
      ]
     },
     "execution_count": 66,
     "metadata": {},
     "output_type": "execute_result"
    }
   ],
   "source": [
    "prof_dir2 = '/home/daliu/output/timing3/'\n",
    "filename2 = 'test_animal.01.pstats'\n",
    "p2 = pstats.Stats(os.path.join(prof_dir2, filename2))\n",
    "p2.sort_stats('cumtime')\n",
    "p2.strip_dirs()\n",
    "p2.print_stats(20)"
   ]
  },
  {
   "cell_type": "code",
   "execution_count": 72,
   "metadata": {
    "collapsed": false
   },
   "outputs": [
    {
     "name": "stdout",
     "output_type": "stream",
     "text": [
      "Fri May 26 21:04:19 2017    /home/daliu/output/timing4/test_animal.01.pstats\n",
      "\n",
      "         10637976 function calls (10638041 primitive calls) in 49.894 seconds\n",
      "\n",
      "   Random listing order was used\n",
      "   List reduced from 642 to 20 due to restriction <20>\n",
      "\n",
      "   ncalls  tottime  percall  cumtime  percall filename:lineno(function)\n",
      "        1    0.000    0.000  118.002  118.002 realtime_process.py:121(SimulatorProcess.outer)\n",
      "        1    0.000    0.000  118.002  118.002 simulator_process.py:90(SimulatorProcess.main_loop)\n",
      "   452009    4.077    0.000   46.285    0.000 sim_databuffer.py:22(SimDataBuffer.__call__)\n",
      "   449915    9.237    0.000   27.594    0.000 nspike_data.py:468(EEGDataStream.__call__)\n",
      "   181350    0.379    0.000   15.362    0.000 generic.py:2910(DataFrame.values)\n",
      "   181350    1.117    0.000   14.983    0.000 generic.py:2868(DataFrame.as_matrix)\n",
      "   904084    5.270    0.000   12.346    0.000 threading.py:533(Event.wait)\n",
      "     2095    0.015    0.000   12.047    0.006 nspike_data.py:976(PosMatDataStream.__call__)\n",
      "      700    0.196    0.000   12.011    0.017 nspike_data.py:921(PosMatData.__call__)\n",
      "   181350    0.917    0.000    9.902    0.000 internals.py:3391(BlockManager.as_matrix)\n",
      "    14658    0.184    0.000    6.174    0.000 series.py:600(Series.__getitem__)\n",
      "    12564    0.214    0.000    5.526    0.000 multi.py:681(MultiIndex.get_value)\n",
      "     4188    0.203    0.000    4.864    0.001 multi.py:689(_try_mi)\n",
      "   181361    1.819    0.000    4.767    0.000 internals.py:2829(BlockManager._is_single_block)\n",
      "   183442    0.458    0.000    4.158    0.000 internals.py:154(FloatBlock.get_values)\n",
      "   182051    0.598    0.000    4.005    0.000 generic.py:2795(DataFrame._consolidate_inplace)\n",
      "   904086    2.724    0.000    3.953    0.000 threading.py:242(Condition.__exit__)\n",
      "   184899    0.502    0.000    3.715    0.000 common.py:54(is_object_dtype)\n",
      "   182751    0.971    0.000    3.425    0.000 generic.py:2785(DataFrame._protect_consolidate)\n",
      "     2099    0.065    0.000    3.259    0.002 frame.py:2035(DataFrame.__getitem__)\n",
      "\n",
      "\n"
     ]
    },
    {
     "data": {
      "text/plain": [
       "<pstats.Stats at 0x7ff2a9a4cda0>"
      ]
     },
     "execution_count": 72,
     "metadata": {},
     "output_type": "execute_result"
    }
   ],
   "source": [
    "prof_dir3 = '/home/daliu/output/timing4/'\n",
    "filename3 = 'test_animal.01.pstats'\n",
    "p3 = pstats.Stats(os.path.join(prof_dir3, filename3))\n",
    "p3.sort_stats('cumtime')\n",
    "p3.strip_dirs()\n",
    "p3.print_stats(20)"
   ]
  },
  {
   "cell_type": "code",
   "execution_count": 76,
   "metadata": {
    "collapsed": false
   },
   "outputs": [
    {
     "name": "stdout",
     "output_type": "stream",
     "text": [
      "   Random listing order was used\n",
      "   List reduced from 642 to 1 due to restriction <'EEGDataStream.__call__'>\n",
      "\n",
      "Function                                    was called by...\n",
      "                                                ncalls  tottime  cumtime\n",
      "nspike_data.py:468(EEGDataStream.__call__)  <- \n",
      "\n",
      "\n"
     ]
    },
    {
     "data": {
      "text/plain": [
       "<pstats.Stats at 0x7ff2a9a4cda0>"
      ]
     },
     "execution_count": 76,
     "metadata": {},
     "output_type": "execute_result"
    }
   ],
   "source": [
    "p3.print_callers('EEGDataStream.__call__')"
   ]
  }
 ],
 "metadata": {
  "kernelspec": {
   "display_name": "Python 3",
   "language": "python",
   "name": "python3"
  },
  "language_info": {
   "codemirror_mode": {
    "name": "ipython",
    "version": 3
   },
   "file_extension": ".py",
   "mimetype": "text/x-python",
   "name": "python",
   "nbconvert_exporter": "python",
   "pygments_lexer": "ipython3",
   "version": "3.6.0"
  }
 },
 "nbformat": 4,
 "nbformat_minor": 2
}
