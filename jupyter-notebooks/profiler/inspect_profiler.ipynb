{
 "cells": [
  {
   "cell_type": "code",
   "execution_count": 2,
   "metadata": {
    "collapsed": true
   },
   "outputs": [],
   "source": [
    "import pstats\n",
    "import os.path"
   ]
  },
  {
   "cell_type": "code",
   "execution_count": 21,
   "metadata": {},
   "outputs": [],
   "source": [
    "prof_dir = '/home/daliu/output/test'\n",
    "prof_dir = '/opt/data36/daliu/realtime/spykshrk/timing_record_binary/'\n",
    "filename = 'test_animal.06.pstats'\n",
    "p = pstats.Stats(os.path.join(prof_dir, filename))\n",
    "p.strip_dirs()\n",
    "p.sort_stats('cumtime')\n",
    "p.print_stats(20)"
   ]
  },
  {
   "cell_type": "code",
   "execution_count": 15,
   "metadata": {
    "scrolled": true
   },
   "outputs": [],
   "source": [
    "p.print_callers('simulator_process.py:109')"
   ]
  },
  {
   "cell_type": "code",
   "execution_count": 16,
   "metadata": {},
   "outputs": [],
   "source": [
    "p.print_callees('simulator_process.py:94')"
   ]
  },
  {
   "cell_type": "code",
   "execution_count": 24,
   "metadata": {
    "collapsed": true,
    "scrolled": false
   },
   "outputs": [],
   "source": [
    "prof_dir2 = '/home/daliu/output/timing3/'\n",
    "filename2 = 'test_animal.01.pstats'\n",
    "p2 = pstats.Stats(os.path.join(prof_dir2, filename2))\n",
    "p2.sort_stats('cumtime')\n",
    "p2.strip_dirs()\n",
    "p2.print_stats(20)"
   ]
  },
  {
   "cell_type": "code",
   "execution_count": 29,
   "metadata": {
    "collapsed": true
   },
   "outputs": [],
   "source": [
    "p2.print_callees('nspike_data.py:435')"
   ]
  },
  {
   "cell_type": "code",
   "execution_count": 72,
   "metadata": {
    "collapsed": true
   },
   "outputs": [],
   "source": [
    "prof_dir3 = '/home/daliu/output/timing4/'\n",
    "filename3 = 'test_animal.01.pstats'\n",
    "p3 = pstats.Stats(os.path.join(prof_dir3, filename3))\n",
    "p3.sort_stats('cumtime')\n",
    "p3.strip_dirs()\n",
    "p3.print_stats(20)"
   ]
  },
  {
   "cell_type": "code",
   "execution_count": 76,
   "metadata": {
    "collapsed": true
   },
   "outputs": [],
   "source": [
    "p3.print_callers('EEGDataStream.__call__')"
   ]
  }
 ],
 "metadata": {
  "git": {
   "suppress_outputs": true
  },
  "kernelspec": {
   "display_name": "Python 3",
   "language": "python",
   "name": "python3"
  },
  "language_info": {
   "codemirror_mode": {
    "name": "ipython",
    "version": 3
   },
   "file_extension": ".py",
   "mimetype": "text/x-python",
   "name": "python",
   "nbconvert_exporter": "python",
   "pygments_lexer": "ipython3",
   "version": "3.6.1"
  }
 },
 "nbformat": 4,
 "nbformat_minor": 2
}