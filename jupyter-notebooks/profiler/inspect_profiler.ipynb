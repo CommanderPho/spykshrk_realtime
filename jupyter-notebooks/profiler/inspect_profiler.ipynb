{
 "cells": [
  {
   "cell_type": "code",
   "execution_count": 31,
   "metadata": {
    "collapsed": true
   },
   "outputs": [],
   "source": [
    "import pstats\n",
    "import os.path"
   ]
  },
  {
   "cell_type": "code",
   "execution_count": 55,
   "metadata": {
    "collapsed": false
   },
   "outputs": [],
   "source": [
    "prof_dir = '/home/daliu/output/'\n",
    "prof_dir = '/opt/data36/daliu/realtime/spykshrk'\n",
    "filename = 'test_animal.thread.01.pstats'\n",
    "p = pstats.Stats(os.path.join(prof_dir, filename))"
   ]
  },
  {
   "cell_type": "code",
   "execution_count": 57,
   "metadata": {
    "collapsed": false,
    "scrolled": false
   },
   "outputs": [
    {
     "name": "stdout",
     "output_type": "stream",
     "text": [
      "Wed May 31 15:22:52 2017    /opt/data36/daliu/realtime/spykshrk/test_animal.thread.01.pstats\n",
      "\n",
      "         19992285 function calls (19581379 primitive calls) in 34.774 seconds\n",
      "\n",
      "   Ordered by: cumulative time\n",
      "   List reduced from 400 to 20 due to restriction <20>\n",
      "\n",
      "   ncalls  tottime  percall  cumtime  percall filename:lineno(function)\n",
      "        1    0.000    0.000   34.774   34.774 realtime_process.py:124(outer)\n",
      "        1    3.828    3.828   34.774   34.774 simulator_process.py:179(run)\n",
      "   452009    1.270    0.000   21.090    0.000 sim_databuffer.py:22(__call__)\n",
      "   452010    0.314    0.000   19.180    0.000 {built-in method builtins.next}\n",
      "   449915    6.221    0.000   15.234    0.000 nspike_data.py:468(__call__)\n",
      "   181348    0.185    0.000    7.051    0.000 generic.py:2910(values)\n",
      "   181348    0.573    0.000    6.866    0.000 generic.py:2868(as_matrix)\n",
      "   904083    2.078    0.000    4.663    0.000 threading.py:531(wait)\n",
      "   181348    0.457    0.000    4.509    0.000 internals.py:3391(as_matrix)\n",
      "     2095    0.009    0.000    3.632    0.002 nspike_data.py:976(__call__)\n",
      "      700    0.061    0.000    3.619    0.005 nspike_data.py:921(__call__)\n",
      "   449914    2.728    0.000    2.728    0.000 {method 'Send' of 'mpi4py.MPI.Comm' objects}\n",
      "   183442    0.205    0.000    2.105    0.000 internals.py:154(get_values)\n",
      "   181348    0.790    0.000    1.946    0.000 internals.py:2829(_is_single_block)\n",
      "    14658    0.053    0.000    1.944    0.000 series.py:600(__getitem__)\n",
      "   184840    0.289    0.000    1.893    0.000 common.py:54(is_object_dtype)\n",
      "   182047    0.274    0.000    1.790    0.000 generic.py:2795(_consolidate_inplace)\n",
      "    12564    0.070    0.000    1.774    0.000 multi.py:681(get_value)\n",
      "   189747    1.194    0.000    1.551    0.000 common.py:357(_get_dtype_type)\n",
      "     4188    0.067    0.000    1.547    0.000 multi.py:689(_try_mi)\n",
      "\n",
      "\n"
     ]
    },
    {
     "data": {
      "text/plain": [
       "<pstats.Stats at 0x7f8984671978>"
      ]
     },
     "execution_count": 57,
     "metadata": {},
     "output_type": "execute_result"
    }
   ],
   "source": [
    "p.strip_dirs()\n",
    "p.sort_stats('cumtime')\n",
    "p.print_stats(20)"
   ]
  },
  {
   "cell_type": "code",
   "execution_count": 30,
   "metadata": {
    "collapsed": false
   },
   "outputs": [
    {
     "name": "stdout",
     "output_type": "stream",
     "text": [
      "   Ordered by: cumulative time\n",
      "   List reduced from 397 to 1 due to restriction <'send'>\n",
      "\n",
      "Function                                      called...\n",
      "                                                  ncalls  tottime  cumtime\n",
      "{method 'send' of 'mpi4py.MPI.Comm' objects}  ->       2    0.000    0.000  copyreg.py:96(_slotnames)\n",
      "\n",
      "\n"
     ]
    },
    {
     "data": {
      "text/plain": [
       "<pstats.Stats at 0x7f89848e7da0>"
      ]
     },
     "execution_count": 30,
     "metadata": {},
     "output_type": "execute_result"
    }
   ],
   "source": [
    "p.print_callees('send')"
   ]
  },
  {
   "cell_type": "code",
   "execution_count": 66,
   "metadata": {
    "collapsed": false
   },
   "outputs": [
    {
     "name": "stdout",
     "output_type": "stream",
     "text": [
      "Fri May 26 20:26:42 2017    /home/daliu/output/timing3/test_animal.01.pstats\n",
      "\n",
      "         10637976 function calls (10638041 primitive calls) in 51.890 seconds\n",
      "\n",
      "   Random listing order was used\n",
      "   List reduced from 642 to 20 due to restriction <20>\n",
      "\n",
      "   ncalls  tottime  percall  cumtime  percall filename:lineno(function)\n",
      "        1    0.000    0.000  125.231  125.231 realtime_process.py:121(SimulatorProcess.outer)\n",
      "        1    0.000    0.000  125.231  125.231 simulator_process.py:90(SimulatorProcess.main_loop)\n",
      "   452009    2.701    0.000   49.803    0.000 sim_databuffer.py:22(SimDataBuffer.__call__)\n",
      "   449915   12.447    0.000   32.478    0.000 nspike_data.py:468(EEGDataStream.__call__)\n",
      "   181350    0.393    0.000   16.203    0.000 generic.py:2910(DataFrame.values)\n",
      "   181350    1.449    0.000   15.809    0.000 generic.py:2868(DataFrame.as_matrix)\n",
      "     2095    0.016    0.000   12.287    0.006 nspike_data.py:975(PosMatDataStream.__call__)\n",
      "      700    0.190    0.000   12.254    0.018 nspike_data.py:920(PosMatData.__call__)\n",
      "   904084    4.456    0.000   10.229    0.000 threading.py:533(Event.wait)\n",
      "   181350    1.044    0.000   10.121    0.000 internals.py:3391(BlockManager.as_matrix)\n",
      "    14658    0.235    0.000    6.738    0.000 series.py:600(Series.__getitem__)\n",
      "    12564    0.106    0.000    5.975    0.000 multi.py:681(MultiIndex.get_value)\n",
      "     4188    0.221    0.000    5.409    0.001 multi.py:689(_try_mi)\n",
      "   183442    0.414    0.000    4.587    0.000 internals.py:154(FloatBlock.get_values)\n",
      "   181361    1.793    0.000    4.540    0.000 internals.py:2829(BlockManager._is_single_block)\n",
      "   182051    0.612    0.000    4.257    0.000 generic.py:2795(DataFrame._consolidate_inplace)\n",
      "   184899    0.857    0.000    4.134    0.000 common.py:54(is_object_dtype)\n",
      "   182751    0.939    0.000    3.649    0.000 generic.py:2785(DataFrame._protect_consolidate)\n",
      "     2099    0.098    0.000    3.186    0.002 frame.py:2035(DataFrame.__getitem__)\n",
      "190075/190083    2.271    0.000    3.136    0.000 common.py:357(_get_dtype_type)\n",
      "\n",
      "\n"
     ]
    },
    {
     "data": {
      "text/plain": [
       "<pstats.Stats at 0x7ff2a9e61fd0>"
      ]
     },
     "execution_count": 66,
     "metadata": {},
     "output_type": "execute_result"
    }
   ],
   "source": [
    "prof_dir2 = '/home/daliu/output/timing3/'\n",
    "filename2 = 'test_animal.01.pstats'\n",
    "p2 = pstats.Stats(os.path.join(prof_dir2, filename2))\n",
    "p2.sort_stats('cumtime')\n",
    "p2.strip_dirs()\n",
    "p2.print_stats(20)"
   ]
  },
  {
   "cell_type": "code",
   "execution_count": 72,
   "metadata": {
    "collapsed": false
   },
   "outputs": [
    {
     "name": "stdout",
     "output_type": "stream",
     "text": [
      "Fri May 26 21:04:19 2017    /home/daliu/output/timing4/test_animal.01.pstats\n",
      "\n",
      "         10637976 function calls (10638041 primitive calls) in 49.894 seconds\n",
      "\n",
      "   Random listing order was used\n",
      "   List reduced from 642 to 20 due to restriction <20>\n",
      "\n",
      "   ncalls  tottime  percall  cumtime  percall filename:lineno(function)\n",
      "        1    0.000    0.000  118.002  118.002 realtime_process.py:121(SimulatorProcess.outer)\n",
      "        1    0.000    0.000  118.002  118.002 simulator_process.py:90(SimulatorProcess.main_loop)\n",
      "   452009    4.077    0.000   46.285    0.000 sim_databuffer.py:22(SimDataBuffer.__call__)\n",
      "   449915    9.237    0.000   27.594    0.000 nspike_data.py:468(EEGDataStream.__call__)\n",
      "   181350    0.379    0.000   15.362    0.000 generic.py:2910(DataFrame.values)\n",
      "   181350    1.117    0.000   14.983    0.000 generic.py:2868(DataFrame.as_matrix)\n",
      "   904084    5.270    0.000   12.346    0.000 threading.py:533(Event.wait)\n",
      "     2095    0.015    0.000   12.047    0.006 nspike_data.py:976(PosMatDataStream.__call__)\n",
      "      700    0.196    0.000   12.011    0.017 nspike_data.py:921(PosMatData.__call__)\n",
      "   181350    0.917    0.000    9.902    0.000 internals.py:3391(BlockManager.as_matrix)\n",
      "    14658    0.184    0.000    6.174    0.000 series.py:600(Series.__getitem__)\n",
      "    12564    0.214    0.000    5.526    0.000 multi.py:681(MultiIndex.get_value)\n",
      "     4188    0.203    0.000    4.864    0.001 multi.py:689(_try_mi)\n",
      "   181361    1.819    0.000    4.767    0.000 internals.py:2829(BlockManager._is_single_block)\n",
      "   183442    0.458    0.000    4.158    0.000 internals.py:154(FloatBlock.get_values)\n",
      "   182051    0.598    0.000    4.005    0.000 generic.py:2795(DataFrame._consolidate_inplace)\n",
      "   904086    2.724    0.000    3.953    0.000 threading.py:242(Condition.__exit__)\n",
      "   184899    0.502    0.000    3.715    0.000 common.py:54(is_object_dtype)\n",
      "   182751    0.971    0.000    3.425    0.000 generic.py:2785(DataFrame._protect_consolidate)\n",
      "     2099    0.065    0.000    3.259    0.002 frame.py:2035(DataFrame.__getitem__)\n",
      "\n",
      "\n"
     ]
    },
    {
     "data": {
      "text/plain": [
       "<pstats.Stats at 0x7ff2a9a4cda0>"
      ]
     },
     "execution_count": 72,
     "metadata": {},
     "output_type": "execute_result"
    }
   ],
   "source": [
    "prof_dir3 = '/home/daliu/output/timing4/'\n",
    "filename3 = 'test_animal.01.pstats'\n",
    "p3 = pstats.Stats(os.path.join(prof_dir3, filename3))\n",
    "p3.sort_stats('cumtime')\n",
    "p3.strip_dirs()\n",
    "p3.print_stats(20)"
   ]
  },
  {
   "cell_type": "code",
   "execution_count": 76,
   "metadata": {
    "collapsed": false
   },
   "outputs": [
    {
     "name": "stdout",
     "output_type": "stream",
     "text": [
      "   Random listing order was used\n",
      "   List reduced from 642 to 1 due to restriction <'EEGDataStream.__call__'>\n",
      "\n",
      "Function                                    was called by...\n",
      "                                                ncalls  tottime  cumtime\n",
      "nspike_data.py:468(EEGDataStream.__call__)  <- \n",
      "\n",
      "\n"
     ]
    },
    {
     "data": {
      "text/plain": [
       "<pstats.Stats at 0x7ff2a9a4cda0>"
      ]
     },
     "execution_count": 76,
     "metadata": {},
     "output_type": "execute_result"
    }
   ],
   "source": [
    "p3.print_callers('EEGDataStream.__call__')"
   ]
  }
 ],
 "metadata": {
  "kernelspec": {
   "display_name": "Python [default]",
   "language": "python",
   "name": "python3"
  },
  "language_info": {
   "codemirror_mode": {
    "name": "ipython",
    "version": 3
   },
   "file_extension": ".py",
   "git": {
    "suppress_outputs": true
   },
   "mimetype": "text/x-python",
   "name": "python",
   "nbconvert_exporter": "python",
   "pygments_lexer": "ipython3",
   "version": "3.5.2"
  }
 },
 "nbformat": 4,
 "nbformat_minor": 2
}
