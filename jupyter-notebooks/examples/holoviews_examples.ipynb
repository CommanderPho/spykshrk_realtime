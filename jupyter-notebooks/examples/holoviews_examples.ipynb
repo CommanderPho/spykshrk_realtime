{
 "cells": [
  {
   "cell_type": "code",
   "execution_count": 6,
   "metadata": {},
   "outputs": [],
   "source": [
    "import numpy as np\n",
    "import numpy.random\n",
    "import holoviews as hv\n",
    "\n",
    "hv.extension('matplotlib')\n",
    "hv.extension('bokeh')"
   ]
  },
  {
   "cell_type": "code",
   "execution_count": 12,
   "metadata": {},
   "outputs": [],
   "source": [
    "%%output backend='matplotlib'\n",
    "%opts Scatter3D {+framewise}\n",
    "%opts Overlay {+framewise}\n",
    "\n",
    "data = np.random.rand(100,3)\n",
    "\n",
    "def plot_func(elevation, azimuth):\n",
    "    scatter = hv.Scatter3D(data)\n",
    "              \n",
    "    scatter = scatter.opts({'Scatter3D':{'plot': {'fig_size':300, 'azimuth': azimuth, 'elevation':elevation},\n",
    "                                         'norm': {'framewise':True}}})\n",
    "    return scatter\n",
    "\n",
    "\n",
    "holo = hv.HoloMap({(e,a): plot_func(e,a) for e in range(0, 181, 20)\n",
    "                   for a in range(-90,91,20)}, kdims=['elev','azim'])\n",
    "holo"
   ]
  },
  {
   "cell_type": "code",
   "execution_count": 9,
   "metadata": {},
   "outputs": [],
   "source": [
    "%%output backend='matplotlib'\n",
    "\n",
    "data = np.random.rand(100,3)\n",
    "\n",
    "def plot_func(elevation, azimuth):\n",
    "    %%output backend='matplotlib'\n",
    "    scatter = hv.Scatter3D(data)\n",
    "              \n",
    "    scatter = scatter.opts({'Scatter3D':{'plot': { 'azimuth': azimuth, 'elevation':elevation},\n",
    "                                         'norm': {'framewise':True}}})\n",
    "    return scatter\n",
    "\n",
    "scatter = hv.Scatter3D(data)\n",
    "\n",
    "dmap = hv.DynamicMap(callback=plot_func, kdims=['elevation', 'azimuth'], cache_size=1)\n",
    "dmap = dmap.redim.range(elevation=(0,180), azimuth=(-90,90)).opts(norm=dict(framewise=True))\n",
    "dmap"
   ]
  },
  {
   "cell_type": "code",
   "execution_count": 13,
   "metadata": {
    "scrolled": true
   },
   "outputs": [],
   "source": [
    "%%output backend='matplotlib'\n",
    "%opts Scatter3D {+framewise}\n",
    "%opts Overlay {+framewise}\n",
    "\n",
    "data = np.random.randint(0,100,[1000,3])\n",
    "\n",
    "def plot_func(xmax, ymax):\n",
    "    scatter = hv.Scatter3D(data[(data[:,0] > xmax) & (data[:,1] > ymax)])\n",
    "    \n",
    "    return scatter\n",
    "\n",
    "\n",
    "dmap = hv.DynamicMap(callback=plot_func, kdims=['xmax', 'ymax'], cache_size=1)\n",
    "dmap = dmap.redim.range(xmax=(0,100), ymax=(0,100)).opts(norm=dict(framewise=True))\n",
    "dmap"
   ]
  },
  {
   "cell_type": "code",
   "execution_count": 10,
   "metadata": {},
   "outputs": [],
   "source": [
    "%%output backend='matplotlib'\n",
    "\n",
    "from ipywidgets import interact, interactive\n",
    "from bokeh.io import push_notebook, show\n",
    "from ipykernel.pylab.backend_inline import flush_figures\n",
    "\n",
    "renderer = hv.renderer('matplotlib')\n",
    "plot = (renderer.get_plot(scatter))\n",
    "\n",
    "data2 = np.random.randint(0,100,[1000,3])\n",
    "\n",
    "scatter2 = hv.Scatter3D(data2)\n",
    "\n",
    "renderer = hv.renderer('matplotlib')\n",
    "plot = (renderer.get_plot(scatter2))\n",
    "\n",
    "def update(a, e):\n",
    "    %%output backend='matplotlib'\n",
    "\n",
    "    print(a, e)\n",
    "    plot.elevation = e\n",
    "    plot.azimuth = a\n",
    "    plot.update(0)\n",
    "    print(plot.elevation)\n",
    "    display(plot)\n",
    "\n",
    "interactive_plot = interactive(update, a=(-180,180,1), e=(0,180,1))\n",
    "output = interactive_plot.children[-1]\n",
    "output.layout.height='400px'\n",
    "display(interactive_plot)"
   ]
  }
 ],
 "metadata": {
  "git": {
   "suppress_outputs": true
  },
  "kernelspec": {
   "display_name": "Python 3",
   "language": "python",
   "name": "python3"
  },
  "language_info": {
   "codemirror_mode": {
    "name": "ipython",
    "version": 3
   },
   "file_extension": ".py",
   "mimetype": "text/x-python",
   "name": "python",
   "nbconvert_exporter": "python",
   "pygments_lexer": "ipython3",
   "version": "3.6.3"
  }
 },
 "nbformat": 4,
 "nbformat_minor": 2
}