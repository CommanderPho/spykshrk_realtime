{
 "cells": [
  {
   "cell_type": "code",
   "execution_count": 24,
   "metadata": {},
   "outputs": [],
   "source": [
    "import functools\n",
    "import pickle\n",
    "\n",
    "def partialclass(cls, *args, **kwds):\n",
    "\n",
    "    NewCls = type('_' + cls.__name__, (cls,),\n",
    "                  {'__init__': functools.partialmethod(cls.__init__, *args, **kwds),\n",
    "                   '__module__': __name__,\n",
    "                   '_parent_class': cls})\n",
    "\n",
    "    return NewCls"
   ]
  },
  {
   "cell_type": "code",
   "execution_count": 25,
   "metadata": {},
   "outputs": [],
   "source": [
    "class TestClass:\n",
    "    def __init__(self, print_str, parent_class=None):\n",
    "        self.print_str = print_str\n",
    "        try:\n",
    "            getattr(self, '_parent_class')\n",
    "        except AttributeError:\n",
    "            self._parent_class = self.__class__\n",
    "    \n",
    "    def print_func(self):\n",
    "        print(self.print_str)\n",
    "        \n",
    "    \n",
    "    def __reduce__(self):\n",
    "        return (self._parent_class, (self.print_str, ) )\n",
    "    \n",
    "    def __call__(self, print_str):\n",
    "        if self.__class__ is not self._parent_class:\n",
    "            return self.__class__(print_str)"
   ]
  },
  {
   "cell_type": "code",
   "execution_count": 26,
   "metadata": {},
   "outputs": [],
   "source": [
    "test = TestClass('string')\n",
    "new_test = partialclass(type(test), print_str=test.print_str)()"
   ]
  },
  {
   "cell_type": "code",
   "execution_count": 27,
   "metadata": {},
   "outputs": [
    {
     "data": {
      "text/plain": [
       "__main__._TestClass"
      ]
     },
     "execution_count": 27,
     "metadata": {},
     "output_type": "execute_result"
    }
   ],
   "source": [
    "type(new_test)"
   ]
  },
  {
   "cell_type": "code",
   "execution_count": 28,
   "metadata": {},
   "outputs": [
    {
     "data": {
      "text/plain": [
       "__main__.TestClass"
      ]
     },
     "execution_count": 28,
     "metadata": {},
     "output_type": "execute_result"
    }
   ],
   "source": [
    "new_test._parent_class"
   ]
  },
  {
   "cell_type": "code",
   "execution_count": 29,
   "metadata": {},
   "outputs": [],
   "source": [
    "data = pickle.dumps(new_test)"
   ]
  },
  {
   "cell_type": "code",
   "execution_count": 30,
   "metadata": {},
   "outputs": [
    {
     "name": "stdout",
     "output_type": "stream",
     "text": [
      "string\n"
     ]
    }
   ],
   "source": [
    "load_test = pickle.loads(data)\n",
    "load_test.print_func()"
   ]
  },
  {
   "cell_type": "code",
   "execution_count": null,
   "metadata": {},
   "outputs": [],
   "source": []
  },
  {
   "cell_type": "code",
   "execution_count": null,
   "metadata": {},
   "outputs": [],
   "source": []
  }
 ],
 "metadata": {
  "kernelspec": {
   "display_name": "Python 3",
   "language": "python",
   "name": "python3"
  },
  "language_info": {
   "codemirror_mode": {
    "name": "ipython",
    "version": 3
   },
   "file_extension": ".py",
   "mimetype": "text/x-python",
   "name": "python",
   "nbconvert_exporter": "python",
   "pygments_lexer": "ipython3",
   "version": "3.7.1"
  }
 },
 "nbformat": 4,
 "nbformat_minor": 2
}
