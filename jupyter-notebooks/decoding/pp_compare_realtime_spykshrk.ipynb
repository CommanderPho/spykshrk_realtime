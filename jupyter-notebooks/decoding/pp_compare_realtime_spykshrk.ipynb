{
 "cells": [
  {
   "cell_type": "code",
   "execution_count": 1,
   "metadata": {
    "collapsed": true
   },
   "outputs": [],
   "source": [
    "import pandas as pd\n",
    "import numpy as np\n",
    "import scipy as sp\n",
    "import matplotlib.pyplot as plt\n",
    "import json\n",
    "import os\n",
    "import scipy.signal\n",
    "\n",
    "from spykshrk.realtime.decoder_process import PointProcessDecoder\n",
    "\n",
    "import spykshrk.realtime.simulator.nspike_data as nspike_data\n",
    "\n",
    "from spykshrk.franklab.pp_decoder.util import gaussian, normal2D, apply_no_anim_boundary, simplify_pos_pandas\n",
    "\n",
    "from spykshrk.franklab.pp_decoder.decode_error import bin_pos_data, calc_error_table, \\\n",
    "                                                      plot_arms_error\n",
    "\n",
    "#pd.set_option('float_format', '{:,.2f}'.format)\n",
    "pd.set_option('display.precision', 4)\n",
    "pd.set_option('display.max_rows', 10)\n",
    "#pd.set_option('display.width', 180)\n",
    "\n",
    "\n",
    "idx = pd.IndexSlice\n"
   ]
  },
  {
   "cell_type": "code",
   "execution_count": 8,
   "metadata": {},
   "outputs": [
    {
     "name": "stdout",
     "output_type": "stream",
     "text": [
      "CPU times: user 40 ms, sys: 716 ms, total: 756 ms\n",
      "Wall time: 753 ms\n"
     ]
    }
   ],
   "source": [
    "%%time\n",
    "# Load merged rec HDF store based on config\n",
    "\n",
    "config_file = '/opt/data36/daliu/realtime/spykshrk/dec_60uv_300samp/bond.config.json'\n",
    "config = json.load(open(config_file, 'r'))\n",
    "\n",
    "hdf_file = os.path.join(config['files']['output_dir'],\n",
    "                        '{}.rec_merged.h5'.format(config['files']['prefix']))\n",
    "\n",
    "store = pd.HDFStore(hdf_file, mode='r')\n",
    "spike_decode = store['rec_3']\n",
    "decoder_df = store['rec_4']\n",
    "stim_lockout = store['rec_11']"
   ]
  },
  {
   "cell_type": "code",
   "execution_count": 3,
   "metadata": {},
   "outputs": [
    {
     "name": "stdout",
     "output_type": "stream",
     "text": [
      "CPU times: user 4 ms, sys: 0 ns, total: 4 ms\n",
      "Wall time: 2.91 ms\n"
     ]
    }
   ],
   "source": [
    "%%time\n",
    "stim_lockout_ranges = stim_lockout.pivot(index='lockout_num',columns='lockout_state', values='timestamp')\n",
    "stim_lockout_ranges = stim_lockout_ranges.reindex(columns=[1,0])\n"
   ]
  },
  {
   "cell_type": "code",
   "execution_count": 4,
   "metadata": {},
   "outputs": [
    {
     "name": "stdout",
     "output_type": "stream",
     "text": [
      "CPU times: user 20 ms, sys: 16 ms, total: 36 ms\n",
      "Wall time: 25.2 ms\n"
     ]
    }
   ],
   "source": [
    "%%time\n",
    "# Get table with decode for each spike and generate decode bin mask\n",
    "\n",
    "dec_bin_size = 300     # Decode bin size in samples (usually 30kHz)\n",
    "\n",
    "arm_coordinates = [[0, 69], [150, 150+102], [300, 300+104]]\n",
    "\n",
    "dec_bins = np.floor((spike_decode['timestamp'] - spike_decode['timestamp'][0])/dec_bin_size).astype('int')\n",
    "spike_decode['dec_bin'] = dec_bins\n",
    "\n",
    "\n",
    "pos_upper = config['encoder']['position']['upper']\n",
    "pos_lower = config['encoder']['position']['lower']\n",
    "pos_num_bins = config['encoder']['position']['bins']\n",
    "pos_bin_delta = ((pos_upper - pos_lower) / pos_num_bins)\n",
    "\n",
    "x_bins = np.linspace(0, pos_bin_delta*(pos_num_bins-1), pos_num_bins)\n",
    "x_bin_edges = np.linspace(0, pos_bin_delta*(pos_num_bins), pos_num_bins+1)\n",
    "\n",
    "pos_kernel = gaussian(x_bins, x_bins[int(len(x_bins)/2)], 3)\n"
   ]
  },
  {
   "cell_type": "code",
   "execution_count": 5,
   "metadata": {},
   "outputs": [
    {
     "name": "stdout",
     "output_type": "stream",
     "text": [
      "PosMatData: INIT start\n",
      "/opt/data/daliu/other/mkarlsso/Bon\n",
      "['/opt/data/daliu/other/mkarlsso/Bon/bonlinpos04.mat']\n",
      "[(4, '/opt/data/daliu/other/mkarlsso/Bon/bonlinpos04.mat')]\n",
      "PosMatData: INIT done\n"
     ]
    },
    {
     "name": "stderr",
     "output_type": "stream",
     "text": [
      "/home/daliu/anaconda3/lib/python3.6/site-packages/pandas/core/indexing.py:337: SettingWithCopyWarning: \n",
      "A value is trying to be set on a copy of a slice from a DataFrame.\n",
      "Try using .loc[row_indexer,col_indexer] = value instead\n",
      "\n",
      "See the caveats in the documentation: http://pandas.pydata.org/pandas-docs/stable/indexing.html#indexing-view-versus-copy\n",
      "  self.obj[key] = _infer_fill_value(value)\n",
      "/home/daliu/anaconda3/lib/python3.6/site-packages/pandas/core/indexing.py:601: SettingWithCopyWarning: \n",
      "A value is trying to be set on a copy of a slice from a DataFrame.\n",
      "Try using .loc[row_indexer,col_indexer] = value instead\n",
      "\n",
      "See the caveats in the documentation: http://pandas.pydata.org/pandas-docs/stable/indexing.html#indexing-view-versus-copy\n",
      "  self.obj[item_labels[indexer[info_axis]]] = value\n"
     ]
    }
   ],
   "source": [
    "# Get real position\n",
    "\n",
    "nspike_anim = nspike_data.AnimalInfo(**config['simulator']['nspike_animal_info'])\n",
    "pos = nspike_data.PosMatDataStream(nspike_anim)\n",
    "pos_data = pos.data\n",
    "\n",
    "# Transform position into simpler table with only linear position\n",
    "pos_data_linpos = simplify_pos_pandas(pos_data)\n",
    "\n",
    "# Convert real pos to realtime system linear map (single linear coordinate)\n",
    "\n",
    "center_pos_flat = pos_data_linpos[pos_data_linpos['seg_idx'] == 1]['well_center']\n",
    "left_pos_flat = pos_data_linpos[(pos_data_linpos['seg_idx'] == 2) | \n",
    "                                (pos_data_linpos['seg_idx'] == 3)]['well_left'] + 150\n",
    "right_pos_flat = pos_data_linpos[(pos_data_linpos['seg_idx'] == 4) | \n",
    "                                 (pos_data_linpos['seg_idx'] == 5)]['well_right'] + 300\n",
    "\n",
    "center_pos_flat.name = 'linpos_flat'\n",
    "left_pos_flat.name = 'linpos_flat'\n",
    "right_pos_flat.name = 'linpos_flat'\n",
    "\n",
    "linpos_flat = pd.concat([center_pos_flat, left_pos_flat, right_pos_flat])\n",
    "linpos_flat = linpos_flat.sort_index()"
   ]
  },
  {
   "cell_type": "code",
   "execution_count": 7,
   "metadata": {},
   "outputs": [
    {
     "name": "stderr",
     "output_type": "stream",
     "text": [
      "/home/daliu/Src/spykshrk_realtime/spykshrk/realtime/decoder_process.py:100: RuntimeWarning: invalid value encountered in true_divide\n",
      "  transition_mat = transition_mat/(transition_mat.sum(axis=0)[None, :])\n",
      "/home/daliu/Src/spykshrk_realtime/spykshrk/realtime/decoder_process.py:104: RuntimeWarning: invalid value encountered in true_divide\n",
      "  uniform_dist = uniform_dist/(uniform_dist.sum(axis=0)[None, :])\n"
     ]
    },
    {
     "name": "stdout",
     "output_type": "stream",
     "text": [
      "CPU times: user 1min 21s, sys: 616 ms, total: 1min 21s\n",
      "Wall time: 1min 21s\n"
     ]
    }
   ],
   "source": [
    "%%time\n",
    "# Run spykshrk.realtime version of point process decoding\n",
    "\n",
    "pp_decoder = PointProcessDecoder(pos_range=[config['encoder']['position']['lower'],\n",
    "                                            config['encoder']['position']['upper']],\n",
    "                                 pos_bins=config['encoder']['position']['bins'],\n",
    "                                 time_bin_size=config['pp_decoder']['bin_size'],\n",
    "                                 arm_coor=config['pp_decoder']['arm_pos'],\n",
    "                                 uniform_gain=config['pp_decoder']['trans_mat_uniform_gain'])\n",
    "\n",
    "pp_decoder.select_ntrodes(config['simulator']['nspike_animal_info']['tetrodes'])\n",
    "\n",
    "num_time_bins = spike_decode.loc[:,'dec_bin'].max()\n",
    "\n",
    "groups = spike_decode.groupby('dec_bin')\n",
    "\n",
    "last_bin_id = 0\n",
    "\n",
    "spykshrk_posteriors = np.zeros([num_time_bins+1, pos_num_bins])\n",
    "\n",
    "for bin_id, spikes_in_bin in groups:\n",
    "    if last_bin_id <= bin_id - 1:\n",
    "        for bin_no_spk_id in range(last_bin_id + 1, bin_id):\n",
    "            post = pp_decoder.increment_no_spike_bin()\n",
    "            spykshrk_posteriors[bin_no_spk_id, :] = post\n",
    "        \n",
    "    for ntrode_id, dec in zip(spikes_in_bin.loc[:, 'ntrode_id'].values, \n",
    "                   spikes_in_bin.loc[:, 'x0': 'x{:d}'.format(pos_num_bins-1)].values):\n",
    "        pp_decoder.add_observation(ntrode_id, dec)\n",
    "        \n",
    "    post = pp_decoder.increment_bin()\n",
    "    spykshrk_posteriors[bin_id, :] = post\n",
    "    last_bin_id = bin_id\n",
    "    "
   ]
  },
  {
   "cell_type": "code",
   "execution_count": 9,
   "metadata": {},
   "outputs": [
    {
     "ename": "NameError",
     "evalue": "name 'plot_decode_2d' is not defined",
     "output_type": "error",
     "traceback": [
      "\u001b[0;31m---------------------------------------------------------------------------\u001b[0m",
      "\u001b[0;31mNameError\u001b[0m                                 Traceback (most recent call last)",
      "\u001b[0;32m<ipython-input-9-6f51ff2b0eab>\u001b[0m in \u001b[0;36m<module>\u001b[0;34m()\u001b[0m\n\u001b[1;32m      4\u001b[0m \u001b[0;32mfor\u001b[0m \u001b[0mplt_range\u001b[0m \u001b[0;32min\u001b[0m \u001b[0mplt_ranges\u001b[0m\u001b[0;34m:\u001b[0m\u001b[0;34m\u001b[0m\u001b[0m\n\u001b[1;32m      5\u001b[0m     \u001b[0mplt\u001b[0m\u001b[0;34m.\u001b[0m\u001b[0mfigure\u001b[0m\u001b[0;34m(\u001b[0m\u001b[0mfigsize\u001b[0m\u001b[0;34m=\u001b[0m\u001b[0;34m(\u001b[0m\u001b[0;36m400\u001b[0m\u001b[0;34m,\u001b[0m\u001b[0;36m10\u001b[0m\u001b[0;34m)\u001b[0m\u001b[0;34m)\u001b[0m\u001b[0;34m\u001b[0m\u001b[0m\n\u001b[0;32m----> 6\u001b[0;31m     plot_decode_2d(decoder_df.loc[:,'x0':'x449'].values,\n\u001b[0m\u001b[1;32m      7\u001b[0m                    \u001b[0mdecoder_df\u001b[0m\u001b[0;34m[\u001b[0m\u001b[0;34m'timestamp'\u001b[0m\u001b[0;34m]\u001b[0m\u001b[0;34m,\u001b[0m \u001b[0mstim_lockout_ranges\u001b[0m\u001b[0;34m,\u001b[0m\u001b[0;34m\u001b[0m\u001b[0m\n\u001b[1;32m      8\u001b[0m                    decoder_df.set_index('real_pos_time')['real_pos'], plt_range, 1.0)\n",
      "\u001b[0;31mNameError\u001b[0m: name 'plot_decode_2d' is not defined"
     ]
    }
   ],
   "source": [
    "plt_ranges = [[2461, 3404]]\n",
    "plt_ranges = [[2461 + 700, 2461+900]]\n",
    "\n",
    "for plt_range in plt_ranges:\n",
    "    plt.figure(figsize=(400,10))\n",
    "    plot_decode_2d(decoder_df.loc[:,'x0':'x449'].values,\n",
    "                   decoder_df['timestamp'], stim_lockout_ranges, \n",
    "                   decoder_df.set_index('real_pos_time')['real_pos'], plt_range, 1.0)\n",
    "plt.show()"
   ]
  }
 ],
 "metadata": {
  "kernelspec": {
   "display_name": "Python 3",
   "language": "python",
   "name": "python3"
  },
  "language_info": {
   "codemirror_mode": {
    "name": "ipython",
    "version": 3
   },
   "file_extension": ".py",
   "mimetype": "text/x-python",
   "name": "python",
   "nbconvert_exporter": "python",
   "pygments_lexer": "ipython3",
   "version": "3.6.3"
  }
 },
 "nbformat": 4,
 "nbformat_minor": 2
}
