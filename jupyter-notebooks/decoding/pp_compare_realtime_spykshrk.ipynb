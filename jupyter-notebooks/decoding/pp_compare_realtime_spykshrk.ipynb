{
 "cells": [
  {
   "cell_type": "code",
   "execution_count": 122,
   "metadata": {},
   "outputs": [],
   "source": [
    "import pandas as pd\n",
    "import numpy as np\n",
    "import scipy as sp\n",
    "import matplotlib.pyplot as plt\n",
    "import json\n",
    "import os\n",
    "import scipy.signal\n",
    "\n",
    "from spykshrk.realtime.decoder_process import PointProcessDecoder\n",
    "\n",
    "import spykshrk.realtime.simulator.nspike_data as nspike_data\n",
    "\n",
    "from spykshrk.franklab.pp_decoder.pp_clusterless import plot_decode_2d\n",
    "\n",
    "from spykshrk.franklab.pp_decoder.util import gaussian, normal2D, apply_no_anim_boundary, simplify_pos_pandas\n",
    "\n",
    "from spykshrk.franklab.pp_decoder.decode_error import bin_pos_data, calc_error_table, \\\n",
    "                                                      plot_arms_error\n",
    "\n",
    "from spykshrk.franklab.pp_decoder.data_containers import LinearPositionContainer\n",
    "    \n",
    "#pd.set_option('float_format', '{:,.2f}'.format)\n",
    "pd.set_option('display.precision', 4)\n",
    "pd.set_option('display.max_rows', 10)\n",
    "#pd.set_option('display.width', 180)\n",
    "\n",
    " \n",
    "idx = pd.IndexSlice\n"
   ]
  },
  {
   "cell_type": "code",
   "execution_count": 8,
   "metadata": {},
   "outputs": [],
   "source": [
    "%%time\n",
    "# Load merged rec HDF store based on config\n",
    "\n",
    "config_file = '/opt/data36/daliu/realtime/spykshrk/dec_60uv_300samp/bond.config.json'\n",
    "config = json.load(open(config_file, 'r'))\n",
    "\n",
    "hdf_file = os.path.join(config['files']['output_dir'],\n",
    "                        '{}.rec_merged.h5'.format(config['files']['prefix']))\n",
    "\n",
    "store = pd.HDFStore(hdf_file, mode='r')\n",
    "spike_decode = store['rec_3']\n",
    "decoder_df = store['rec_4']\n",
    "stim_lockout = store['rec_11']"
   ]
  },
  {
   "cell_type": "code",
   "execution_count": 9,
   "metadata": {},
   "outputs": [],
   "source": [
    "%%time\n",
    "stim_lockout_ranges = stim_lockout.pivot(index='lockout_num',columns='lockout_state', values='timestamp')\n",
    "stim_lockout_ranges = stim_lockout_ranges.reindex(columns=[1,0])\n"
   ]
  },
  {
   "cell_type": "code",
   "execution_count": 10,
   "metadata": {},
   "outputs": [],
   "source": [
    "%%time\n",
    "# Get table with decode for each spike and generate decode bin mask\n",
    "\n",
    "dec_bin_size = 300     # Decode bin size in samples (usually 30kHz)\n",
    "\n",
    "arm_coordinates = [[0, 69], [150, 150+102], [300, 300+104]]\n",
    "\n",
    "start_timestamp = spike_decode['timestamp'][0]\n",
    "dec_bins = np.floor((spike_decode['timestamp'] - spike_decode['timestamp'][0])/dec_bin_size).astype('int')\n",
    "dec_bins_start = int(spike_decode['timestamp'][0] / dec_bin_size) * dec_bin_size + dec_bins * dec_bin_size\n",
    "spike_decode['dec_bin'] = dec_bins\n",
    "spike_decode['dec_bin_start'] = dec_bins_start\n",
    "\n",
    "\n",
    "pos_upper = config['encoder']['position']['upper']\n",
    "pos_lower = config['encoder']['position']['lower']\n",
    "pos_num_bins = config['encoder']['position']['bins']\n",
    "pos_bin_delta = ((pos_upper - pos_lower) / pos_num_bins)\n",
    "\n",
    "x_bins = np.linspace(0, pos_bin_delta*(pos_num_bins-1), pos_num_bins)\n",
    "x_bin_edges = np.linspace(0, pos_bin_delta*(pos_num_bins), pos_num_bins+1)\n",
    "\n",
    "pos_kernel = gaussian(x_bins, x_bins[int(len(x_bins)/2)], 3)\n"
   ]
  },
  {
   "cell_type": "code",
   "execution_count": 118,
   "metadata": {
    "scrolled": false
   },
   "outputs": [],
   "source": [
    "# Get real position\n",
    "\n",
    "nspike_anim = nspike_data.AnimalInfo(**config['simulator']['nspike_animal_info'])\n",
    "pos = nspike_data.PosMatDataStream(nspike_anim)\n",
    "pos_data = pos.data\n",
    "\n",
    "# Transform position into simpler table with only linear position\n",
    "pos_data_linpos = simplify_pos_pandas(pos_data)\n",
    "\n",
    "# Convert real pos to realtime system linear map (single linear coordinate)\n",
    "\n",
    "center_pos_flat = pos_data_linpos[pos_data_linpos['seg_idx'] == 1]['well_center']\n",
    "left_pos_flat = pos_data_linpos[(pos_data_linpos['seg_idx'] == 2) | \n",
    "                                (pos_data_linpos['seg_idx'] == 3)]['well_left'] + 150\n",
    "right_pos_flat = pos_data_linpos[(pos_data_linpos['seg_idx'] == 4) | \n",
    "                                 (pos_data_linpos['seg_idx'] == 5)]['well_right'] + 300\n",
    "\n",
    "center_pos_flat.name = 'linpos_flat'\n",
    "left_pos_flat.name = 'linpos_flat'\n",
    "right_pos_flat.name = 'linpos_flat'\n",
    "\n",
    "linpos_flat = pd.concat([center_pos_flat, left_pos_flat, right_pos_flat])\n",
    "linpos_flat = linpos_flat.sort_index()"
   ]
  },
  {
   "cell_type": "code",
   "execution_count": 175,
   "metadata": {
    "scrolled": false
   },
   "outputs": [],
   "source": [
    "lin_con = LinearPositionContainer(pos_data)\n",
    "lin_con.get_rebinned(60)"
   ]
  },
  {
   "cell_type": "code",
   "execution_count": 119,
   "metadata": {},
   "outputs": [],
   "source": [
    "pos_data.index.set_levels("
   ]
  },
  {
   "cell_type": "code",
   "execution_count": 120,
   "metadata": {},
   "outputs": [],
   "source": [
    "pos_data.reindex([(4,1,73830339), (4,1,73830340)], method='bfill')"
   ]
  },
  {
   "cell_type": "code",
   "execution_count": 149,
   "metadata": {},
   "outputs": [],
   "source": [
    "from itertools import product\n",
    "test = pd.DataFrame(np.ones([6,2]), index=pd.MultiIndex.from_tuples([(1,1,1),(1,1,2),(1,1,3),(1,2,1),(1,2,2),(2,1,1)]))\n",
    "test\n"
   ]
  },
  {
   "cell_type": "code",
   "execution_count": 155,
   "metadata": {},
   "outputs": [],
   "source": [
    "grp = test.groupby(level=[0,1])\n",
    "grp.apply(lambda x: print(np.unique(x.index.get_level_values(0))))\n",
    "\n",
    "    "
   ]
  },
  {
   "cell_type": "code",
   "execution_count": 139,
   "metadata": {},
   "outputs": [],
   "source": [
    "test.append([(2,1,1), [1,1]])"
   ]
  },
  {
   "cell_type": "code",
   "execution_count": 14,
   "metadata": {
    "scrolled": true
   },
   "outputs": [],
   "source": [
    "%%time\n",
    "# Run spykshrk.realtime version of point process decoding\n",
    "\n",
    "pp_decoder = PointProcessDecoder(pos_range=[config['encoder']['position']['lower'],\n",
    "                                            config['encoder']['position']['upper']],\n",
    "                                 pos_bins=config['encoder']['position']['bins'],\n",
    "                                 time_bin_size=config['pp_decoder']['bin_size'],\n",
    "                                 arm_coor=config['pp_decoder']['arm_pos'],\n",
    "                                 uniform_gain=config['pp_decoder']['trans_mat_uniform_gain'])\n",
    "\n",
    "pp_decoder.select_ntrodes(config['simulator']['nspike_animal_info']['tetrodes'])\n",
    "\n",
    "num_time_bins = spike_decode.loc[:,'dec_bin'].max()\n",
    "\n",
    "groups = spike_decode.groupby('dec_bin')\n",
    "\n",
    "last_bin_id = 0\n",
    "\n",
    "spykshrk_posteriors = np.zeros([num_time_bins+1, pos_num_bins])\n",
    "\n",
    "dec_bin_times = []\n",
    "\n",
    "for bin_id, spikes_in_bin in groups:\n",
    "    if last_bin_id <= bin_id - 1:\n",
    "        for bin_no_spk_id in range(last_bin_id + 1, bin_id):\n",
    "            # No spike in bin\n",
    "            \n",
    "            dec_bin_times.append(start_timestamp + bin_no_spk_id * dec_bin_size)\n",
    "            post = pp_decoder.increment_no_spike_bin()\n",
    "            spykshrk_posteriors[bin_no_spk_id, :] = post\n",
    "        \n",
    "    for ntrode_id, dec in zip(spikes_in_bin.loc[:, 'ntrode_id'].values, \n",
    "                              spikes_in_bin.loc[:, 'x0': 'x{:d}'.format(pos_num_bins-1)].values):\n",
    "        pp_decoder.add_observation(ntrode_id, dec)\n",
    "        \n",
    "    post = pp_decoder.increment_bin()\n",
    "    dec_bin_times.append(spikes_in_bin['dec_bin_start'].values[0])\n",
    "    spykshrk_posteriors[bin_id, :] = post\n",
    "    last_bin_id = bin_id\n",
    "    "
   ]
  },
  {
   "cell_type": "code",
   "execution_count": null,
   "metadata": {
    "collapsed": true
   },
   "outputs": [],
   "source": [
    "# plt_ranges = [[2461, 3404]]\n",
    "plt_ranges = [[2461 + 700, 2461+900]]\n",
    "\n",
    "for plt_range in plt_ranges:\n",
    "    plt.figure(figsize=(400,20))\n",
    "    plt.subplot(2,1,1)\n",
    "    plot_decode_2d(decoder_df['timestamp'], \n",
    "                   decoder_df.loc[:,'x0':'x449'].values,\n",
    "                   stim_lockout_ranges, \n",
    "                   decoder_df.set_index('real_pos_time')['real_pos'], plt_range, 1.0)\n",
    "    \n",
    "    plt.subplot(2,1,2)\n",
    "    plot_decode_2d(np.array(dec_bin_times),\n",
    "                   spykshrk_posteriors,\n",
    "                   stim_lockout_ranges, \n",
    "                   linpos_flat, plt_range, 1.0)\n",
    "\n",
    "    \n",
    "plt.show()"
   ]
  },
  {
   "cell_type": "code",
   "execution_count": 69,
   "metadata": {
    "scrolled": true
   },
   "outputs": [],
   "source": [
    "dec_est_map = x_bins[np.argmax(decoder_df.loc[:,'x0':'x449'].values, axis=1)]\n",
    "dec_est_pos = pd.DataFrame({'est_pos': dec_est_map}, index=pd.Index(data=decoder_df['timestamp'],\n",
    "                                                                    name='timestamp'))\n",
    "\n",
    "pos_data_bins = bin_pos_data(pos_data_linpos, dec_bin_size)\n",
    "\n",
    "center_dec_error, left_dec_error, right_dec_error = calc_error_table(pos_data_bins, dec_est_pos,\n",
    "                                                                     arm_coordinates, 2)\n",
    "\n",
    "print('median error center: {:0.5}, left: {:0.5}, right: {:.5}'.format(np.median(center_dec_error['abs_error']),\n",
    "                                                                       np.median(left_dec_error['abs_error']),\n",
    "                                                                       np.median(right_dec_error['abs_error'])))\n",
    "\n",
    "print('mean error center: {:0.5}, left: {:0.5}, right: {:.5}'.format(np.mean(center_dec_error['abs_error']),\n",
    "                                                                       np.mean(left_dec_error['abs_error']),\n",
    "                                                                       np.mean(right_dec_error['abs_error'])))"
   ]
  },
  {
   "cell_type": "code",
   "execution_count": 70,
   "metadata": {
    "scrolled": true
   },
   "outputs": [],
   "source": [
    "dec_est_map = x_bins[np.argmax(spykshrk_posteriors, axis=1)]\n",
    "dec_est_pos = pd.DataFrame({'est_pos': dec_est_map}, index=pd.Index(data=np.array(dec_bin_times),\n",
    "                                                                    name='timestamp'))\n",
    "\n",
    "pos_data_bins = bin_pos_data(pos_data_linpos, dec_bin_size)\n",
    "\n",
    "center_dec_error, left_dec_error, right_dec_error = calc_error_table(pos_data_bins, dec_est_pos,\n",
    "                                                                     arm_coordinates, 2)\n",
    "\n",
    "print('median error center: {:0.5}, left: {:0.5}, right: {:.5}'.format(np.median(center_dec_error['abs_error']),\n",
    "                                                                       np.median(left_dec_error['abs_error']),\n",
    "                                                                       np.median(right_dec_error['abs_error'])))\n",
    "\n",
    "print('mean error center: {:0.5}, left: {:0.5}, right: {:.5}'.format(np.mean(center_dec_error['abs_error']),\n",
    "                                                                       np.mean(left_dec_error['abs_error']),\n",
    "                                                                       np.mean(right_dec_error['abs_error'])))"
   ]
  }
 ],
 "metadata": {
  "git": {
   "suppress_outputs": true
  },
  "kernelspec": {
   "display_name": "Python 3",
   "language": "python",
   "name": "python3"
  },
  "language_info": {
   "codemirror_mode": {
    "name": "ipython",
    "version": 3
   },
   "file_extension": ".py",
   "mimetype": "text/x-python",
   "name": "python",
   "nbconvert_exporter": "python",
   "pygments_lexer": "ipython3",
   "version": "3.6.3"
  }
 },
 "nbformat": 4,
 "nbformat_minor": 2
}