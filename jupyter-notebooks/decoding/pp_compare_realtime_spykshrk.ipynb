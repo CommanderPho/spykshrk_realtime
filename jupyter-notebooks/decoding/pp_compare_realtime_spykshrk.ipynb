{
 "cells": [
  {
   "cell_type": "code",
   "execution_count": 38,
   "metadata": {},
   "outputs": [],
   "source": [
    "import pandas as pd\n",
    "import numpy as np\n",
    "import scipy as sp\n",
    "import matplotlib\n",
    "import matplotlib.pyplot as plt\n",
    "import json\n",
    "import os\n",
    "import scipy.signal\n",
    "\n",
    "from spykshrk.realtime.decoder_process import PointProcessDecoder\n",
    "\n",
    "from spykshrk.realtime.simulator import nspike_data\n",
    "\n",
    "from spykshrk.franklab.pp_decoder.util import gaussian, normal2D, apply_no_anim_boundary, simplify_pos_pandas\n",
    "from spykshrk.franklab.pp_decoder.pp_clusterless import OfflinePPDecoder\n",
    "from spykshrk.franklab.pp_decoder.data_containers import EncodeSettings, DecodeSettings, SpikeObservation, \\\n",
    "                                                         LinearPosition, StimLockout, Posteriors\n",
    "from spykshrk.franklab.pp_decoder.visualization import DecodeVisualizer\n",
    "\n",
    "from spykshrk.franklab.pp_decoder.decode_error import LinearDecodeError\n",
    "\n",
    "    \n",
    "#pd.set_option('float_format', '{:,.2f}'.format)\n",
    "pd.set_option('display.precision', 4)\n",
    "pd.set_option('display.max_rows', 10)\n",
    "pd.set_option('display.max_columns', 15)\n",
    "#pd.set_option('display.width', 180)\n",
    "\n",
    " \n",
    "idx = pd.IndexSlice\n",
    "matplotlib.rcParams.update({'font.size': 28})\n"
   ]
  },
  {
   "cell_type": "code",
   "execution_count": 2,
   "metadata": {},
   "outputs": [],
   "source": [
    "cd /home/daliu/Src/spykshrk_realtime/"
   ]
  },
  {
   "cell_type": "code",
   "execution_count": 26,
   "metadata": {},
   "outputs": [],
   "source": [
    "# Load merged rec HDF store based on config\n",
    "\n",
    "config_file = '/opt/data36/daliu/realtime/spykshrk/dec_60uv_300samp/bond.config.json'\n",
    "config = json.load(open(config_file, 'r'))\n",
    "\n",
    "day = config['simulator']['nspike_animal_info']['days'][0]\n",
    "epoch = config['simulator']['nspike_animal_info']['epochs'][0]\n",
    "time_bin_size = config['pp_decoder']['bin_size']\n",
    "\n",
    "# Main hdf5 data source file name\n",
    "hdf_file = os.path.join(config['files']['output_dir'],\n",
    "                        '{}.rec_merged.h5'.format(config['files']['prefix']))\n",
    "\n",
    "# Extract just encode and decode settings from config\n",
    "encode_settings = EncodeSettings(config)\n",
    "decode_settings = DecodeSettings(config)\n",
    "\n",
    "# Open data file\n",
    "store = pd.HDFStore(hdf_file, mode='r')\n",
    "\n",
    "# Encapsulate Spike Observation panda table in container\n",
    "observ_obj = SpikeObservation.create_default(store['rec_3'], day=day, epoch=epoch)\n",
    "\n",
    "realtime_posteriors = Posteriors.from_realtime(store['rec_4'], day=day, epoch=epoch, \n",
    "                                               encode_settings=encode_settings)\n",
    "\n",
    "# Grab stimulation lockout times\n",
    "stim_lockout = StimLockout.create_default(store['rec_11'])\n",
    "\n",
    "\n",
    "# Grab animal linearized real position\n",
    "nspike_anim = nspike_data.AnimalInfo(**config['simulator']['nspike_animal_info'])\n",
    "pos = nspike_data.PosMatDataStream(nspike_anim)\n",
    "pos_data = pos.data\n",
    "\n",
    "# Encapsulate linear position\n",
    "lin_obj = LinearPosition.from_nspike_posmat(pos_data, encode_settings)"
   ]
  },
  {
   "cell_type": "code",
   "execution_count": 4,
   "metadata": {
    "scrolled": true
   },
   "outputs": [],
   "source": [
    "%%time\n",
    "# Run spykshrk.realtime version of point process decoding\n",
    "\n",
    "# Create and setup online point process decoder\n",
    "pp_decoder = PointProcessDecoder(pos_range=[config['encoder']['position']['lower'],\n",
    "                                            config['encoder']['position']['upper']],\n",
    "                                 pos_bins=config['encoder']['position']['bins'],\n",
    "                                 time_bin_size=config['pp_decoder']['bin_size'],\n",
    "                                 arm_coor=config['encoder']['position']['arm_pos'],\n",
    "                                 uniform_gain=config['pp_decoder']['trans_mat_uniform_gain'])\n",
    "\n",
    "pp_decoder.select_ntrodes(config['simulator']['nspike_animal_info']['tetrodes'])\n",
    "\n",
    "observ_obj.update_observations_bins(time_bin_size)\n",
    "\n",
    "num_time_bins = observ_obj['dec_bin'].max()\n",
    "\n",
    "# Group by bin\n",
    "groups = observ_obj.groupby('dec_bin')\n",
    "\n",
    "last_bin_id = 0\n",
    "bin_timestamps = []\n",
    "spykshrk_posteriors = np.zeros([num_time_bins+1, config['encoder']['position']['bins']])\n",
    "\n",
    "for bin_id, spikes_in_bin in groups:\n",
    "    bin_timestamps.append(spikes_in_bin['dec_bin_start'].iloc[0])\n",
    "    if last_bin_id <= bin_id - 1:\n",
    "        # increment bins with no spikes\n",
    "        for bin_no_spk_id in range(last_bin_id + 1, bin_id):\n",
    "            bin_timestamps.append(bin_timestamps[-1] + time_bin_size)\n",
    "            post = pp_decoder.increment_no_spike_bin()\n",
    "            spykshrk_posteriors[bin_no_spk_id, :] = post\n",
    "        \n",
    "    # Add \n",
    "    for ntrode_id, dec in zip(spikes_in_bin.loc[:, 'ntrode_id'].values, \n",
    "                   spikes_in_bin.loc[:, 'x000': 'x{:03d}'.\n",
    "                                     format(config['encoder']['position']['bins']-1)].values):\n",
    "        pp_decoder.add_observation(ntrode_id, dec)\n",
    "        \n",
    "    post = pp_decoder.increment_bin()\n",
    "    spykshrk_posteriors[bin_id, :] = post\n",
    "    last_bin_id = bin_id\n",
    "    \n",
    "spykshrk_posteriors = Posteriors.from_numpy(spykshrk_posteriors, day=day, epoch=epoch, \n",
    "                                            timestamps=np.array(bin_timestamps),\n",
    "                                            times=np.array(bin_timestamps)/30000, columns=\n",
    "                                           ['x{:03d}'.format(pos_ind) for pos_ind in \n",
    "                                            range(config['encoder']['position']['bins'])])"
   ]
  },
  {
   "cell_type": "code",
   "execution_count": 5,
   "metadata": {},
   "outputs": [],
   "source": [
    "spykshrk_posteriors"
   ]
  },
  {
   "cell_type": "code",
   "execution_count": 6,
   "metadata": {
    "scrolled": true
   },
   "outputs": [],
   "source": [
    "## Plot posteriors\n",
    "\n",
    "plt_ranges = [[2461 + 250, 2461 + 400]]\n",
    "             \n",
    "for plt_range in plt_ranges:\n",
    "    \n",
    "    plt.figure(figsize=[200,20])\n",
    "    plt.subplot(2,1,1)\n",
    "    ax1 = DecodeVisualizer.plot_decode_image(spykshrk_posteriors, plt_range, encode_settings)\n",
    "    DecodeVisualizer.plot_linear_pos(lin_obj, plt_range)\n",
    "    DecodeVisualizer.plot_stim_lockout(stim_lockout, plt_range, encode_settings.arm_coordinates[2][1] + 10)\n",
    "\n",
    "    plt.subplot(2,1,2)\n",
    "    ax1 = DecodeVisualizer.plot_decode_image(realtime_posteriors, plt_range, encode_settings)\n",
    "    DecodeVisualizer.plot_linear_pos(lin_obj, plt_range)\n",
    "    DecodeVisualizer.plot_stim_lockout(stim_lockout, plt_range, encode_settings.arm_coordinates[2][1] + 10)\n",
    "    \n",
    "    plt.xlim(plt_range)\n",
    "plt.show()"
   ]
  },
  {
   "cell_type": "code",
   "execution_count": 104,
   "metadata": {
    "scrolled": true
   },
   "outputs": [],
   "source": [
    "dec_est_pos = realtime_posteriors.get_distribution_view().idxmax(axis=1).apply(lambda x: int(x[1:])).to_frame()\n",
    "dec_est_pos.columns = ['est_pos']\n",
    "\n",
    "resamp_lin_obj = lin_obj.get_resampled(time_bin_size).get_pd_no_multiindex()\n",
    "\n",
    "dec_error = LinearDecodeError()\n",
    "\n",
    "center_dec_error, left_dec_error, right_dec_error = dec_error.calc_error_table(resamp_lin_obj, dec_est_pos,\n",
    "                                                                     encode_settings.arm_coordinates, 2)\n",
    "\n",
    "print('median error center: {:0.5}, left: {:0.5}, right: {:.5}'.format(np.median(center_dec_error['abs_error']),\n",
    "                                                                       np.median(left_dec_error['abs_error']),\n",
    "                                                                       np.median(right_dec_error['abs_error'])))\n",
    "\n",
    "print('mean error center: {:0.5}, left: {:0.5}, right: {:.5}'.format(np.mean(center_dec_error['abs_error']),\n",
    "                                                                       np.mean(left_dec_error['abs_error']),\n",
    "                                                                       np.mean(right_dec_error['abs_error'])))"
   ]
  },
  {
   "cell_type": "code",
   "execution_count": 31,
   "metadata": {},
   "outputs": [],
   "source": [
    "plt_ranges = [[2350, 3400]]\n",
    "\n",
    "plt.figure(figsize=[400,10])\n",
    "for plt_range in plt_ranges:\n",
    "    plot_arms_error(center_dec_error, left_dec_error, right_dec_error, plt_range)\n",
    "    plt.xticks(np.arange(plt_range[0], plt_range[1], 10))\n",
    "    \n",
    "plt.show()"
   ]
  },
  {
   "cell_type": "code",
   "execution_count": 102,
   "metadata": {},
   "outputs": [],
   "source": [
    "plt_range = [3317, 3330]\n",
    "\n",
    "plt.figure(figsize=[40,10])\n",
    "plot_arms_error(center_dec_error, left_dec_error, right_dec_error, plt_range)\n",
    "plt.xticks(np.arange(plt_range[0], plt_range[1], 1))\n",
    "plt.title('Center to right well trajectory, >2 cm/s in 10 ms bins, error bars show decoding location/error', fontdict={'fontweight':'bold'})\n",
    "\n",
    "plt.show()"
   ]
  },
  {
   "cell_type": "code",
   "execution_count": 101,
   "metadata": {},
   "outputs": [],
   "source": [
    "plt_range = [3241, 3257]\n",
    "\n",
    "plt.figure(figsize=[40,10])\n",
    "plot_arms_error(center_dec_error, left_dec_error, right_dec_error, plt_range)\n",
    "plt.xticks(np.arange(plt_range[0], plt_range[1], 1))\n",
    "plt.title('Center to left well trajectory, >2 cm/s in 10 ms bins, error bars show decoding location/error', fontdict={'fontweight':'bold'})\n",
    "plt.show()"
   ]
  },
  {
   "cell_type": "code",
   "execution_count": 52,
   "metadata": {},
   "outputs": [],
   "source": [
    "all_error = pd.concat([center_dec_error, left_dec_error, right_dec_error])"
   ]
  },
  {
   "cell_type": "code",
   "execution_count": 94,
   "metadata": {
    "scrolled": false
   },
   "outputs": [],
   "source": [
    "fig, ax = plt.subplots(figsize=(20,10))\n",
    "abs_all_error = np.abs(all_error['error'])\n",
    "ax.hist(abs_all_error, range(200))\n",
    "ax.text(0.8, 0.6,  \"Mean error: {:.01f} cm\\nMedian error: {:.01f} cm\".format(np.mean(abs_all_error), \n",
    "                                                                             np.median(abs_all_error)),\n",
    "        transform=ax.transAxes, horizontalalignment='right', bbox={'facecolor': 'white', 'pad':20})\n",
    "plt.xlabel(\"Decode error (cm)\")\n",
    "plt.ylabel(\"Number of bins\")\n",
    "plt.xlim([0,200])\n",
    "plt.title('Decoding error with 10 ms bins and >2 cm/s', fontdict={'fontweight':'bold'})\n",
    "plt.show()"
   ]
  },
  {
   "cell_type": "code",
   "execution_count": 68,
   "metadata": {},
   "outputs": [],
   "source": [
    " \"Mean error: {:.02f}\\nMedian error: {:.02f}\".format(np.mean(abs_all_error), \n",
    "                                                                    np.median(abs_all_error))"
   ]
  }
 ],
 "metadata": {
  "git": {
   "suppress_outputs": true
  },
  "kernelspec": {
   "display_name": "Python 3",
   "language": "python",
   "name": "python3"
  },
  "language_info": {
   "codemirror_mode": {
    "name": "ipython",
    "version": 3
   },
   "file_extension": ".py",
   "mimetype": "text/x-python",
   "name": "python",
   "nbconvert_exporter": "python",
   "pygments_lexer": "ipython3",
   "version": "3.6.3"
  }
 },
 "nbformat": 4,
 "nbformat_minor": 2
}