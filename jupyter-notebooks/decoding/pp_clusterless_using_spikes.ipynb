{
 "cells": [
  {
   "cell_type": "code",
   "execution_count": 32,
   "metadata": {},
   "outputs": [],
   "source": [
    "import pandas as pd\n",
    "import numpy as np\n",
    "import scipy as sp\n",
    "import matplotlib.pyplot as plt\n",
    "import json\n",
    "import os\n",
    "import scipy.signal\n",
    "\n",
    "import spykshrk.realtime.simulator.nspike_data as nspike_data\n",
    "\n",
    "from spykshrk.franklab.pp_decoder.util import gaussian, normal2D, apply_no_anim_boundary\n",
    "from spykshrk.franklab.pp_decoder.pp_clusterless import calc_learned_state_trans_mat, calc_simple_trans_mat, \\\n",
    "                                                        calc_uniform_trans_mat, \\\n",
    "                                                        calc_observation_intensity, calc_likelihood, \\\n",
    "                                                        calc_occupancy, calc_prob_no_spike, \\\n",
    "                                                        calc_posterior, plot_decode_2d\n",
    "\n",
    "from spykshrk.franklab.pp_decoder.decode_error import bin_pos_data, convert_pos_for_notebook, calc_error_table, \\\n",
    "                                                      conv_center_pos, conv_left_pos, conv_right_pos, \\\n",
    "                                                      plot_arms_error\n",
    "                \n",
    "%load_ext Cython\n",
    "\n",
    "%matplotlib inline\n",
    "\n",
    "#pd.set_option('float_format', '{:,.2f}'.format)\n",
    "pd.set_option('display.precision', 4)\n",
    "pd.set_option('display.max_rows', 10)\n",
    "#pd.set_option('display.width', 180)\n",
    "\n",
    "idx = pd.IndexSlice\n"
   ]
  },
  {
   "cell_type": "code",
   "execution_count": 33,
   "metadata": {},
   "outputs": [],
   "source": [
    "%%time\n",
    "# Load merged rec HDF store based on config\n",
    "\n",
    "config_file = '/opt/data36/daliu/realtime/spykshrk/ripple_dec/bond.config.json'\n",
    "config_file = '/opt/data36/daliu/realtime/spykshrk/dec_60uv/bond.config.json'\n",
    "config = json.load(open(config_file, 'r'))\n",
    "\n",
    "hdf_file = os.path.join(config['files']['output_dir'],\n",
    "                        '{}.rec_merged.h5'.format(config['files']['prefix']))\n",
    "\n",
    "store = pd.HDFStore(hdf_file, mode='r')\n",
    "spike_decode = store['rec_3']\n",
    "stim_lockout = store['rec_11']"
   ]
  },
  {
   "cell_type": "code",
   "execution_count": 34,
   "metadata": {},
   "outputs": [],
   "source": [
    "%%time\n",
    "stim_lockout_ranges = stim_lockout.pivot(index='lockout_num',columns='lockout_state', values='timestamp')\n",
    "stim_lockout_ranges = stim_lockout_ranges.reindex(columns=[1,0])\n"
   ]
  },
  {
   "cell_type": "code",
   "execution_count": 35,
   "metadata": {},
   "outputs": [],
   "source": [
    "%%time\n",
    "# Get table with decode for each spike and generate decode bin mask\n",
    "\n",
    "dec_bin_size = 30     # Decode bin size in samples (usually 30kHz)\n",
    "\n",
    "arm_coordinates = [[0, 69], [150, 150+102], [300, 300+104]]\n",
    "\n",
    "dec_bins = np.floor((spike_decode['timestamp'] - spike_decode['timestamp'][0])/dec_bin_size).astype('int')\n",
    "spike_decode['dec_bin'] = dec_bins\n",
    "\n",
    "\n",
    "pos_upper = config['encoder']['position']['upper']\n",
    "pos_lower = config['encoder']['position']['lower']\n",
    "pos_num_bins = config['encoder']['position']['bins']\n",
    "pos_bin_delta = ((pos_upper - pos_lower) / pos_num_bins)\n",
    "\n",
    "x_bins = np.linspace(0, pos_bin_delta*(pos_num_bins-1), pos_num_bins)\n",
    "x_bin_edges = np.linspace(0, pos_bin_delta*(pos_num_bins), pos_num_bins+1)\n",
    "\n",
    "pos_kernel = gaussian(x_bins, x_bins[int(len(x_bins)/2)], 3)\n"
   ]
  },
  {
   "cell_type": "code",
   "execution_count": 36,
   "metadata": {},
   "outputs": [],
   "source": [
    "# Get real position\n",
    "\n",
    "nspike_anim = nspike_data.AnimalInfo(**config['simulator']['nspike_animal_info'])\n",
    "pos = nspike_data.PosMatDataStream(nspike_anim)\n",
    "pos_data = pos.data\n"
   ]
  },
  {
   "cell_type": "code",
   "execution_count": 37,
   "metadata": {},
   "outputs": [],
   "source": [
    "# Transform position into simpler table with only linear position\n",
    "pos_data_time = pos_data.loc[:, 'time']\n",
    "\n",
    "pos_data_linpos = pos_data.loc[:,'lin_dist_well']\n",
    "pos_data_linpos.loc[:, 'lin_vel_center'] = pos_data.loc[:,('lin_vel', 'well_center')]\n",
    "pos_data_linpos.loc[:, 'seg_idx'] = pos_data.loc[:,('seg_idx', 0)]\n",
    "pos_data_linpos.loc[:,'timestamps'] = pos_data_time*30000\n",
    "pos_data_linpos = pos_data_linpos.set_index('timestamps')\n",
    "\n",
    "# Convert real pos to realtime system linear map (single linear coordinate)\n",
    "\n",
    "center_pos_flat = pos_data_linpos[pos_data_linpos['seg_idx'] == 1]['well_center']\n",
    "left_pos_flat = pos_data_linpos[(pos_data_linpos['seg_idx'] == 2) | \n",
    "                                (pos_data_linpos['seg_idx'] == 3)]['well_left'] + 150\n",
    "right_pos_flat = pos_data_linpos[(pos_data_linpos['seg_idx'] == 4) | \n",
    "                                 (pos_data_linpos['seg_idx'] == 5)]['well_right'] + 300\n",
    "\n",
    "center_pos_flat.name = 'linpos_flat'\n",
    "left_pos_flat.name = 'linpos_flat'\n",
    "right_pos_flat.name = 'linpos_flat'\n",
    "\n",
    "linpos_flat = pd.concat([center_pos_flat, left_pos_flat, right_pos_flat])\n",
    "linpos_flat = linpos_flat.sort_index()\n"
   ]
  },
  {
   "cell_type": "code",
   "execution_count": 38,
   "metadata": {
    "scrolled": true
   },
   "outputs": [],
   "source": [
    "%%time\n",
    "\n",
    "# Calculate State Transition Matrix\n",
    "learned_trans_mat = calc_learned_state_trans_mat(linpos_flat, x_bins, arm_coordinates, gauss_smooth_std=3,\n",
    "                                                uniform_offset_gain=0.001)\n",
    "transition_mat = calc_simple_trans_mat(x_bins)\n",
    "uniform_mat = calc_uniform_trans_mat(x_bins)\n",
    "\n",
    "# Loop through each bin and generate the observation distribution from spikes in bin\n",
    "dec_bin_times, dec_est, bin_num_spikes, firing_rate  = calc_observation_intensity(spike_decode, \n",
    "                                                                                  dec_bin_size,\n",
    "                                                                                  x_bins, \n",
    "                                                                                  pos_kernel,\n",
    "                                                                                  arm_coordinates)\n",
    "\n",
    "#Precompute prob of no spike from firing rate\n",
    "occupancy = calc_occupancy(linpos_flat, x_bin_edges, pos_kernel)\n",
    "prob_no_spike = calc_prob_no_spike(firing_rate, dec_bin_size, occupancy)\n",
    "\n",
    "# Calculate likelihood\n",
    "likelihoods = calc_likelihood(dec_est, bin_num_spikes, prob_no_spike, pos_bin_delta)\n",
    "\n",
    "# Iteratively calculate posterior\n",
    "posteriors = calc_posterior(likelihoods, learned_trans_mat, pos_num_bins, pos_bin_delta)"
   ]
  },
  {
   "cell_type": "code",
   "execution_count": 39,
   "metadata": {},
   "outputs": [],
   "source": [
    "plt.figure(figsize=[20, 10])\n",
    "plt.plot(learned_trans_mat[10,:])\n",
    "plt.xlim([0,50])\n",
    "plt.show()"
   ]
  },
  {
   "cell_type": "code",
   "execution_count": 64,
   "metadata": {},
   "outputs": [],
   "source": [
    "test_trans_mat = calc_learned_state_trans_mat(linpos_flat, x_bins, arm_coordinates, gauss_smooth_std=0.01,\n",
    "                                                uniform_offset_gain=0.001)\n",
    "plt.figure(figsize=[20,20])\n",
    "plt.imshow(test_trans_mat)\n",
    "plt.colorbar()\n",
    "plt.show()"
   ]
  },
  {
   "cell_type": "code",
   "execution_count": 41,
   "metadata": {
    "scrolled": true
   },
   "outputs": [],
   "source": [
    "dec_bin_size"
   ]
  },
  {
   "cell_type": "code",
   "execution_count": 42,
   "metadata": {
    "scrolled": false
   },
   "outputs": [],
   "source": [
    "%%time\n",
    "\n",
    "dec_est_map = x_bins[np.argmax(posteriors, axis=1)]\n",
    "dec_est_pos = pd.DataFrame({'est_pos': dec_est_map}, index=pd.Index(data=dec_bin_times, name='timestamp'))\n",
    "\n",
    "pos_data_bins = bin_pos_data(pos_data_linpos, dec_bin_size)"
   ]
  },
  {
   "cell_type": "code",
   "execution_count": 43,
   "metadata": {},
   "outputs": [],
   "source": [
    "arm_coordinates"
   ]
  },
  {
   "cell_type": "code",
   "execution_count": 44,
   "metadata": {
    "collapsed": true,
    "scrolled": false
   },
   "outputs": [],
   "source": [
    "center_dec_error, left_dec_error, right_dec_error = calc_error_table(pos_data_bins, dec_est_pos,\n",
    "                                                                     arm_coordinates, 0)"
   ]
  },
  {
   "cell_type": "code",
   "execution_count": 45,
   "metadata": {},
   "outputs": [],
   "source": [
    "plot_arms_error(center_dec_error, left_dec_error, right_dec_error, [2350, 3400])\n",
    "plt.show()"
   ]
  },
  {
   "cell_type": "code",
   "execution_count": 46,
   "metadata": {},
   "outputs": [],
   "source": [
    "print('median error center: {:0.5}, left: {:0.5}, right: {:.5}'.format(np.median(center_dec_error['abs_error']),\n",
    "                                                                       np.median(left_dec_error['abs_error']),\n",
    "                                                                       np.median(right_dec_error['abs_error'])))\n",
    "\n",
    "print('mean error center: {:0.5}, left: {:0.5}, right: {:.5}'.format(np.mean(center_dec_error['abs_error']),\n",
    "                                                                       np.mean(left_dec_error['abs_error']),\n",
    "                                                                       np.mean(right_dec_error['abs_error'])))"
   ]
  },
  {
   "cell_type": "code",
   "execution_count": 47,
   "metadata": {
    "scrolled": true
   },
   "outputs": [],
   "source": [
    "plt_ranges = [[2461 + 810, 2461+850]]\n",
    "             \n",
    "for plt_range in plt_ranges:\n",
    "    \n",
    "    plt.figure(figsize=[400,20])\n",
    "    plt.subplot(2,1,1)\n",
    "    plot_decode_2d(dec_est, dec_bin_times, stim_lockout_ranges, linpos_flat, plt_range)\n",
    "    plt.xticks(np.arange(plt_range[0], plt_range[1], 1.0))\n",
    "    plt.clim(0, 0.1)\n",
    "    \n",
    "    plt.subplot(2,1,2)\n",
    "    plot_decode_2d(posteriors, dec_bin_times, stim_lockout_ranges, linpos_flat, plt_range)\n",
    "    plt.xticks(np.arange(plt_range[0], plt_range[1], 1.0))\n",
    "\n",
    "    plt.clim(0, 0.1)\n",
    "plt.show()"
   ]
  },
  {
   "cell_type": "code",
   "execution_count": 48,
   "metadata": {},
   "outputs": [],
   "source": [
    "plt_ranges = [[3311, 3312]]\n",
    "             \n",
    "for plt_range in plt_ranges:\n",
    "    \n",
    "    plt.figure(figsize=[20,10])\n",
    "\n",
    "    plot_decode_2d(posteriors, dec_bin_times, stim_lockout_ranges, linpos_flat, plt_range, 1.0)\n",
    "\n",
    "\n",
    "plt.show()"
   ]
  },
  {
   "cell_type": "code",
   "execution_count": 49,
   "metadata": {},
   "outputs": [],
   "source": [
    "np.nonzero((dec_bin_times > 3265*30000) & (dec_bin_times < 3266*30000) )"
   ]
  },
  {
   "cell_type": "code",
   "execution_count": 50,
   "metadata": {},
   "outputs": [],
   "source": [
    "dec_bin_times[0]/30000"
   ]
  },
  {
   "cell_type": "code",
   "execution_count": 51,
   "metadata": {
    "collapsed": true
   },
   "outputs": [],
   "source": [
    "count = -10"
   ]
  },
  {
   "cell_type": "code",
   "execution_count": 52,
   "metadata": {},
   "outputs": [],
   "source": [
    "count += 10\n",
    "plt.figure(figsize=[20,10])\n",
    "for ii in range(10):\n",
    "    plt.subplot(2,5,ii+1)\n",
    "    plt.plot(posteriors[80401+ii+count])\n",
    "    \n",
    "plt.show()"
   ]
  },
  {
   "cell_type": "code",
   "execution_count": 53,
   "metadata": {},
   "outputs": [],
   "source": [
    "plt.figure(figsize=(20,10))\n",
    "plt.plot(np.convolve(spike_decode.loc[300002, 'x0':'x449'].values, pos_kernel, mode='same'))\n",
    "\n",
    "plt.show()"
   ]
  },
  {
   "cell_type": "code",
   "execution_count": null,
   "metadata": {
    "collapsed": true
   },
   "outputs": [],
   "source": []
  },
  {
   "cell_type": "code",
   "execution_count": 54,
   "metadata": {},
   "outputs": [],
   "source": [
    "plt.figure(figsize=(20,20))\n",
    "\n",
    "for ii, (tet_id, tet_fr) in enumerate(firing_rate.items()):\n",
    "    plt.subplot(9,1,ii+1)\n",
    "    \n",
    "    plt.plot(tet_fr)\n",
    "\n",
    "plt.show()"
   ]
  },
  {
   "cell_type": "code",
   "execution_count": 55,
   "metadata": {},
   "outputs": [],
   "source": [
    "plt.figure(figsize=(20,20))\n",
    "\n",
    "for ii, (tet_id, tet_prob_no) in enumerate(prob_no_spike.items()):\n",
    "    plt.subplot(9,1,ii+1)\n",
    "    \n",
    "    plt.plot(tet_prob_no)\n",
    "\n",
    "plt.show()"
   ]
  },
  {
   "cell_type": "code",
   "execution_count": 56,
   "metadata": {
    "scrolled": false
   },
   "outputs": [],
   "source": [
    "likelihood_test = np.ones(len(x_bins))\n",
    "\n",
    "plt.figure( figsize=(40,20))\n",
    "for tet_ii, tet_fr in enumerate(firing_rate.values()):\n",
    "    likelihood_test *= np.exp(-dec_bin_size/30000 * (tet_fr / occupancy))\n",
    "    \n",
    "    plt.subplot(9,2,tet_ii*2 + 1)\n",
    "    plt.plot( likelihood_test)\n",
    "    plt.subplot(9,2, tet_ii*2+2)\n",
    "    plt.plot(x_bins, tet_fr/occupancy)\n",
    "\n",
    "likelihood_test[np.isinf(likelihood_test)] = 0\n",
    "\n",
    "likelihood_test = np.convolve(likelihood_test, pos_kernel, mode='same')\n",
    "plt.subplot(9,2, 17)\n",
    "plt.plot(x_bins, likelihood_test)\n",
    "    \n",
    "plt.show()"
   ]
  },
  {
   "cell_type": "code",
   "execution_count": 57,
   "metadata": {
    "scrolled": false
   },
   "outputs": [],
   "source": [
    "\n",
    "plt_ii = 79953\n",
    "num_spikes = bin_num_spikes[plt_ii]\n",
    "plt.figure(figsize=[10*num_spikes,5])\n",
    "plt_spk_dec = spike_decode.query('dec_bin == {}'.format(plt_ii))\n",
    "\n",
    "spk_dec_single_agg = np.ones(len(x_bins))\n",
    "for subplt_ii, spk_dec_single in enumerate(plt_spk_dec.loc[:, 'x0':'x{:d}'.format(pos_num_bins-1)].values):\n",
    "    plt.subplot(1,16,subplt_ii+1)\n",
    "    plt.plot(x_bins, spk_dec_single)\n",
    "    spk_dec_single_agg *= spk_dec_single + 0.001\n",
    "    \n",
    "plt.subplot(1,16,6)\n",
    "plt.plot(x_bins, spk_dec_single_agg)\n",
    "    \n",
    "plt.figure(figsize=[30,5])\n",
    "print(\"ii {} had {} spikes\".format(plt_ii, num_spikes))\n",
    "plt.subplot(1,4,1)\n",
    "plt.plot(x_bins, dec_est[plt_ii,:])\n",
    "plt.title('aggregate observations')\n",
    "plt.subplot(1,4,2)\n",
    "plt.plot(x_bins, likelihoods[plt_ii,:])\n",
    "plt.title('likelihoods')\n",
    "plt.subplot(1,4,3)\n",
    "plt.plot(x_bins, posteriors[plt_ii-1,:])\n",
    "plt.title('last_posterior')\n",
    "plt.subplot(1,4,4)\n",
    "plt.plot(x_bins, posteriors[plt_ii,:])\n",
    "plt.title('posteriors')\n",
    "plt.show()"
   ]
  },
  {
   "cell_type": "code",
   "execution_count": 58,
   "metadata": {},
   "outputs": [],
   "source": [
    "np.searchsorted(dec_bin_times, 3260*30000)\n",
    "np.sum(dec_est[79900]) * 3\n",
    "(np.sum(posteriors, axis=1) * 3).all()\n",
    "\n",
    "bin_num_spikes[79900]"
   ]
  },
  {
   "cell_type": "code",
   "execution_count": null,
   "metadata": {
    "collapsed": true
   },
   "outputs": [],
   "source": []
  },
  {
   "cell_type": "code",
   "execution_count": 59,
   "metadata": {},
   "outputs": [],
   "source": [
    "#plt.plot(dec_est[79900])\n",
    "plt.plot(posteriors[79900,:])\n",
    "\n",
    "plt.show()\n"
   ]
  },
  {
   "cell_type": "code",
   "execution_count": 60,
   "metadata": {},
   "outputs": [],
   "source": [
    "plt.plot(occupancy)\n",
    "plt.show()"
   ]
  },
  {
   "cell_type": "code",
   "execution_count": 61,
   "metadata": {
    "scrolled": true
   },
   "outputs": [],
   "source": [
    "for tet_fr in firing_rate.values():\n",
    "    plt.figure()\n",
    "    plt.plot(x_bins, ( tet_fr))\n",
    "\n",
    "plt.show()"
   ]
  },
  {
   "cell_type": "code",
   "execution_count": 62,
   "metadata": {
    "scrolled": false
   },
   "outputs": [],
   "source": [
    "plt_ii = 79900\n",
    "num_spikes = bin_num_spikes[plt_ii]\n",
    "plt.figure(figsize=[10*num_spikes,5])\n",
    "plt_spk_dec = spike_decode.query('dec_bin == {}'.format(plt_ii))\n",
    "\n",
    "for subplt_ii, spk_dec_single in enumerate(plt_spk_dec.loc[:, 'x0':'x449'].values):\n",
    "    plt.subplot(1,4,subplt_ii+1)\n",
    "    plt.plot(x_bins, spk_dec_single)\n",
    "    \n",
    "plt.figure(figsize=[30,5])\n",
    "print(\"ii {} had {} spikes\".format(plt_ii, num_spikes))\n",
    "plt.subplot(1,4,1)\n",
    "plt.plot(x_bins, dec_est[plt_ii,:])\n",
    "plt.title('aggregate observations')\n",
    "plt.subplot(1,4,2)\n",
    "plt.plot(x_bins, likelihoods[plt_ii,:])\n",
    "plt.title('likelihoods')\n",
    "plt.subplot(1,4,3)\n",
    "plt.plot(x_bins, posteriors[plt_ii-1,:])\n",
    "plt.title('last_posterior')\n",
    "plt.subplot(1,4,4)\n",
    "plt.plot(x_bins, posteriors[plt_ii,:])\n",
    "plt.title('posteriors')\n",
    "plt.show()"
   ]
  }
 ],
 "metadata": {
  "git": {
   "suppress_outputs": true
  },
  "kernelspec": {
   "display_name": "Python 3",
   "language": "python",
   "name": "python3"
  },
  "language_info": {
   "codemirror_mode": {
    "name": "ipython",
    "version": 3
   },
   "file_extension": ".py",
   "mimetype": "text/x-python",
   "name": "python",
   "nbconvert_exporter": "python",
   "pygments_lexer": "ipython3",
   "version": "3.6.3"
  }
 },
 "nbformat": 4,
 "nbformat_minor": 2
}