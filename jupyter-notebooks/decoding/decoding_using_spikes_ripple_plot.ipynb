{
 "cells": [
  {
   "cell_type": "code",
   "execution_count": 1,
   "metadata": {
    "collapsed": true
   },
   "outputs": [],
   "source": [
    "import pandas as pd\n",
    "import numpy as np\n",
    "import matplotlib.pyplot as plt\n",
    "import json\n",
    "import os\n",
    "\n",
    "import spykshrk.realtime.simulator.nspike_data as nspike_data\n",
    "\n",
    "#pd.set_option('float_format', '{:,.2f}'.format)\n",
    "pd.set_option('display.precision', 4)\n",
    "pd.set_option('display.max_rows', 10)\n",
    "#pd.set_option('display.width', 180)\n",
    "\n",
    "\n",
    "idx = pd.IndexSlice"
   ]
  },
  {
   "cell_type": "code",
   "execution_count": 2,
   "metadata": {},
   "outputs": [],
   "source": [
    "# Load merged rec HDF store based on config\n",
    "\n",
    "config_file = '/opt/data36/daliu/realtime/spykshrk/ripple_dec/bond.config.json'\n",
    "config = json.load(open(config_file, 'r'))\n",
    "\n",
    "hdf_file = os.path.join(config['files']['output_dir'],\n",
    "                        '{}.rec_merged.h5'.format(config['files']['prefix']))\n",
    "\n",
    "store = pd.HDFStore(hdf_file, mode='r')\n",
    "spike_decode = store['rec_3']\n",
    "stim_lockout = store['rec_11']"
   ]
  },
  {
   "cell_type": "code",
   "execution_count": 3,
   "metadata": {
    "collapsed": true
   },
   "outputs": [],
   "source": [
    "stim_lockout_ranges = stim_lockout.pivot(index='lockout_num',columns='lockout_state', values='timestamp')\n",
    "stim_lockout_ranges = stim_lockout_ranges.reindex(columns=[1,0])\n"
   ]
  },
  {
   "cell_type": "code",
   "execution_count": 4,
   "metadata": {
    "collapsed": true
   },
   "outputs": [],
   "source": [
    "# Get table with decode for each spike and generate decode bin mask\n",
    "\n",
    "dec_bin_size = 750     # Decode bin size in samples (usually 30kHz)\n",
    "\n",
    "dec_bins = np.floor((spike_decode['timestamp'] - spike_decode['timestamp'][0])/dec_bin_size).astype('int')\n",
    "spike_decode['dec_bin'] = dec_bins"
   ]
  },
  {
   "cell_type": "code",
   "execution_count": 5,
   "metadata": {
    "collapsed": true
   },
   "outputs": [],
   "source": [
    "# Loop through each bin and generate normalized posterior estimate of location\n",
    "\n",
    "pos_bin_delta = ((config['encoder']['position']['upper'] - config['encoder']['position']['lower']) / \n",
    "                 config['encoder']['position']['bins'])\n",
    "pos_num_bins = config['encoder']['position']['bins']\n",
    "\n",
    "dec_bin_ids = np.unique(dec_bins)\n",
    "dec_est = np.zeros([dec_bin_ids[-1]+1, pos_num_bins])\n",
    "dec_est_bin_time = np.floor(spike_decode['timestamp'][0] / dec_bin_size) * dec_bin_size\n",
    "\n",
    "start_bin_time = np.floor(spike_decode['timestamp'][0] / dec_bin_size) * dec_bin_size\n",
    "dec_bin_times = np.arange(start_bin_time, start_bin_time + dec_bin_size * len(dec_est), dec_bin_size)\n",
    "\n",
    "for bin_id in dec_bin_ids:\n",
    "    spikes_in_bin = spike_decode[spike_decode['dec_bin'] == bin_id]\n",
    "    dec_in_bin = np.ones(pos_num_bins)\n",
    "    for dec in spikes_in_bin.loc[:, 'x0':'x{:d}'.format(pos_num_bins-1)].values:\n",
    "        dec_in_bin *= dec               \n",
    "        dec_in_bin = dec_in_bin / (np.sum(dec_in_bin) * pos_bin_delta)\n",
    "\n",
    "\n",
    "    dec_est[bin_id, :] = dec_in_bin"
   ]
  },
  {
   "cell_type": "code",
   "execution_count": 6,
   "metadata": {},
   "outputs": [],
   "source": [
    "# Get real position\n",
    "\n",
    "nspike_anim = nspike_data.AnimalInfo(**config['simulator']['nspike_animal_info'])\n",
    "pos = nspike_data.PosMatDataStream(nspike_anim)\n",
    "pos_data = pos.data\n"
   ]
  },
  {
   "cell_type": "code",
   "execution_count": 7,
   "metadata": {},
   "outputs": [],
   "source": [
    "# Transform position into simpler table with only linear position\n",
    "pos_data_time = pos_data.loc[:, 'time']\n",
    "\n",
    "pos_data_linpos = pos_data.loc[:,'lin_dist_well']\n",
    "pos_data_linpos.loc[:, 'lin_vel_center'] = pos_data.loc[:,('lin_vel', 'well_center')]\n",
    "pos_data_linpos.loc[:, 'seg_idx'] = pos_data.loc[:,('seg_idx', 0)]\n",
    "pos_data_linpos.loc[:,'timestamps'] = pos_data_time*30000\n",
    "pos_data_linpos = pos_data_linpos.set_index('timestamps')"
   ]
  },
  {
   "cell_type": "code",
   "execution_count": null,
   "metadata": {
    "collapsed": true
   },
   "outputs": [],
   "source": []
  },
  {
   "cell_type": "code",
   "execution_count": 8,
   "metadata": {
    "collapsed": true
   },
   "outputs": [],
   "source": [
    "# Convert real pos to realtime system linear map (single linear coordinate)\n",
    "\n",
    "center_pos_flat = pos_data_linpos[pos_data_linpos['seg_idx'] == 1]['well_center']\n",
    "left_pos_flat = pos_data_linpos[(pos_data_linpos['seg_idx'] == 2) | \n",
    "                                (pos_data_linpos['seg_idx'] == 3)]['well_left'] + 150\n",
    "right_pos_flat = pos_data_linpos[(pos_data_linpos['seg_idx'] == 4) | \n",
    "                                 (pos_data_linpos['seg_idx'] == 5)]['well_right'] + 300\n",
    "\n",
    "center_pos_flat.name = 'linpos_flat'\n",
    "left_pos_flat.name = 'linpos_flat'\n",
    "right_pos_flat.name = 'linpos_flat'\n",
    "\n",
    "linpos_flat = pd.concat([center_pos_flat, left_pos_flat, right_pos_flat])\n",
    "linpos_flat = linpos_flat.sort_index()"
   ]
  },
  {
   "cell_type": "code",
   "execution_count": 16,
   "metadata": {},
   "outputs": [],
   "source": [
    "spike_decode['timestamp']/30000"
   ]
  },
  {
   "cell_type": "code",
   "execution_count": 22,
   "metadata": {},
   "outputs": [],
   "source": [
    "\n",
    "plt_ranges = [[5200, 5400]]\n",
    "             \n",
    "for plt_range in plt_ranges:\n",
    "    stim_lockout_ranges_sec = stim_lockout_ranges/30000\n",
    "    stim_lockout_range_sec_sub = stim_lockout_ranges_sec[(stim_lockout_ranges_sec[1] > plt_range[0]) & (stim_lockout_ranges_sec[0] < plt_range[1])]\n",
    "\n",
    "    plt.figure(figsize=[400,15])\n",
    "\n",
    "\n",
    "    plt.imshow(dec_est[(dec_bin_times > plt_range[0]*30000) & (dec_bin_times < plt_range[1]*30000)].transpose(), \n",
    "               extent=[plt_range[0], plt_range[1], 0, 450], origin='lower', aspect='auto', cmap='hot', zorder=0)\n",
    "\n",
    "    linpos_index_s = linpos_flat.index / 30000\n",
    "    index_mask = (linpos_index_s > plt_range[0]) & (linpos_index_s < plt_range[1])\n",
    "\n",
    "    plt.plot(linpos_index_s[index_mask],\n",
    "             linpos_flat.values[index_mask], 'c.', zorder=1, markersize=5)\n",
    "\n",
    "    # plt.plot(stim_lockout_range_sec_sub.values.transpose(), np.tile([[440], [440]], [1, len(stim_lockout_range_sec_sub)]), 'c-*' )\n",
    "\n",
    "    for stim_lockout in stim_lockout_range_sec_sub.values:\n",
    "        plt.axvspan(stim_lockout[0], stim_lockout[1], facecolor='#AAAAAA', alpha=0.3)\n",
    "\n",
    "    plt.plot(plt_range, [74, 74], '--', color='gray')\n",
    "    plt.plot(plt_range, [148, 148], '--', color='gray')\n",
    "    plt.plot(plt_range, [256, 256], '--', color='gray')\n",
    "    plt.plot(plt_range, [298, 298], '--', color='gray')\n",
    "    plt.plot(plt_range, [407, 407], '--', color='gray')\n",
    "\n",
    "plt.colorbar()\n",
    "plt.show()"
   ]
  },
  {
   "cell_type": "code",
   "execution_count": null,
   "metadata": {
    "collapsed": true
   },
   "outputs": [],
   "source": []
  }
 ],
 "metadata": {
  "git": {
   "suppress_outputs": true
  },
  "kernelspec": {
   "display_name": "Python 3",
   "language": "python",
   "name": "python3"
  },
  "language_info": {
   "codemirror_mode": {
    "name": "ipython",
    "version": 3
   },
   "file_extension": ".py",
   "mimetype": "text/x-python",
   "name": "python",
   "nbconvert_exporter": "python",
   "pygments_lexer": "ipython3",
   "version": "3.6.1"
  }
 },
 "nbformat": 4,
 "nbformat_minor": 2
}