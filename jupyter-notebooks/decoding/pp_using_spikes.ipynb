{
 "cells": [
  {
   "cell_type": "code",
   "execution_count": 1,
   "metadata": {
    "scrolled": false
   },
   "outputs": [],
   "source": [
    "cd /home/daliu/Src/spykshrk_realtime/"
   ]
  },
  {
   "cell_type": "code",
   "execution_count": 94,
   "metadata": {},
   "outputs": [],
   "source": [
    "import pandas as pd\n",
    "import numpy as np\n",
    "import scipy as sp\n",
    "import matplotlib\n",
    "import matplotlib.pyplot as plt\n",
    "from matplotlib import patches\n",
    "import json\n",
    "import os\n",
    "import scipy.signal\n",
    "import dask\n",
    "import dask.dataframe as dd\n",
    "\n",
    "import holoviews as hv\n",
    "from holoviews.operation.datashader import aggregate, shade, datashade, dynspread\n",
    "from holoviews.operation import decimate\n",
    "\n",
    "from spykshrk.realtime.simulator import nspike_data\n",
    "\n",
    "from spykshrk.franklab.pp_decoder.util import gaussian, normal2D, apply_no_anim_boundary, simplify_pos_pandas\n",
    "from spykshrk.franklab.pp_decoder.pp_clusterless import OfflinePPDecoder\n",
    "from spykshrk.franklab.pp_decoder.data_containers import EncodeSettings, DecodeSettings, SpikeObservation, \\\n",
    "                                                         LinearPosition, StimLockout, Posteriors, \\\n",
    "                                                         FlatLinearPosition, pos_col_format\n",
    "\n",
    "from spykshrk.franklab.pp_decoder.visualization import DecodeVisualizer, DecodeErrorVisualizer\n",
    "from spykshrk.franklab.pp_decoder.decode_error import LinearDecodeError\n",
    "\n",
    "        \n",
    "%load_ext Cython\n",
    "\n",
    "%matplotlib inline\n",
    "\n",
    "#pd.set_option('float_format', '{:,.2f}'.format)\n",
    "pd.set_option('display.precision', 4)\n",
    "pd.set_option('display.max_rows', 10)\n",
    "pd.set_option('display.max_columns', 15)\n",
    "#pd.set_option('display.width', 80)\n",
    "\n",
    "idx = pd.IndexSlice\n",
    "\n",
    "#matplotlib.rcParams.update({'font.size': 18})\n",
    "\n",
    "hv.extension('matplotlib')\n",
    "hv.extension('bokeh')\n",
    "hv.Store.renderers['bokeh'].webgl = False"
   ]
  },
  {
   "cell_type": "code",
   "execution_count": 3,
   "metadata": {
    "collapsed": true
   },
   "outputs": [],
   "source": [
    "from holoviews import Store\n",
    "from bokeh.models.arrow_heads import TeeHead\n",
    "Store.add_style_opts(hv.ErrorBars, ['upper_head', 'lower_head'], backend='bokeh')"
   ]
  },
  {
   "cell_type": "code",
   "execution_count": 4,
   "metadata": {},
   "outputs": [],
   "source": [
    "try:\n",
    "    cluster.close()\n",
    "    client.close()\n",
    "except:\n",
    "    print(\"No cluster or client\")\n",
    "    \n",
    "from dask.distributed import Client, LocalCluster\n",
    "\n",
    "cluster = LocalCluster(n_workers=20, threads_per_worker=2,)\n",
    "client = Client(cluster)"
   ]
  },
  {
   "cell_type": "code",
   "execution_count": 5,
   "metadata": {
    "scrolled": true
   },
   "outputs": [],
   "source": [
    "%%time\n",
    "# Load merged rec HDF store based on config\n",
    "\n",
    "#config_file = '/opt/data36/daliu/realtime/spykshrk/ripple_dec/bond.config.json'\n",
    "#config_file = '/opt/data36/daliu/realtime/spykshrk/dec_60uv/bond.config.json'\n",
    "config_file = '/home/daliu/Src/spykshrk_realtime/config/bond_single.json'\n",
    "config = json.load(open(config_file, 'r'))\n",
    "\n",
    "day = config['simulator']['nspike_animal_info']['days'][0]\n",
    "epoch = config['simulator']['nspike_animal_info']['epochs'][0]\n",
    "time_bin_size = config['pp_decoder']['bin_size']\n",
    "\n",
    "# Main hdf5 data source file name\n",
    "hdf_file = os.path.join(config['files']['output_dir'],\n",
    "                        '{}.rec_merged.h5'.format(config['files']['prefix']))\n",
    "\n",
    "# Extract just encode and decode settings from config\n",
    "encode_settings = EncodeSettings(config)\n",
    "decode_settings = DecodeSettings(config)\n",
    "\n",
    "# Open data file\n",
    "store = pd.HDFStore(hdf_file, mode='r')\n",
    "\n",
    "# Encapsulate Spike Observation panda table in container\n",
    "observ_obj = SpikeObservation.from_realtime(store['rec_3'], day=day, epoch=epoch, enc_settings=encode_settings)\n",
    "\n",
    "# Grab stimulation lockout times\n",
    "stim_lockout = StimLockout.from_realtime(store['rec_11'], enc_settings=encode_settings)\n",
    "\n",
    "# Grab animal linearized real position\n",
    "nspike_anim = nspike_data.AnimalInfo(**config['simulator']['nspike_animal_info'])\n",
    "pos = nspike_data.PosMatDataStream(nspike_anim)\n",
    "pos_data = pos.data\n",
    "\n",
    "# Encapsulate linear position\n",
    "lin_obj = LinearPosition.from_nspike_posmat(pos_data, encode_settings)"
   ]
  },
  {
   "cell_type": "code",
   "execution_count": 6,
   "metadata": {},
   "outputs": [],
   "source": [
    "observ_obj"
   ]
  },
  {
   "cell_type": "code",
   "execution_count": 7,
   "metadata": {
    "collapsed": true
   },
   "outputs": [],
   "source": [
    "#%pdb"
   ]
  },
  {
   "cell_type": "code",
   "execution_count": 8,
   "metadata": {
    "scrolled": true
   },
   "outputs": [],
   "source": [
    "%%prun -r -s cumulative\n",
    "\n",
    "# Run PP decoding algorithm\n",
    "time_bin_size = 30\n",
    "\n",
    "decoder = OfflinePPDecoder(lin_obj=lin_obj, observ_obj=observ_obj,\n",
    "                           encode_settings=encode_settings, decode_settings=decode_settings, \n",
    "                           which_trans_mat='learned', time_bin_size=time_bin_size)\n",
    "\n",
    "posteriors = decoder.run_decoder()"
   ]
  },
  {
   "cell_type": "code",
   "execution_count": 9,
   "metadata": {
    "collapsed": true
   },
   "outputs": [],
   "source": [
    "#%%prun -r -s cumulative\n",
    "like = decoder._calc_observation_single_bin(observ_obj.groupby('parallel_bin').get_group(0),\n",
    "                                     observ_obj['elec_grp_id'].unique(), decoder.prob_no_spike, 30, encode_settings)\n",
    "\n"
   ]
  },
  {
   "cell_type": "code",
   "execution_count": 10,
   "metadata": {},
   "outputs": [],
   "source": [
    "## Plot posteriors\n",
    "#plt_ranges = [[2461, 2641]]\n",
    "#plt_ranges = [[2461, 3405]]\n",
    "#plt_ranges = [[2930, 3100]]\n",
    "#plt_ranges = [[3295, 3325]]\n",
    "plt_ranges = [None]\n",
    "#plt_ranges = [[0,600]]\n",
    "dec_viz = DecodeVisualizer(posteriors.get_relative_index(), linpos=lin_obj.get_relative_index(), \n",
    "                           enc_settings=encode_settings)\n",
    "for plt_range in plt_ranges:\n",
    "    \n",
    "    fig, ax = plt.subplots(figsize=[200,10])\n",
    "    dec_viz.plot_decode_image(plt_range=plt_range, x_tick=10)\n",
    "    dec_viz.plot_linear_pos(plt_range=plt_range)\n",
    "    #DecodeVisualizer.plot_stim_lockout(ax, stim_lockout, plt_range, encode_settings.arm_coordinates[2][1] + 10)\n",
    "    \n",
    "    #plt.xlim(plt_range)\n",
    "    \n",
    "plt.show()"
   ]
  },
  {
   "cell_type": "code",
   "execution_count": 11,
   "metadata": {
    "scrolled": false
   },
   "outputs": [],
   "source": [
    "## Plot posteriors\n",
    "#plt_ranges = [[3260, 3280]]\n",
    "#plt_ranges = [[3175, 3200]]\n",
    "#plt_ranges = [[3102, 3106]]\n",
    "plt_ranges = [[2943, 2950]]\n",
    "\n",
    "dec_viz = DecodeVisualizer(posteriors, linpos=lin_obj, \n",
    "                           enc_settings=encode_settings)\n",
    "\n",
    "for plt_range in plt_ranges:\n",
    "    \n",
    "    fig, ax = plt.subplots(figsize=[50,10])\n",
    "    dec_viz.plot_decode_image(plt_range, x_tick=1)\n",
    "    dec_viz.plot_linear_pos(plt_range)\n",
    "    dec_viz.plot_stim_lockout(ax, stim_lockout, plt_range, encode_settings.arm_coordinates[2][1] + 10)\n",
    "    \n",
    "    plt.xlim(plt_range)\n",
    "    \n",
    "plt.show()"
   ]
  },
  {
   "cell_type": "code",
   "execution_count": 12,
   "metadata": {},
   "outputs": [],
   "source": [
    "lin_flat = lin_obj.get_mapped_single_axis()\n",
    "lin_flat"
   ]
  },
  {
   "cell_type": "code",
   "execution_count": 218,
   "metadata": {
    "scrolled": false
   },
   "outputs": [],
   "source": [
    "%%opts Image {+framewise} [height=100 width=250 aspect=3 colorbar=True] (cmap='hot')\n",
    "%%opts Points {+framewise} (marker='o' size=2 alpha=0.5)\n",
    "%%opts RGB [height=100 width=250]\n",
    "%%output backend='matplotlib' size=400 holomap='scrubber'\n",
    "\n",
    "def plot_post(time, plt_range=10, lookahead=5, lookbehind=5):\n",
    "    \n",
    "    behind_time = max(time-lookbehind, posteriors.index.get_level_values('time')[0])\n",
    "    img_sel = posteriors.get_distribution_view().query('time > {} and time < {}'.\n",
    "                                                       format(behind_time, time+plt_range+lookahead)).values.T\n",
    "    img_sel = np.flip(img_sel, axis=0)\n",
    "    linpos_sel = lin_flat.query('time > {} and time < {}'.\n",
    "                                format(behind_time, time+plt_range+lookahead))['linpos_flat'].values\n",
    "    linpos_sel_time = (lin_flat.query('time > {} and time < {}'.\n",
    "                                     format(behind_time, time+plt_range+lookahead))['linpos_flat'].\n",
    "                       index.get_level_values('time'))\n",
    "\n",
    "    img = hv.Image(img_sel, bounds=(behind_time, 0, time+plt_range+lookahead, 450),\n",
    "                   kdims=['sec', 'linpos'], vdims=['probability'], extents=(time, None, time + plt_range, None))\n",
    "    img = img.redim(probability={'range':(0,0.5)})\n",
    "\n",
    "    pos = hv.Points((linpos_sel_time, linpos_sel), kdims=['sec', 'linpos'], extents=(time, None, time + plt_range, None))\n",
    "    #img.opts(plot={'apply_range': (time, None, time + plt_range, None)})\n",
    "    #pos.opts(plot={'apply_range': (time, None, time + plt_range, None)})\n",
    "\n",
    "    over = img * pos\n",
    "    #over_plt = renderer.get_plot(over)\n",
    "    return over\n",
    "\n",
    "dmap = hv.DynamicMap(plot_post, kdims=[hv.Dimension('time', values=np.arange(posteriors.index.get_level_values('time')[0],\n",
    "                                                                      posteriors.index.get_level_values('time')[-1],\n",
    "                                                                      10))])\n",
    "\n",
    "dmap"
   ]
  },
  {
   "cell_type": "code",
   "execution_count": null,
   "metadata": {
    "collapsed": true
   },
   "outputs": [],
   "source": []
  },
  {
   "cell_type": "code",
   "execution_count": 216,
   "metadata": {
    "scrolled": true
   },
   "outputs": [],
   "source": [
    "dec_est_pos = posteriors.get_distribution_view().idxmax(axis=1).apply(lambda x: int(x[1:])).to_frame()\n",
    "dec_est_pos.columns = ['est_pos']\n",
    "\n",
    "dec_est_pos = FlatLinearPosition.create_default(dec_est_pos, encode_settings.sampling_rate,\n",
    "                                                encode_settings.arm_coordinates, parent=posteriors)\n",
    "\n",
    "resamp_lin_obj = lin_obj.get_resampled(time_bin_size).get_pd_no_multiindex()\n",
    "\n",
    "error_obj = LinearDecodeError()\n",
    "\n",
    "error_table = error_obj.calc_error_table(resamp_lin_obj, dec_est_pos,\n",
    "                                         encode_settings.arm_coordinates, 2)\n",
    "\n",
    "print(error_table.loc[:, idx[:, 'abs_error']].median())0\n",
    "print(error_table.loc[:, idx[:, 'abs_error']].mean())"
   ]
  },
  {
   "cell_type": "code",
   "execution_count": 217,
   "metadata": {},
   "outputs": [],
   "source": [
    "%%opts Points {+framewise} [height=500 width=1000] (color=Cycle(values=['#FF0099', '#99FF00', '#5555FF']))\n",
    "%%opts ErrorBars {+framewise} [height=500 width=1000] (line_color=Cycle(values=['#FF0099', '#99FF00', '#5555FF']) alpha=0.5 line_width=1 upper_head=TeeHead(size=0) lower_head=TeeHead(size=0))\n",
    "%%output holomap='scrubber'\n",
    "\n",
    "err_viz = DecodeErrorVisualizer(error_table)\n",
    "\n",
    "dmap = err_viz.plot_arms_error_dmap(slide_interval=10, plot_interval=20)\n",
    "\n",
    "dmap"
   ]
  },
  {
   "cell_type": "code",
   "execution_count": null,
   "metadata": {
    "collapsed": true
   },
   "outputs": [],
   "source": [
    "%%opts Points {+framewise} [height=500 width=1000] (color=Cycle(values=['#FF0099', '#99FF00', '#5555FF']))\n",
    "%%opts ErrorBars {+framewise} (line_color=Cycle(values=['#FF0099', '#99FF00', '#5555FF']) alpha=0.5 line_width=1 upper_head=TeeHead(size=0) lower_head=TeeHead(size=0))\n",
    "%%output holomap='scrubber'\n",
    "\n",
    "err_viz.plot_arms_error"
   ]
  },
  {
   "cell_type": "code",
   "execution_count": 133,
   "metadata": {},
   "outputs": [],
   "source": [
    "tab = hv.Table(pd.DataFrame([[1,2,3]], columns=['a','b','c']))\n",
    "\n",
    "tab['a']+tab['b']"
   ]
  }
 ],
 "metadata": {
  "git": {
   "suppress_outputs": true
  },
  "kernelspec": {
   "display_name": "Python 3",
   "language": "python",
   "name": "python3"
  },
  "language_info": {
   "codemirror_mode": {
    "name": "ipython",
    "version": 3
   },
   "file_extension": ".py",
   "mimetype": "text/x-python",
   "name": "python",
   "nbconvert_exporter": "python",
   "pygments_lexer": "ipython3",
   "version": "3.6.3"
  }
 },
 "nbformat": 4,
 "nbformat_minor": 2
}