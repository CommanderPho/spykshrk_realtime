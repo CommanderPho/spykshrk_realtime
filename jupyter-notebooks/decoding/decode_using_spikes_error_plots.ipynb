{
 "cells": [
  {
   "cell_type": "code",
   "execution_count": 1,
   "metadata": {},
   "outputs": [],
   "source": [
    "import pandas as pd\n",
    "import numpy as np\n",
    "import matplotlib.pyplot as plt\n",
    "import json\n",
    "import os\n",
    "from functools import partial\n",
    "\n",
    "import spykshrk.realtime.simulator.nspike_data as nspike_data\n",
    "\n",
    "from spykshrk.franklab.pp_decoder.util import gaussian\n",
    "from spykshrk.franklab.pp_decoder.pp_clusterless import calc_observation_intensity\n",
    "from spykshrk.franklab.pp_decoder.decode_error import bin_pos_data, calc_error_table, \\\n",
    "                                                      conv_center_pos, conv_left_pos, conv_right_pos\n",
    "\n",
    "#pd.set_option('float_format', '{:,.2f}'.format)\n",
    "pd.set_option('display.precision', 4)\n",
    "pd.set_option('display.max_rows', 10)\n",
    "#pd.set_option('display.width', 180)\n",
    "\n",
    "idx = pd.IndexSlice"
   ]
  },
  {
   "cell_type": "code",
   "execution_count": 2,
   "metadata": {
    "collapsed": true
   },
   "outputs": [],
   "source": [
    "# Load merged rec HDF store based on config\n",
    "\n",
    "config_file = '/opt/data36/daliu/realtime/spykshrk/dec_60uv_300samp/bond.config.json'\n",
    "config = json.load(open(config_file, 'r'))\n",
    "\n",
    "hdf_file = os.path.join(config['files']['output_dir'],\n",
    "                        '{}.rec_merged.h5'.format(config['files']['prefix']))\n",
    "\n",
    "store = pd.HDFStore(hdf_file, mode='r')\n",
    "spike_decode = store['rec_3']"
   ]
  },
  {
   "cell_type": "code",
   "execution_count": 3,
   "metadata": {},
   "outputs": [],
   "source": [
    "# Get table with decode for each spike and generate decode bin mask\n",
    "\n",
    "dec_bin_size = 6000     # Decode bin size in samples (usually 30kHz)\n",
    "\n",
    "# Center end is 69\n",
    "# Left end is 102\n",
    "# Right end is 104\n",
    "arm_coordinates = [[0, 69], [150, 150+102], [300, 300+104]]\n",
    "\n",
    "dec_bins = np.floor((spike_decode['timestamp'] - spike_decode['timestamp'][0])/dec_bin_size).astype('int')\n",
    "dec_bin_ids = np.unique(dec_bins)\n",
    "\n",
    "spike_decode['dec_bin'] = dec_bins\n",
    "\n",
    "pos_bin_delta = ((config['encoder']['position']['upper'] - config['encoder']['position']['lower']) / \n",
    "                 config['encoder']['position']['bins'])\n",
    "pos_num_bins = config['encoder']['position']['bins']\n",
    "\n",
    "x_bins = np.linspace(0, pos_bin_delta*(pos_num_bins-1), pos_num_bins)\n",
    "pos_kernel = gaussian(x_bins, x_bins[int(len(x_bins)/2)], 3)\n"
   ]
  },
  {
   "cell_type": "code",
   "execution_count": 4,
   "metadata": {
    "scrolled": false
   },
   "outputs": [],
   "source": [
    "# Loop through each bin and generate normalized posterior estimate of location\n",
    "\n",
    "# Loop through each bin and generate the observation distribution from spikes in bin\n",
    "dec_bin_times, dec_est, bin_num_spikes, firing_rate  = calc_observation_intensity(spike_decode, \n",
    "                                                                                  dec_bin_size,\n",
    "                                                                                  x_bins, \n",
    "                                                                                  pos_kernel,\n",
    "                                                                                  arm_coordinates)"
   ]
  },
  {
   "cell_type": "code",
   "execution_count": 5,
   "metadata": {
    "collapsed": true
   },
   "outputs": [],
   "source": [
    "# Calculate MAP of decoder posterior and scale to real position units\n",
    "\n",
    "dec_est_map = x_bins[np.argmax(dec_est, axis = 1)]\n",
    "\n",
    "dec_est_pos = pd.DataFrame({'est_pos': dec_est_map}, index=pd.Index(data=dec_bin_times, name='timestamp'))"
   ]
  },
  {
   "cell_type": "code",
   "execution_count": 6,
   "metadata": {
    "scrolled": true
   },
   "outputs": [],
   "source": [
    "# Get real position\n",
    "\n",
    "nspike_anim = nspike_data.AnimalInfo(**config['simulator']['nspike_animal_info'])\n",
    "pos = nspike_data.PosMatDataStream(nspike_anim)\n",
    "pos_data = pos.data\n"
   ]
  },
  {
   "cell_type": "code",
   "execution_count": 7,
   "metadata": {},
   "outputs": [],
   "source": [
    "# Transform position into simpler table with only linear position\n",
    "\n",
    "def convert_pos_for_notebook(pos_data): \n",
    "    pos_data_time = pos_data.loc[:, 'time']\n",
    "\n",
    "    pos_data_notebook = pos_data.loc[:,'lin_dist_well']\n",
    "    pos_data_notebook.loc[:, 'lin_vel_center'] = pos_data.loc[:,('lin_vel', 'well_center')]\n",
    "    pos_data_notebook.loc[:, 'seg_idx'] = pos_data.loc[:,('seg_idx', 0)]\n",
    "    pos_data_notebook.loc[:,'timestamps'] = pos_data_time*30000\n",
    "    pos_data_notebook = pos_data_notebook.set_index('timestamps')\n",
    "    \n",
    "    return pos_data_notebook\n",
    "\n",
    "pos_data_notebook = convert_pos_for_notebook(pos_data)"
   ]
  },
  {
   "cell_type": "code",
   "execution_count": 8,
   "metadata": {
    "collapsed": true,
    "scrolled": false
   },
   "outputs": [],
   "source": [
    "# Bin position in the same way as spike dec results\n",
    "\n",
    "pos_data_bins = bin_pos_data(pos_data_notebook, dec_bin_size)"
   ]
  },
  {
   "cell_type": "code",
   "execution_count": 9,
   "metadata": {},
   "outputs": [],
   "source": [
    "dec_est_pos"
   ]
  },
  {
   "cell_type": "code",
   "execution_count": 10,
   "metadata": {},
   "outputs": [],
   "source": [
    "# Separate estimated and real position into separate arms of track, then convert position for both\n",
    "# to be \"well centric\", distance measured from the well the real position is closest to.\n",
    "\n",
    "# Reindex and join real position (linpos) to the decode estimated position table\n",
    "linpos_reindexed = pos_data_bins.reindex(dec_est_pos.index, method='bfill')\n",
    "dec_est_and_linpos = dec_est_pos.join(linpos_reindexed)\n",
    "\n",
    "center_dec_est, left_dec_est, right_dec_est = calc_error_table(dec_est_and_linpos, arm_coordinates, 0)"
   ]
  },
  {
   "cell_type": "code",
   "execution_count": 11,
   "metadata": {},
   "outputs": [],
   "source": [
    "print('median error center: {:0.5}, left: {:0.5}, right: {:.5}'.format(np.median(center_dec_est['abs_error']),\n",
    "                                                                       np.median(left_dec_est['abs_error']),\n",
    "                                                                       np.median(right_dec_est['abs_error'])))\n",
    "\n",
    "print('mean error center: {:0.5}, left: {:0.5}, right: {:.5}'.format(np.mean(center_dec_est['abs_error']),\n",
    "                                                                       np.mean(left_dec_est['abs_error']),\n",
    "                                                                       np.mean(right_dec_est['abs_error'])))"
   ]
  },
  {
   "cell_type": "code",
   "execution_count": null,
   "metadata": {
    "collapsed": true
   },
   "outputs": [],
   "source": []
  },
  {
   "cell_type": "code",
   "execution_count": 12,
   "metadata": {},
   "outputs": [],
   "source": [
    "plt_ranges = [[2350, 3400], [4560, 5550]]\n",
    "for plt_range in plt_ranges:\n",
    "    center_plt_ind = (center_dec_est.index/30000 >= plt_range[0]) & (center_dec_est.index/30000 <= plt_range[1])\n",
    "    left_plt_ind = (left_dec_est.index/30000 >= plt_range[0]) & (left_dec_est.index/30000 <= plt_range[1])\n",
    "    right_plt_ind = (right_dec_est.index/30000 >= plt_range[0]) & (right_dec_est.index/30000 <= plt_range[1])\n",
    "\n",
    "    plt.figure(figsize=[400,10])\n",
    "    plt.errorbar(x=center_dec_est.index[center_plt_ind]/30000,\n",
    "                 y=center_dec_est['real_pos'][center_plt_ind], \n",
    "                 yerr=[center_dec_est['plt_error_up'][center_plt_ind],\n",
    "                       center_dec_est['plt_error_down'][center_plt_ind]], fmt='*')\n",
    "\n",
    "    plt.errorbar(x=left_dec_est.index[left_plt_ind]/30000, \n",
    "                 y=left_dec_est['real_pos'][left_plt_ind], \n",
    "                 yerr=[left_dec_est['plt_error_up'][left_plt_ind],\n",
    "                       left_dec_est['plt_error_down'][left_plt_ind]], fmt='*')\n",
    "\n",
    "    plt.errorbar(x=right_dec_est.index[right_plt_ind]/30000,\n",
    "                 y=right_dec_est['real_pos'][right_plt_ind], \n",
    "                 yerr=[right_dec_est['plt_error_up'][right_plt_ind],\n",
    "                       right_dec_est['plt_error_down'][right_plt_ind]], fmt='*')\n",
    "    # plt.plot(center_dec_est.index/30000, center_dec_est['real_pos'], '*')\n",
    "\n",
    "plt.show()"
   ]
  },
  {
   "cell_type": "code",
   "execution_count": 13,
   "metadata": {
    "scrolled": false
   },
   "outputs": [],
   "source": [
    "plt_ranges = [[4560, 5000], [5000, 5550]]\n",
    "for plt_range in plt_ranges:\n",
    "    center_plt_ind = (center_dec_est.index/30000 >= plt_range[0]) & (center_dec_est.index/30000 <= plt_range[1])\n",
    "    left_plt_ind = (left_dec_est.index/30000 >= plt_range[0]) & (left_dec_est.index/30000 <= plt_range[1])\n",
    "    right_plt_ind = (right_dec_est.index/30000 >= plt_range[0]) & (right_dec_est.index/30000 <= plt_range[1])\n",
    "\n",
    "    plt.figure(figsize=[400,10])\n",
    "    plt.errorbar(x=center_dec_est.index[center_plt_ind]/30000,\n",
    "                 y=center_dec_est['real_pos'][center_plt_ind], \n",
    "                 yerr=[center_dec_est['plt_error_up'][center_plt_ind],\n",
    "                       center_dec_est['plt_error_down'][center_plt_ind]], fmt='*')\n",
    "\n",
    "    plt.errorbar(x=left_dec_est.index[left_plt_ind]/30000, \n",
    "                 y=left_dec_est['real_pos'][left_plt_ind], \n",
    "                 yerr=[left_dec_est['plt_error_up'][left_plt_ind],\n",
    "                       left_dec_est['plt_error_down'][left_plt_ind]], fmt='*')\n",
    "\n",
    "    plt.errorbar(x=right_dec_est.index[right_plt_ind]/30000,\n",
    "                 y=right_dec_est['real_pos'][right_plt_ind], \n",
    "                 yerr=[right_dec_est['plt_error_up'][right_plt_ind],\n",
    "                       right_dec_est['plt_error_down'][right_plt_ind]], fmt='*')\n",
    "    # plt.plot(center_dec_est.index/30000, center_dec_est['real_pos'], '*')\n",
    "\n",
    "plt.show()"
   ]
  },
  {
   "cell_type": "code",
   "execution_count": 14,
   "metadata": {},
   "outputs": [],
   "source": [
    "\n",
    "\n",
    "center_pos_flat = pos_data_notebook[pos_data_notebook['seg_idx'] == 1]['well_center']\n",
    "left_pos_flat = pos_data_notebook[(pos_data_notebook['seg_idx'] == 2) | \n",
    "                                (pos_data_notebook['seg_idx'] == 3)]['well_left'] + 150\n",
    "right_pos_flat = pos_data_notebook[(pos_data_notebook['seg_idx'] == 4) | \n",
    "                                 (pos_data_notebook['seg_idx'] == 5)]['well_right'] + 300\n",
    "\n",
    "center_pos_flat.name = 'linpos_flat'\n",
    "left_pos_flat.name = 'linpos_flat'\n",
    "right_pos_flat.name = 'linpos_flat'\n",
    "\n",
    "linpos_flat = pd.concat([center_pos_flat, left_pos_flat, right_pos_flat])\n",
    "linpos_flat = linpos_flat.sort_index()\n",
    "linpos_flat"
   ]
  },
  {
   "cell_type": "code",
   "execution_count": 15,
   "metadata": {
    "scrolled": false
   },
   "outputs": [],
   "source": [
    "plt.figure(figsize=[400,15])\n",
    "plt_range = [2461, 3400]\n",
    "plt.imshow(dec_est[(dec_bin_times > plt_range[0]*30000) & (dec_bin_times < plt_range[1]*30000)].transpose(), \n",
    "           extent=[plt_range[0], plt_range[1], 0, 450], origin='lower', aspect='auto', cmap='hot', zorder=0)\n",
    "\n",
    "linpos_index_s = linpos_flat.index / 30000\n",
    "index_mask = (linpos_index_s > plt_range[0]) & (linpos_index_s < plt_range[1])\n",
    "\n",
    "plt.plot(linpos_index_s[index_mask],\n",
    "         linpos_flat.values[index_mask], 'c.', zorder=1, markersize=5)\n",
    "\n",
    "plt.plot(plt_range, [74, 74], '--', color='gray')\n",
    "plt.plot(plt_range, [148, 148], '--', color='gray')\n",
    "plt.plot(plt_range, [256, 256], '--', color='gray')\n",
    "plt.plot(plt_range, [298, 298], '--', color='gray')\n",
    "plt.plot(plt_range, [407, 407], '--', color='gray')\n",
    "\n",
    "plt.colorbar()\n",
    "plt.show()\n"
   ]
  },
  {
   "cell_type": "code",
   "execution_count": 16,
   "metadata": {},
   "outputs": [],
   "source": [
    "dec_bin_times/30000"
   ]
  }
 ],
 "metadata": {
  "git": {
   "suppress_outputs": true
  },
  "kernelspec": {
   "display_name": "Python 3",
   "language": "python",
   "name": "python3"
  },
  "language_info": {
   "codemirror_mode": {
    "name": "ipython",
    "version": 3
   },
   "file_extension": ".py",
   "mimetype": "text/x-python",
   "name": "python",
   "nbconvert_exporter": "python",
   "pygments_lexer": "ipython3",
   "version": "3.6.1"
  }
 },
 "nbformat": 4,
 "nbformat_minor": 2
}