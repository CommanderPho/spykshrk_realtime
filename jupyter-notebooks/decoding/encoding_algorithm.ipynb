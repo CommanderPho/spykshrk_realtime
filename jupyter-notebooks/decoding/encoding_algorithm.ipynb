{
 "cells": [
  {
   "cell_type": "code",
   "execution_count": 1,
   "metadata": {},
   "outputs": [],
   "source": [
    "cd /home/daliu/Src/spykshrk_realtime/"
   ]
  },
  {
   "cell_type": "code",
   "execution_count": 2,
   "metadata": {},
   "outputs": [],
   "source": [
    "import pandas as pd\n",
    "import numpy as np\n",
    "import scipy as sp\n",
    "import math\n",
    "\n",
    "import matplotlib\n",
    "import matplotlib.pyplot as plt\n",
    "from matplotlib import patches\n",
    "import json\n",
    "import os\n",
    "import scipy.signal\n",
    "import functools\n",
    "import holoviews as hv\n",
    "\n",
    "from spykshrk.util import AttrDict\n",
    "import spykshrk.franklab.filterframework_util as ff_util\n",
    "\n",
    "from spykshrk.realtime.simulator import nspike_data\n",
    "\n",
    "from spykshrk.franklab.pp_decoder.util import gaussian, normal2D, apply_no_anim_boundary, simplify_pos_pandas, \\\n",
    "                                                normal_pdf_int_lookup\n",
    "from spykshrk.franklab.pp_decoder.pp_clusterless import OfflinePPDecoder, OfflinePPEncoder\n",
    "from spykshrk.franklab.data_containers import DataFrameClass, EncodeSettings, DecodeSettings, SpikeObservation, \\\n",
    "                                              LinearPosition, StimLockout, Posteriors, \\\n",
    "                                              FlatLinearPosition, SpikeWaves, SpikeFeatures, \\\n",
    "                                              pos_col_format, DayEpochTimeSeries\n",
    "\n",
    "from spykshrk.franklab.pp_decoder.visualization import DecodeVisualizer\n",
    "from spykshrk.franklab.pp_decoder.decode_error import LinearDecodeError\n",
    "\n",
    "import dask\n",
    "import dask.dataframe as dd\n",
    "import dask.array as da\n",
    "import multiprocessing\n",
    "\n",
    "import cloudpickle\n",
    "        \n",
    "%load_ext Cython\n",
    "\n",
    "%matplotlib inline\n",
    "\n",
    "hv.extension('matplotlib')\n",
    "hv.extension('bokeh')\n",
    "#pd.set_option('float_format', '{:,.2f}'.format)\n",
    "pd.set_option('display.precision', 4)\n",
    "pd.set_option('display.max_rows', 6)\n",
    "pd.set_option('display.max_columns', 15)\n",
    "#pd.set_option('display.width', 80)\n",
    "\n",
    "idx = pd.IndexSlice\n",
    "\n",
    "matplotlib.rcParams.update({'font.size': 14})\n",
    "\n"
   ]
  },
  {
   "cell_type": "code",
   "execution_count": 3,
   "metadata": {},
   "outputs": [],
   "source": [
    "from holoviews import Store\n",
    "from bokeh.models.arrow_heads import TeeHead\n",
    "Store.add_style_opts(hv.Curve, ['linestyle'], backend='matplotlib')\n"
   ]
  },
  {
   "cell_type": "code",
   "execution_count": 4,
   "metadata": {},
   "outputs": [],
   "source": [
    "\"\"\"try:\n",
    "    cluster.close()\n",
    "    client.close()\n",
    "except:\n",
    "    print(\"No cluster or client running\")\n",
    "    \n",
    "from dask.distributed import Client, LocalCluster\n",
    "\n",
    "cluster = LocalCluster(n_workers=20, threads_per_worker=2)\n",
    "client = Client(cluster)\n",
    "\n",
    "min_worker_memory = np.inf\n",
    "for w in cluster.workers:\n",
    "    min_worker_memory = min(min_worker_memory, w.memory_limit)\n",
    "\"\"\"\n",
    "\n",
    "dask.set_options(get=dask.multiprocessing.get, pool=multiprocessing.pool.Pool(20))\n",
    "min_worker_memory = 10e9"
   ]
  },
  {
   "cell_type": "code",
   "execution_count": 5,
   "metadata": {
    "scrolled": false
   },
   "outputs": [],
   "source": [
    "# Load merged rec HDF store based on config\n",
    "\n",
    "#config_file = '/opt/data36/daliu/realtime/spykshrk/ripple_dec/bond.config.json'\n",
    "#config_file = '/opt/data36/daliu/realtime/spykshrk/dec_60uv/bond.config.json'\n",
    "config_file = '/home/daliu/Src/spykshrk_realtime/config/bond_single.json'\n",
    "config = json.load(open(config_file, 'r'))\n",
    "\n",
    "config['simulator']['nspike_animal_info']['tetrodes'] = [1, 2, 4, 5, 7, 10, 11, 12, 13, 14, 17, 18,\n",
    "                                                         19, 20, 22, 23, 27, 29]\n",
    "\n",
    "day = config['simulator']['nspike_animal_info']['days'][0]\n",
    "epoch = config['simulator']['nspike_animal_info']['epochs'][0]\n",
    "time_bin_size = config['pp_decoder']['bin_size']\n",
    "\n",
    "# Change config\n",
    "config['encoder']['position_kernel']['std'] = 1\n",
    "config['pp_decoder']['trans_mat_smoother_std'] = 2\n",
    "config['pp_decoder']['trans_mat_uniform_gain'] = 0.01\n",
    "\n",
    "# Extract just encode and decode settings from config\n",
    "encode_settings = EncodeSettings(config)\n",
    "decode_settings = DecodeSettings(config)\n",
    "\n",
    "# Grab animal linearized real position\n",
    "nspike_anim = nspike_data.AnimalInfo(**config['simulator']['nspike_animal_info'])\n",
    "pos = nspike_data.PosMatDataStream(nspike_anim)\n",
    "pos_data = pos.data\n",
    "\n",
    "spk = nspike_data.SpkDataStream(nspike_anim)\n",
    "spk_data = SpikeWaves.from_df(spk.data, encode_settings)\n",
    "\n",
    "# Encapsulate linear position\n",
    "lin_obj = LinearPosition.from_nspike_posmat(pos_data, encode_settings)\n",
    "linflat_obj = lin_obj.get_mapped_single_axis()\n",
    "\n",
    "ripcons = nspike_data.RipplesConsData(nspike_anim)\n",
    "ripdata = ripcons.data_obj"
   ]
  },
  {
   "cell_type": "code",
   "execution_count": 6,
   "metadata": {
    "scrolled": false
   },
   "outputs": [],
   "source": [
    "spk_amp = spk_data.max(axis=1)\n",
    "spk_amp = spk_amp.to_frame().pivot_table(index=['day','epoch','elec_grp_id','timestamp','time'], \n",
    "                                         columns='channel', values=0)\n",
    "spk_amp = SpikeFeatures.create_default(df=spk_amp, sampling_rate=30000)\n",
    "spk_amp_thresh = spk_amp.get_above_threshold(60)\n"
   ]
  },
  {
   "cell_type": "code",
   "execution_count": 7,
   "metadata": {},
   "outputs": [],
   "source": [
    "%%time\n",
    "#%%prun -r -s cumulative\n",
    "\n",
    "encoder = OfflinePPEncoder(linflat=linflat_obj, spk_amp=spk_amp_thresh, speed_thresh=2,\n",
    "                           encode_settings=encode_settings, dask_worker_memory=min_worker_memory)\n",
    "#task = encoder.setup_encoder_dask()\n",
    "results = encoder.run_encoder()"
   ]
  },
  {
   "cell_type": "code",
   "execution_count": 8,
   "metadata": {},
   "outputs": [],
   "source": [
    "encode_prof = _"
   ]
  },
  {
   "cell_type": "code",
   "execution_count": 9,
   "metadata": {},
   "outputs": [],
   "source": [
    "#%%time\n",
    "tet_ids = np.unique(spk_amp.index.get_level_values('elec_grp_id'))\n",
    "observ_tet_list = []\n",
    "grp = spk_amp_thresh.groupby('elec_grp_id')\n",
    "for tet_ii, (tet_id, grp_spk) in enumerate(grp):\n",
    "    tet_result = results[tet_ii]\n",
    "    tet_result.set_index(grp_spk.index, inplace=True)\n",
    "    observ_tet_list.append(tet_result)\n",
    "\n",
    "observ = pd.concat(observ_tet_list)\n",
    "observ_obj = SpikeObservation.create_default(observ.sort_index(level=['day', 'epoch', \n",
    "                                                                      'timestamp', 'elec_grp_id']), \n",
    "                                             encode_settings.sampling_rate )\n",
    "\n",
    "observ_obj['elec_grp_id'] = observ_obj.index.get_level_values('elec_grp_id')\n",
    "observ_obj.index = observ_obj.index.droplevel('elec_grp_id')\n",
    "\n",
    "observ_obj['position'] = (lin_obj.get_irregular_resampled(observ_obj.index.get_level_values('timestamp')).\n",
    "                          get_mapped_single_axis()['linpos_flat'])"
   ]
  },
  {
   "cell_type": "code",
   "execution_count": 10,
   "metadata": {},
   "outputs": [],
   "source": [
    "observ_obj"
   ]
  },
  {
   "cell_type": "code",
   "execution_count": 11,
   "metadata": {
    "scrolled": true
   },
   "outputs": [],
   "source": [
    "%%time\n",
    "# Run PP decoding algorithm\n",
    "time_bin_size = 30\n",
    "\n",
    "decoder = OfflinePPDecoder(lin_obj=lin_obj, observ_obj=observ_obj,\n",
    "                           encode_settings=encode_settings, decode_settings=decode_settings, \n",
    "                           which_trans_mat='learned', time_bin_size=time_bin_size)\n",
    "\n",
    "posteriors = decoder.run_decoder()"
   ]
  },
  {
   "cell_type": "code",
   "execution_count": 12,
   "metadata": {},
   "outputs": [],
   "source": [
    "import os\n",
    "os.path.join('/analysis', 'decode/clusterless/offline/posterior', 'run1')"
   ]
  },
  {
   "cell_type": "code",
   "execution_count": 13,
   "metadata": {
    "scrolled": false
   },
   "outputs": [],
   "source": [
    "posteriors._to_hdf_store('/opt/data36/daliu/pyBond/analysis/bond_decode.h5','/analysis', \n",
    "                         'decode/clusterless/offline/posterior', 'learned_trans_mat', overwrite=True)"
   ]
  },
  {
   "cell_type": "code",
   "execution_count": 14,
   "metadata": {},
   "outputs": [],
   "source": [
    "test1 = Posteriors._from_hdf_store('/opt/data36/daliu/pyBond/analysis/bond_decode.h5','/analysis',\n",
    "                                   'decode/clusterless/offline/posterior', 'run1')"
   ]
  },
  {
   "cell_type": "code",
   "execution_count": 15,
   "metadata": {},
   "outputs": [],
   "source": [
    "posteriors.memory_usage()[0]/1e6"
   ]
  },
  {
   "cell_type": "code",
   "execution_count": 16,
   "metadata": {},
   "outputs": [],
   "source": [
    "hv.Image(decoder.trans_mat)"
   ]
  },
  {
   "cell_type": "code",
   "execution_count": 17,
   "metadata": {
    "scrolled": false
   },
   "outputs": [],
   "source": [
    "%%output backend='matplotlib' size=300\n",
    "%%opts Points (s=200 marker='^' )\n",
    "%%opts Curve [aspect=3]\n",
    "%%opts Text (text_align='left')\n",
    "\n",
    "sel_distrib = observ_obj.loc[:, pos_col_format(0,encode_settings.pos_num_bins):         \n",
    "                             pos_col_format(encode_settings.pos_num_bins-1,\n",
    "                                            encode_settings.pos_num_bins)]\n",
    "    \n",
    "sel_pos = observ_obj.loc[:, 'position']\n",
    "\n",
    "max_prob = sel_distrib.max().max()/2\n",
    "\n",
    "def plot_observ(big_bin, small_bin):\n",
    "    bin_id = small_bin + 10000 * big_bin\n",
    "    spks_in_bin = sel_distrib.loc[observ_obj['dec_bin'] == bin_id, :]\n",
    "    pos_in_bin = sel_pos.loc[observ_obj['dec_bin'] == bin_id, :]\n",
    "    \n",
    "    num_spks = len(spks_in_bin)\n",
    "    plot_list = []\n",
    "    if num_spks == 0:\n",
    "        plot_list.append(hv.Curve((0,[max_prob-0.01]), \n",
    "                                   extents=(0, 0, encode_settings.pos_bins[-1], max_prob)))\n",
    "    for spk_observ, pos_observ in zip(spks_in_bin.values, pos_in_bin.values):\n",
    "        plot_list.append(hv.Curve(spk_observ, \n",
    "                                  extents=(0, 0, encode_settings.pos_bins[-1], max_prob)))\n",
    "\n",
    "        plot_list.append(hv.Points((pos_observ, [max_prob-0.01])))\n",
    "    return hv.Overlay(plot_list) * hv.Text(50,max_prob-0.05, \"num_spks: {num_spks}\\n\"\n",
    "                                           \"Timestamp: {timestamp}\\nTime: {time}\".\n",
    "                                           format(num_spks=num_spks, timestamp=time_bin_size*bin_id,\n",
    "                                                  time=time_bin_size*bin_id/30000))\n",
    "\n",
    "#Ind = Stream.define('stuff', ind=0)\n",
    "\n",
    "dmap = hv.DynamicMap(plot_observ, kdims=['big_bin', 'small_bin'], label=\"test\")\n",
    "#dmap = hv.DynamicMap(plot_observ, kdims=\n",
    "#                     [hv.Dimension('bin_id', range=(0, observ_obj['dec_bin'].iloc[-1]), step=1)])\n",
    "#dmap = hv.DynamicMap(plot_observ, kdims=\n",
    "#                     [hv.Dimension('bin_id', values=observ_obj['dec_bin'].unique())])\n",
    "\n",
    "#dmap.redim.values(bin_id=range(0, observ_obj['dec_bin'].iloc[-1]))\n",
    "dmap.redim.range(small_bin=(0, 1000), big_bin=(0, observ_obj['dec_bin'].iloc[-1]/1000 + 1))\n",
    "#dmap.redim.range(bin_id=(0, observ_obj['dec_bin'].iloc[-1]))\n",
    "#dmap.redim.values(bin_id=[4,5])\n"
   ]
  },
  {
   "cell_type": "code",
   "execution_count": 18,
   "metadata": {
    "scrolled": false
   },
   "outputs": [],
   "source": [
    "%%output backend='bokeh' size=400 holomap='scrubber'\n",
    "%%opts RGB { +framewise} [height=100 width=250 aspect=2 colorbar=True]\n",
    "%%opts Points [height=100 width=250 aspect=2 ] (marker='o' color='#AAAAFF' size=2 alpha=0.7)\n",
    "%%opts Polygons (color='grey', alpha=0.5 fill_color='grey' fill_alpha=0.5)\n",
    "#%%opts Image {+framewise}\n",
    "dec_viz = DecodeVisualizer(posteriors, linpos=lin_obj, riptimes=ripdata, enc_settings=encode_settings)\n",
    "\n",
    "dec_viz.plot_all_dynamic(stream=hv.streams.RangeXY(), plt_range=1, slide=1, values=ripdata['starttime']-.5)\n"
   ]
  },
  {
   "cell_type": "code",
   "execution_count": 19,
   "metadata": {
    "scrolled": true
   },
   "outputs": [],
   "source": [
    "%%opts NdLayout [shared_axes=False]\n",
    "%%output size=100\n",
    "\n",
    "dmap = dec_viz.plot_ripple_dynamic()\n",
    "\n",
    "plot_list = []\n",
    "plt_grp_size = 12\n",
    "plt_grps = range(math.ceil(ripdata.get_num_events()/plt_grp_size))\n",
    "plt_range_low = np.array(plt_grps) * plt_grp_size\n",
    "plt_range_high = np.append(plt_range_low[0:-1] + plt_grp_size, ripdata.get_num_events())\n",
    "\n",
    "for plt_grp, ind_low, ind_high in zip(plt_grps, plt_range_low, plt_range_high):\n",
    "    plot_list.append(hv.NdLayout(dmap[set(range(ind_low, ind_high))]).cols(3))\n",
    "\n",
    "\n",
    "#for plt_grp in plt_grps\n",
    "#hv.NdLayout(dmap[set(range(ripdata.get_num_events()))]).cols(3)"
   ]
  },
  {
   "cell_type": "code",
   "execution_count": 20,
   "metadata": {
    "scrolled": false
   },
   "outputs": [],
   "source": [
    "%%opts Image {+axiswise} [height=300 width=300 aspect=3]\n",
    "%%opts Curve {+axiswise} [aspect=2] (line_dash='dashed' color='#AAAAAA' linestyle='--' alpha=0.5)\n",
    "%%opts Points {+axiswise} [aspect=2] (marker='*' size=14)\n",
    "%%opts NdLayout {+axiswise}\n",
    "%%output backend='matplotlib' size=600\n",
    "\n",
    "event_ids = ripdata.find_events([2585.42, 2791, 2938.2, 3180.2, 3263.40, 3337.4])\n",
    "plt = hv.Layout()\n",
    "for id in event_ids:\n",
    "    plt += dec_viz.plot_ripple_all(id)\n",
    "\n",
    "plt.cols(1)"
   ]
  },
  {
   "cell_type": "code",
   "execution_count": 21,
   "metadata": {},
   "outputs": [],
   "source": [
    "%%opts Image {+axiswise} [height=300 width=300 aspect=1]\n",
    "%%opts Curve.arm_bound {+axiswise} [aspect=1] (line_dash='dashed' color='#AAAAAA' linestyle='--' alpha=0.5)\n",
    "%%opts Points {+axiswise} [aspect=1] (marker='*' size=14)\n",
    "%%opts NdLayout {+axiswise}\n",
    "%%output backend='matplotlib' size=200\n",
    "\n",
    "dec_viz.plot_ripple_all(2)"
   ]
  },
  {
   "cell_type": "code",
   "execution_count": 22,
   "metadata": {
    "scrolled": false
   },
   "outputs": [],
   "source": [
    "%%opts Image {+axiswise} [height=300 width=300 aspect=1]\n",
    "%%opts Curve {+axiswise} [aspect=1] (line_dash='dashed' color='#AAAAAA' linestyle='--' alpha=0.5)\n",
    "%%opts Points {+axiswise} [aspect=1] (marker='*' size=14)\n",
    "%%opts NdLayout {+axiswise}\n",
    "%%output backend='matplotlib' size=200\n",
    "\n",
    "dec_viz = DecodeVisualizer(posteriors, linpos=lin_obj, riptimes=ripdata.get_above_maxthresh(5), enc_settings=encode_settings)\n",
    "\n",
    "rip_plots = dec_viz.plot_ripple_grid(2)\n",
    "for plt_grp in rip_plots:\n",
    "    display(plt_grp)"
   ]
  },
  {
   "cell_type": "code",
   "execution_count": 23,
   "metadata": {},
   "outputs": [],
   "source": [
    "%%output size=300\n",
    "dec_viz.plot_ripple_all(242)"
   ]
  },
  {
   "cell_type": "code",
   "execution_count": 24,
   "metadata": {},
   "outputs": [],
   "source": [
    "np.append(plt_range_high, [270])"
   ]
  },
  {
   "cell_type": "code",
   "execution_count": null,
   "metadata": {},
   "outputs": [],
   "source": []
  }
 ],
 "metadata": {
  "git": {
   "suppress_outputs": true
  },
  "kernelspec": {
   "display_name": "Python 3",
   "language": "python",
   "name": "python3"
  },
  "language_info": {
   "codemirror_mode": {
    "name": "ipython",
    "version": 3
   },
   "file_extension": ".py",
   "mimetype": "text/x-python",
   "name": "python",
   "nbconvert_exporter": "python",
   "pygments_lexer": "ipython3",
   "version": "3.6.4"
  }
 },
 "nbformat": 4,
 "nbformat_minor": 2
}