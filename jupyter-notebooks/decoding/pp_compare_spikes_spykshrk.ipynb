{
 "cells": [
  {
   "cell_type": "code",
   "execution_count": 1,
   "metadata": {
    "collapsed": true
   },
   "outputs": [],
   "source": [
    "import pandas as pd\n",
    "import numpy as np\n",
    "import scipy as sp\n",
    "import matplotlib.pyplot as plt\n",
    "import json\n",
    "import os\n",
    "import scipy.signal\n",
    "\n",
    "from spykshrk.realtime.decoder_process import PointProcessDecoder\n",
    "\n",
    "import spykshrk.realtime.simulator.nspike_data as nspike_data\n",
    "\n",
    "from spykshrk.franklab.pp_decoder.util import gaussian, normal2D, apply_no_anim_boundary, simplify_pos_pandas\n",
    "from spykshrk.franklab.pp_decoder.pp_clusterless import calc_learned_state_trans_mat, calc_simple_trans_mat, \\\n",
    "                                                        calc_uniform_trans_mat, \\\n",
    "                                                        calc_observation_intensity, calc_likelihood, \\\n",
    "                                                        calc_occupancy, calc_prob_no_spike, \\\n",
    "                                                        calc_posterior, plot_decode_2d\n",
    "\n",
    "from spykshrk.franklab.pp_decoder.decode_error import bin_pos_data, calc_error_table, \\\n",
    "                                                      plot_arms_error\n",
    "\n",
    "#pd.set_option('float_format', '{:,.2f}'.format)\n",
    "pd.set_option('display.precision', 4)\n",
    "pd.set_option('display.max_rows', 10)\n",
    "#pd.set_option('display.width', 180)\n",
    "\n",
    "\n",
    "idx = pd.IndexSlice\n"
   ]
  },
  {
   "cell_type": "code",
   "execution_count": 2,
   "metadata": {},
   "outputs": [],
   "source": [
    "%%time\n",
    "# Load merged rec HDF store based on config\n",
    "\n",
    "config_file = '/opt/data36/daliu/realtime/spykshrk/dec_60uv_300samp/bond.config.json'\n",
    "config = json.load(open(config_file, 'r'))\n",
    "\n",
    "hdf_file = os.path.join(config['files']['output_dir'],\n",
    "                        '{}.rec_merged.h5'.format(config['files']['prefix']))\n",
    "\n",
    "store = pd.HDFStore(hdf_file, mode='r')\n",
    "spike_decode = store['rec_3']\n",
    "stim_lockout = store['rec_11']"
   ]
  },
  {
   "cell_type": "code",
   "execution_count": 3,
   "metadata": {},
   "outputs": [],
   "source": [
    "%%time\n",
    "stim_lockout_ranges = stim_lockout.pivot(index='lockout_num',columns='lockout_state', values='timestamp')\n",
    "stim_lockout_ranges = stim_lockout_ranges.reindex(columns=[1,0])\n"
   ]
  },
  {
   "cell_type": "code",
   "execution_count": 4,
   "metadata": {},
   "outputs": [],
   "source": [
    "%%time\n",
    "# Get table with decode for each spike and generate decode bin mask\n",
    "\n",
    "dec_bin_size = 300     # Decode bin size in samples (usually 30kHz)\n",
    "\n",
    "arm_coordinates = [[0, 69], [150, 150+102], [300, 300+104]]\n",
    "\n",
    "dec_bins = np.floor((spike_decode['timestamp'] - spike_decode['timestamp'][0])/dec_bin_size).astype('int')\n",
    "spike_decode['dec_bin'] = dec_bins\n",
    "\n",
    "\n",
    "pos_upper = config['encoder']['position']['upper']\n",
    "pos_lower = config['encoder']['position']['lower']\n",
    "pos_num_bins = config['encoder']['position']['bins']\n",
    "pos_bin_delta = ((pos_upper - pos_lower) / pos_num_bins)\n",
    "\n",
    "x_bins = np.linspace(0, pos_bin_delta*(pos_num_bins-1), pos_num_bins)\n",
    "x_bin_edges = np.linspace(0, pos_bi0n_delta*(pos_num_bins), pos_num_bins+1)\n",
    "\n",
    "pos_kernel = gaussian(x_bins, x_bins[int(len(x_bins)/2)], 3)\n",
    " "
   ]
  },
  {
   "cell_type": "code",
   "execution_count": 5,
   "metadata": {
    "scrolled": false
   },
   "outputs": [],
   "source": [
    "# Get real position\n",
    "\n",
    "nspike_anim = nspike_data.AnimalInfo(**config['simulator']['nspike_animal_info'])\n",
    "pos = nspike_data.PosMatDataStream(nspike_anim)\n",
    "pos_data = pos.data\n",
    "\n",
    "# Transform position into simpler table with only linear position\n",
    "pos_data_linpos = simplify_pos_pandas(pos_data)\n",
    "\n",
    "# Convert real pos to realtime system linear map (single linear coordinate)\n",
    "\n",
    "center_pos_flat = pos_data_linpos[pos_data_linpos['seg_idx'] == 1]['well_center']\n",
    "left_pos_flat = pos_data_linpos[(pos_data_linpos['seg_idx'] == 2) | \n",
    "                                (pos_data_linpos['seg_idx'] == 3)]['well_left'] + 150\n",
    "right_pos_flat = pos_data_linpos[(pos_data_linpos['seg_idx'] == 4) | \n",
    "                                 (pos_data_linpos['seg_idx'] == 5)]['well_right'] + 300\n",
    "\n",
    "center_pos_flat.name = 'linpos_flat'\n",
    "left_pos_flat.name = 'linpos_flat'\n",
    "right_pos_flat.name = 'linpos_flat'\n",
    "\n",
    "linpos_flat = pd.concat([center_pos_flat, left_pos_flat, right_pos_flat])\n",
    "linpos_flat = linpos_flat.sort_index()"
   ]
  },
  {
   "cell_type": "code",
   "execution_count": 15,
   "metadata": {},
   "outputs": [],
   "source": [
    "firing_rate"
   ]
  },
  {
   "cell_type": "code",
   "execution_count": 6,
   "metadata": {
    "scrolled": true
   },
   "outputs": [],
   "source": [
    "%%time\n",
    "\n",
    "# Calculate transition matrix\n",
    "learned_trans_mat = calc_learned_state_trans_mat(linpos_flat, x_bins, arm_coordinates, gauss_smooth_std=3, \n",
    "                                                 uniform_offset_gain=0.001)\n",
    "transition_mat = calc_simple_trans_mat(x_bins)\n",
    "uniform_transition_mat = calc_uniform_trans_mat(x_bins)\n",
    "# Loop through each bin and generate the observation distribution from spikes in bin\n",
    "dec_bin_times, dec_est, bin_num_spikes, firing_rate  = calc_observation_intensity(spike_decode, \n",
    "                                                                                  dec_bin_size,\n",
    "                                                                                  x_bins, \n",
    "                                                                                  pos_kernel,\n",
    "                                                                                  arm_coordinates)\n",
    "\n",
    "#Precompute prob of no spike from firing rate\n",
    "occupancy = calc_occupancy(linpos_flat, x_bin_edges, pos_kernel)\n",
    "prob_no_spike = calc_prob_no_spike(firing_rate, dec_bin_size, occupancy)\n",
    "\n",
    "# Compute the likelihood of each bin\n",
    "likelihoods = calc_likelihood(dec_est, bin_num_spikes, prob_no_spike, pos_bin_delta)\n",
    "\n",
    "# Iteratively calculate posterior\n",
    "posteriors = calc_posterior(likelihoods, learned_trans_mat, pos_num_bins, pos_bin_delta)"
   ]
  },
  {
   "cell_type": "code",
   "execution_count": 7,
   "metadata": {},
   "outputs": [],
   "source": [
    "%%time\n",
    "# Run spykshrk.realtime version of point process decoding\n",
    "\n",
    "pp_decoder = PointProcessDecoder(pos_range=[config['encoder']['position']['lower'],\n",
    "                                            config['encoder']['position']['upper']],\n",
    "                                 pos_bins=config['encoder']['position']['bins'],\n",
    "                                 time_bin_size=config['pp_decoder']['bin_size'],\n",
    "                                 arm_coor=config['pp_decoder']['arm_pos'],\n",
    "                                 uniform_gain=config['pp_decoder']['trans_mat_uniform_gain'])\n",
    "\n",
    "pp_decoder.select_ntrodes(config['simulator']['nspike_animal_info']['tetrodes'])\n",
    "\n",
    "num_time_bins = spike_decode.loc[:,'dec_bin'].max()\n",
    "\n",
    "groups = spike_decode.groupby('dec_bin')\n",
    "\n",
    "last_bin_id = 0\n",
    "\n",
    "spykshrk_posteriors = np.zeros([num_time_bins+1, pos_num_bins])\n",
    "\n",
    "for bin_id, spikes_in_bin in groups:\n",
    "    if last_bin_id <= bin_id - 1:\n",
    "        for bin_no_spk_id in range(last_bin_id + 1, bin_id):\n",
    "            post = pp_decoder.increment_no_spike_bin()\n",
    "            spykshrk_posteriors[bin_no_spk_id, :] = post\n",
    "        \n",
    "    for ntrode_id, dec in zip(spikes_in_bin.loc[:, 'ntrode_id'].values, \n",
    "                   spikes_in_bin.loc[:, 'x0': 'x{:d}'.format(pos_num_bins-1)].values):\n",
    "        pp_decoder.add_observation(ntrode_id, dec)\n",
    "        \n",
    "    post = pp_decoder.increment_bin()\n",
    "    spykshrk_posteriors[bin_id, :] = post\n",
    "    last_bin_id = bin_id\n",
    "    "
   ]
  },
  {
   "cell_type": "code",
   "execution_count": 8,
   "metadata": {},
   "outputs": [],
   "source": [
    "plt_ranges = [[2461 + 800, 2461+900]]\n",
    "#plt_ranges = [[2690, 2700]]\n",
    "for plt_range in plt_ranges:\n",
    "    \n",
    "    plt.figure(figsize=[400,20])\n",
    "    plt.subplot(2,1,1)\n",
    "    plot_decode_2d(dec_bin_times, spykshrk_posteriors, stim_lockout_ranges, linpos_flat, plt_range, 1.0)\n",
    "    plt.subplot(2,1,2)\n",
    "    plot_decode_2d(dec_bin_times, posteriors, stim_lockout_ranges, linpos_flat, plt_range, 1.0)\n",
    "\n",
    "\n",
    "plt.show()"
   ]
  },
  {
   "cell_type": "code",
   "execution_count": 9,
   "metadata": {},
   "outputs": [],
   "source": [
    "9"
   ]
  },
  {
   "cell_type": "code",
   "execution_count": 13,
   "metadata": {},
   "outputs": [],
   "source": [
    "pos_data_bins"
   ]
  },
  {
   "cell_type": "code",
   "execution_count": 10,
   "metadata": {
    "collapsed": true
   },
   "outputs": [],
   "source": [
    "spyk_dec_est_map = x_bins[np.argmax(spykshrk_posteriors, axis=1)]\n",
    "spyk_dec_est_pos = pd.DataFrame({'est_pos': spyk_dec_est_map}, \n",
    "                                index=pd.Index(data=dec_bin_times, name='timestamp'))\n",
    "\n",
    "pos_data_bins = bin_pos_data(pos_data_linpos, dec_bin_size)\n",
    "\n",
    "spyk_center_dec_error, spyk_left_dec_error, spyk_right_dec_error = calc_error_table(pos_data_bins,\n",
    "                                                                                    spyk_dec_est_pos,\n",
    "                                                                                    [[0, 70], \n",
    "                                                                                     [149, 256], \n",
    "                                                                                     [290, 407]],\n",
    "                                                                                    2)"
   ]
  },
  {
   "cell_type": "code",
   "execution_count": 11,
   "metadata": {},
   "outputs": [],
   "source": [
    "print('median error center: {:0.5}, left: {:0.5}, right: {:.5}'.format(np.median(spyk_center_dec_error['abs_error']),\n",
    "                                                                       np.median(spyk_left_dec_error['abs_error']),\n",
    "                                                                       np.median(spyk_right_dec_error['abs_error'])))\n",
    "\n",
    "print('mean error center: {:0.5}, left: {:0.5}, right: {:.5}'.format(np.mean(spyk_center_dec_error['abs_error']),\n",
    "                                                                     np.mean(spyk_left_dec_error['abs_error']),\n",
    "                                                                     np.mean(spyk_right_dec_error['abs_error'])))"
   ]
  },
  {
   "cell_type": "code",
   "execution_count": 12,
   "metadata": {},
   "outputs": [],
   "source": [
    "plot_arms_error(center_dec_error, left_dec_error, right_dec_error, [2350, 3400])\n",
    "plt.show()"
   ]
  }
 ],
 "metadata": {
  "git": {
   "suppress_outputs": true
  },
  "kernelspec": {
   "display_name": "Python 3",
   "language": "python",
   "name": "python3"
  },
  "language_info": {
   "codemirror_mode": {
    "name": "ipython",
    "version": 3
   },
   "file_extension": ".py",
   "mimetype": "text/x-python",
   "name": "python",
   "nbconvert_exporter": "python",
   "pygments_lexer": "ipython3",
   "version": "3.6.3"
  }
 },
 "nbformat": 4,
 "nbformat_minor": 2
}