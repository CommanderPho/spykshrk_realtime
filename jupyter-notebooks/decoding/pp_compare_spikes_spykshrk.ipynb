{
 "cells": [
  {
   "cell_type": "code",
   "execution_count": 1,
   "metadata": {
    "collapsed": true
   },
   "outputs": [],
   "source": [
    "import pandas as pd\n",
    "import numpy as np\n",
    "import scipy as sp\n",
    "import matplotlib.pyplot as plt\n",
    "import json\n",
    "import os\n",
    "import scipy.signal\n",
    "\n",
    "from spykshrk.realtime.decoder_process import PointProcessDecoder\n",
    "\n",
    "from spykshrk.realtime.simulator import nspike_data\n",
    "\n",
    "from spykshrk.franklab.pp_decoder.util import gaussian, normal2D, apply_no_anim_boundary, simplify_pos_pandas\n",
    "from spykshrk.franklab.pp_decoder.pp_clusterless import OfflinePPDecoder\n",
    "from spykshrk.franklab.pp_decoder.data_containers import EncodeSettings, DecodeSettings, SpikeObservation, \\\n",
    "                                                         LinearPosition, StimLockout, Posteriors\n",
    "from spykshrk.franklab.pp_decoder.visualization import DecodeVisualizer\n",
    "\n",
    "from spykshrk.franklab.pp_decoder.decode_error import bin_pos_data, calc_error_table, \\\n",
    "                                                      plot_arms_error\n",
    "\n",
    "#pd.set_option('float_format', '{:,.2f}'.format)\n",
    "pd.set_option('display.precision', 4)\n",
    "pd.set_option('display.max_rows', 10)\n",
    "pd.set_option('display.max_columns', 15)\n",
    "#pd.set_option('display.width', 180)\n",
    "\n",
    "\n",
    "idx = pd.IndexSlice"
   ]
  },
  {
   "cell_type": "code",
   "execution_count": 2,
   "metadata": {},
   "outputs": [],
   "source": [
    "%%time\n",
    "# Load merged rec HDF store based on config\n",
    "\n",
    "config_file = '/opt/data36/daliu/realtime/spykshrk/dec_60uv_300samp/bond.config.json'\n",
    "#config_file = '/home/daliu/Src/spykshrk_realtime/config/bond_single.json'\n",
    "\n",
    "config = json.load(open(config_file, 'r'))\n",
    "\n",
    "\n",
    "# Main hdf5 data source file name\n",
    "hdf_file = os.path.join(config['files']['output_dir'],\n",
    "                        '{}.rec_merged.h5'.format(config['files']['prefix']))\n",
    "\n",
    "# Extract just encode and decode settings from config\n",
    "encode_settings = EncodeSettings(config)\n",
    "decode_settings = DecodeSettings(config)\n",
    "\n",
    "# Open data file\n",
    "store = pd.HDFStore(hdf_file, mode='r')\n",
    "\n",
    "# Encapsulate Spike Observation panda table in container\n",
    "observ_obj = SpikeObservation.create_default(store['rec_3'])\n",
    "\n",
    "# Grab stimulation lockout times\n",
    "stim_lockout = StimLockout.create_default(store['rec_11'])\n",
    "\n",
    "\n",
    "# Grab animal linearized real position\n",
    "nspike_anim = nspike_data.AnimalInfo(**config['simulator']['nspike_animal_info'])\n",
    "pos = nspike_data.PosMatDataStream(nspike_anim)\n",
    "pos_data = pos.data\n",
    "\n",
    "# Encapsulate linear position\n",
    "lin_obj = LinearPosition.from_nspike_posmat(pos_data, encode_settings)"
   ]
  },
  {
   "cell_type": "code",
   "execution_count": 3,
   "metadata": {
    "scrolled": false
   },
   "outputs": [],
   "source": [
    "%%time\n",
    "# Run PP decoding algorithm\n",
    "\n",
    "time_bin_size = 300\n",
    "\n",
    "decoder = OfflinePPDecoder(lin_obj=lin_obj, observ_obj=observ_obj,\n",
    "                           encode_settings=encode_settings, decode_settings=decode_settings, \n",
    "                           which_trans_mat='learned')\n",
    "\n",
    "posteriors = decoder.run_decoder()"
   ]
  },
  {
   "cell_type": "code",
   "execution_count": 4,
   "metadata": {},
   "outputs": [],
   "source": [
    "%%time\n",
    "# Run spykshrk.realtime version of point process decoding\n",
    "\n",
    "# Create and setup online point process decoder\n",
    "pp_decoder = PointProcessDecoder(pos_range=[config['encoder']['position']['lower'],\n",
    "                                            config['encoder']['position']['upper']],\n",
    "                                 pos_bins=config['encoder']['position']['bins'],\n",
    "                                 time_bin_size=config['pp_decoder']['bin_size'],\n",
    "                                 arm_coor=config['encoder']['position']['arm_pos'],\n",
    "                                 uniform_gain=config['pp_decoder']['trans_mat_uniform_gain'])\n",
    "\n",
    "pp_decoder.select_ntrodes(config['simulator']['nspike_animal_info']['tetrodes'])\n",
    "\n",
    "observ_obj.update_observations_bins(time_bin_size)\n",
    "\n",
    "num_time_bins = observ_obj.index.get_level_values('dec_bin').max()\n",
    "\n",
    "# Group by bin\n",
    "groups = observ_obj.groupby('dec_bin')\n",
    "\n",
    "last_bin_id = 0\n",
    "\n",
    "spykshrk_posteriors = np.zeros([num_time_bins+1, config['encoder']['position']['bins']])\n",
    "\n",
    "for bin_id, spikes_in_bin in groups:\n",
    "    if last_bin_id <= bin_id - 1:\n",
    "        # increment bins with no spikes\n",
    "        for bin_no_spk_id in range(last_bin_id + 1, bin_id):\n",
    "            post = pp_decoder.increment_no_spike_bin()\n",
    "            spykshrk_posteriors[bin_no_spk_id, :] = post\n",
    "        \n",
    "    # Add \n",
    "    for ntrode_id, dec in zip(spikes_in_bin.loc[:, 'ntrode_id'].values, \n",
    "                   spikes_in_bin.loc[:, 'x000': 'x{:03d}'.\n",
    "                                     format(config['encoder']['position']['bins']-1)].values):\n",
    "        pp_decoder.add_observation(ntrode_id, dec)\n",
    "        \n",
    "    post = pp_decoder.increment_bin()\n",
    "    spykshrk_posteriors[bin_id, :] = post\n",
    "    last_bin_id = bin_id\n",
    "    \n",
    "spykshrk_posteriors = Posteriors.from_numpy(spykshrk_posteriors, index=posteriors.index, columns=\n",
    "                                           ['x{:03d}'.format(pos_ind) for pos_ind in \n",
    "                                            range(config['encoder']['position']['bins'])])"
   ]
  },
  {
   "cell_type": "code",
   "execution_count": 8,
   "metadata": {},
   "outputs": [],
   "source": [
    "spykshrk_posteriors"
   ]
  },
  {
   "cell_type": "code",
   "execution_count": 6,
   "metadata": {},
   "outputs": [],
   "source": [
    "## Plot posteriors\n",
    "\n",
    "plt_ranges = [[2461 + 250, 2461 + 400]]\n",
    "             \n",
    "for plt_range in plt_ranges:\n",
    "    \n",
    "    plt.figure(figsize=[200,10])\n",
    "    plt.subplot(2,1,1)\n",
    "    ax1 = DecodeVisualizer.plot_decode_image(spykshrk_posteriors, plt_range, encode_settings)\n",
    "    DecodeVisualizer.plot_linear_pos(lin_obj, plt_range)\n",
    "    DecodeVisualizer.plot_stim_lockout(stim_lockout, plt_range, encode_settings.arm_coordinates[2][1] + 10)\n",
    "\n",
    "    plt.subplot(2,1,2)\n",
    "    ax1 = DecodeVisualizer.plot_decode_image(posteriors, plt_range, encode_settings)\n",
    "    DecodeVisualizer.plot_linear_pos(lin_obj, plt_range)\n",
    "    DecodeVisualizer.plot_stim_lockout(stim_lockout, plt_range, encode_settings.arm_coordinates[2][1] + 10)\n",
    "    \n",
    "    plt.xlim(plt_range)\n",
    "plt.show()"
   ]
  },
  {
   "cell_type": "code",
   "execution_count": 7,
   "metadata": {},
   "outputs": [],
   "source": [
    "spyk_dec_est_map = x_bins[np.argmax(spykshrk_posteriors, axis=1)]\n",
    "spyk_dec_est_pos = pd.DataFrame({'est_pos': spyk_dec_est_map}, \n",
    "                                index=pd.Index(data=dec_bin_times, name='timestamp'))\n",
    "\n",
    "pos_data_bins = bin_pos_data(pos_data_linpos, dec_bin_size)\n",
    "\n",
    "spyk_center_dec_error, spyk_left_dec_error, spyk_right_dec_error = calc_error_table(pos_data_bins,\n",
    "                                                                                    spyk_dec_est_pos,\n",
    "                                                                                    [[0, 70], \n",
    "                                                                                     [149, 256], \n",
    "                                                                                     [290, 407]],\n",
    "                                                                                    2)"
   ]
  },
  {
   "cell_type": "code",
   "execution_count": null,
   "metadata": {
    "collapsed": true
   },
   "outputs": [],
   "source": [
    "print('median error center: {:0.5}, left: {:0.5}, right: {:.5}'.format(np.median(spyk_center_dec_error['abs_error']),\n",
    "                                                                       np.median(spyk_left_dec_error['abs_error']),\n",
    "                                                                       np.median(spyk_right_dec_error['abs_error'])))\n",
    "\n",
    "print('mean error center: {:0.5}, left: {:0.5}, right: {:.5}'.format(np.mean(spyk_center_dec_error['abs_error']),\n",
    "                                                                     np.mean(spyk_left_dec_error['abs_error']),\n",
    "                                                                     np.mean(spyk_right_dec_error['abs_error'])))"
   ]
  },
  {
   "cell_type": "code",
   "execution_count": null,
   "metadata": {
    "collapsed": true
   },
   "outputs": [],
   "source": [
    "plot_arms_error(spyk_center_dec_error, spyk_left_dec_error, spyk_right_dec_error, [2350, 3400])\n",
    "plt.show()"
   ]
  }
 ],
 "metadata": {
  "git": {
   "suppress_outputs": true
  },
  "kernelspec": {
   "display_name": "Python 3",
   "language": "python",
   "name": "python3"
  },
  "language_info": {
   "codemirror_mode": {
    "name": "ipython",
    "version": 3
   },
   "file_extension": ".py",
   "mimetype": "text/x-python",
   "name": "python",
   "nbconvert_exporter": "python",
   "pygments_lexer": "ipython3",
   "version": "3.6.3"
  }
 },
 "nbformat": 4,
 "nbformat_minor": 1
}