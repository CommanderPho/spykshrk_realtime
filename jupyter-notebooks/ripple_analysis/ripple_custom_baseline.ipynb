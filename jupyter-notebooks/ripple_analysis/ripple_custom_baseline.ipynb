{
 "cells": [
  {
   "cell_type": "code",
   "execution_count": 1,
   "metadata": {},
   "outputs": [],
   "source": [
    "from spykshrk.realtime.simulator import nspike_data\n",
    "from spykshrk.realtime.ripple_process import RippleFilter, RippleParameterMessage\n",
    "from spykshrk.realtime.realtime_base import NoneRecordBase\n",
    "\n",
    "import multiprocessing as mp\n",
    "import pandas as pd\n",
    "pd.set_option('display.max_rows', 10)"
   ]
  },
  {
   "cell_type": "code",
   "execution_count": 2,
   "metadata": {},
   "outputs": [
    {
     "name": "stdout",
     "output_type": "stream",
     "text": [
      "CPU times: user 17.3 s, sys: 576 ms, total: 17.9 s\n",
      "Wall time: 17.7 s\n"
     ]
    }
   ],
   "source": [
    "%%time\n",
    "bond_settings = {\n",
    "    \"base_dir\": \"/opt/data/daliu/other/mkarlsso/\",\n",
    "    \"name\": \"bond\",\n",
    "    \"days\": [4],\n",
    "    \"epochs\": [1], \n",
    "    \"tetrodes\": [5, 11, 12, 13, 14, 17, 19, 29]\n",
    "}\n",
    "\n",
    "anim = nspike_data.AnimalInfo(**bond_settings)\n",
    "\n",
    "eeg = nspike_data.EEGDataStream(anim)"
   ]
  },
  {
   "cell_type": "code",
   "execution_count": 3,
   "metadata": {
    "scrolled": false
   },
   "outputs": [],
   "source": [
    "eeg_df = eeg.data[4]"
   ]
  },
  {
   "cell_type": "code",
   "execution_count": 10,
   "metadata": {},
   "outputs": [],
   "source": [
    "\n",
    "range = [24610253.0, 24610253.0 + 120 * 10000]\n",
    "rip_param_dict = { \"rip_coeff1\": 1.2,\n",
    "                   \"rip_coeff2\": 0.2,\n",
    "                   \"ripple_threshold\": 5,\n",
    "                   \"samp_divisor\": 10000,\n",
    "                   \"n_above_thresh\": 1,\n",
    "                   \"lockout_time\": 7500,\n",
    "                   \"detect_no_ripples\": False,\n",
    "                   \"detect_no_ripple_time\": 60000,\n",
    "                   \"dio_gate\": False,\n",
    "                   \"dio_gate_port\": -1,\n",
    "                   \"enabled\": True,\n",
    "                   \"use_custom_baseline\": True,\n",
    "                   \"update_custom_baseline\": False }\n",
    "\n",
    "rip_param_msg = RippleParameterMessage(**rip_param_dict)\n",
    "\n",
    "rec_base = NoneRecordBase()\n",
    "\n",
    "eeg_reduced_df = eeg_df.query('(index >= {}) & (index <= {})'.format(range[0], range[1]))\n",
    "\n",
    "eeg_datas = []\n",
    "for col_tet_num, eeg_col in eeg_reduced_df.items():\n",
    "    eeg_col = eeg_col.dropna()\n",
    "    \n",
    "    eeg_datas.append(eeg_col)\n",
    "\n",
    "rip_filters = []\n",
    "for tet_id in eeg_df.columns:\n",
    "    rip_filters.append(RippleFilter(rec_base=rec_base, param=rip_param_msg, ntrode_id=tet_id))\n"
   ]
  },
  {
   "cell_type": "code",
   "execution_count": 12,
   "metadata": {},
   "outputs": [
    {
     "data": {
      "text/plain": [
       "[(12.769411875176933, 8.0341711293561211),\n",
       " (13.067350462251353, 8.1426347417953036),\n",
       " (10.124854354041736, 6.3962828908824783),\n",
       " (10.767028183929094, 6.8097532319051473),\n",
       " (13.015360171965858, 8.3150535639435947),\n",
       " (10.619217597888525, 6.5063986422966531),\n",
       " (12.996763007924329, 8.0572951859850992),\n",
       " (12.712036688440238, 8.0500970919242416)]"
      ]
     },
     "execution_count": 12,
     "metadata": {},
     "output_type": "execute_result"
    }
   ],
   "source": [
    "def run_ripple_filter(eeg_data):\n",
    "    rip_param_dict = { \"rip_coeff1\": 1.2,\n",
    "                   \"rip_coeff2\": 0.2,\n",
    "                   \"ripple_threshold\": 5,\n",
    "                   \"samp_divisor\": 50000,\n",
    "                   \"n_above_thresh\": 1,\n",
    "                   \"lockout_time\": 7500,\n",
    "                   \"detect_no_ripples\": False,\n",
    "                   \"detect_no_ripple_time\": 60000,\n",
    "                   \"dio_gate\": False,\n",
    "                   \"dio_gate_port\": -1,\n",
    "                   \"enabled\": True,\n",
    "                   \"use_custom_baseline\": True,\n",
    "                   \"update_custom_baseline\": False }\n",
    "\n",
    "    rip_param_msg = RippleParameterMessage(**rip_param_dict)\n",
    "\n",
    "    rec_base = NoneRecordBase()\n",
    "    \n",
    "    rip_filt = RippleFilter(rec_base=rec_base, param=rip_param_msg, ntrode_id=-1)\n",
    "    \n",
    "    for eeg_time, eeg_val in eeg_data.items():\n",
    "        rip_filt.process_data(eeg_time, eeg_val)\n",
    "                \n",
    "    return rip_filt.ripple_mean, rip_filt.ripple_std\n",
    "    \n",
    "p = mp.Pool(8)\n",
    "\n",
    "p.map(run_ripple_filter, eeg_datas)\n",
    "\n",
    "#p.map(run_ripple_filter, zip(rip_filters, eeg_datas))"
   ]
  }
 ],
 "metadata": {
  "kernelspec": {
   "display_name": "Python 3",
   "language": "python",
   "name": "python3"
  },
  "language_info": {
   "codemirror_mode": {
    "name": "ipython",
    "version": 3
   },
   "file_extension": ".py",
   "mimetype": "text/x-python",
   "name": "python",
   "nbconvert_exporter": "python",
   "pygments_lexer": "ipython3",
   "version": "3.6.1"
  }
 },
 "nbformat": 4,
 "nbformat_minor": 2
}
