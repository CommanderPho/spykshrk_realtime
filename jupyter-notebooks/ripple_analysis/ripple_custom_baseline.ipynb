{
 "cells": [
  {
   "cell_type": "code",
   "execution_count": 15,
   "metadata": {},
   "outputs": [],
   "source": [
    "from spykshrk.realtime.simulator import nspike_data\n",
    "from spykshrk.realtime.ripple_process import RippleFilter, RippleParameterMessage\n",
    "from spykshrk.realtime.realtime_base import NoneRecordBase\n",
    "\n",
    "import pandas as pd\n",
    "pd.set_option('display.max_rows', 10)"
   ]
  },
  {
   "cell_type": "code",
   "execution_count": 2,
   "metadata": {},
   "outputs": [
    {
     "name": "stdout",
     "output_type": "stream",
     "text": [
      "CPU times: user 17.3 s, sys: 596 ms, total: 17.9 s\n",
      "Wall time: 17.8 s\n"
     ]
    }
   ],
   "source": [
    "%%time\n",
    "bond_settings = {\n",
    "    \"base_dir\": \"/opt/data/daliu/other/mkarlsso/\",\n",
    "    \"name\": \"bond\",\n",
    "    \"days\": [4],\n",
    "    \"epochs\": [1], \n",
    "    \"tetrodes\": [5, 11, 12, 13, 14, 17, 19, 29]\n",
    "}\n",
    "\n",
    "anim = nspike_data.AnimalInfo(**bond_settings)\n",
    "\n",
    "eeg = nspike_data.EEGDataStream(anim)"
   ]
  },
  {
   "cell_type": "code",
   "execution_count": 16,
   "metadata": {
    "scrolled": false
   },
   "outputs": [
    {
     "data": {
      "text/html": [
       "<div>\n",
       "<style>\n",
       "    .dataframe thead tr:only-child th {\n",
       "        text-align: right;\n",
       "    }\n",
       "\n",
       "    .dataframe thead th {\n",
       "        text-align: left;\n",
       "    }\n",
       "\n",
       "    .dataframe tbody tr th {\n",
       "        vertical-align: top;\n",
       "    }\n",
       "</style>\n",
       "<table border=\"1\" class=\"dataframe\">\n",
       "  <thead>\n",
       "    <tr style=\"text-align: right;\">\n",
       "      <th></th>\n",
       "      <th>5</th>\n",
       "      <th>11</th>\n",
       "      <th>12</th>\n",
       "      <th>13</th>\n",
       "      <th>14</th>\n",
       "      <th>17</th>\n",
       "      <th>19</th>\n",
       "      <th>29</th>\n",
       "    </tr>\n",
       "  </thead>\n",
       "  <tbody>\n",
       "    <tr>\n",
       "      <th>24,610,081.0</th>\n",
       "      <td>-117.0</td>\n",
       "      <td>102.0</td>\n",
       "      <td>81.0</td>\n",
       "      <td>125.0</td>\n",
       "      <td>-87.0</td>\n",
       "      <td>91.0</td>\n",
       "      <td>nan</td>\n",
       "      <td>nan</td>\n",
       "    </tr>\n",
       "    <tr>\n",
       "      <th>24,610,087.7</th>\n",
       "      <td>-114.0</td>\n",
       "      <td>116.0</td>\n",
       "      <td>66.0</td>\n",
       "      <td>28.0</td>\n",
       "      <td>-77.0</td>\n",
       "      <td>102.0</td>\n",
       "      <td>nan</td>\n",
       "      <td>nan</td>\n",
       "    </tr>\n",
       "    <tr>\n",
       "      <th>24,610,094.3</th>\n",
       "      <td>-120.0</td>\n",
       "      <td>138.0</td>\n",
       "      <td>50.0</td>\n",
       "      <td>-4.0</td>\n",
       "      <td>-83.0</td>\n",
       "      <td>115.0</td>\n",
       "      <td>nan</td>\n",
       "      <td>nan</td>\n",
       "    </tr>\n",
       "    <tr>\n",
       "      <th>24,610,101.0</th>\n",
       "      <td>-141.0</td>\n",
       "      <td>142.0</td>\n",
       "      <td>53.0</td>\n",
       "      <td>17.0</td>\n",
       "      <td>-108.0</td>\n",
       "      <td>122.0</td>\n",
       "      <td>nan</td>\n",
       "      <td>nan</td>\n",
       "    </tr>\n",
       "    <tr>\n",
       "      <th>24,610,107.7</th>\n",
       "      <td>-125.0</td>\n",
       "      <td>145.0</td>\n",
       "      <td>62.0</td>\n",
       "      <td>36.0</td>\n",
       "      <td>-128.0</td>\n",
       "      <td>104.0</td>\n",
       "      <td>nan</td>\n",
       "      <td>nan</td>\n",
       "    </tr>\n",
       "    <tr>\n",
       "      <th>...</th>\n",
       "      <td>...</td>\n",
       "      <td>...</td>\n",
       "      <td>...</td>\n",
       "      <td>...</td>\n",
       "      <td>...</td>\n",
       "      <td>...</td>\n",
       "      <td>...</td>\n",
       "      <td>...</td>\n",
       "    </tr>\n",
       "    <tr>\n",
       "      <th>34,050,154.7</th>\n",
       "      <td>-48.0</td>\n",
       "      <td>-11.0</td>\n",
       "      <td>12.0</td>\n",
       "      <td>22.0</td>\n",
       "      <td>8.0</td>\n",
       "      <td>-38.0</td>\n",
       "      <td>nan</td>\n",
       "      <td>nan</td>\n",
       "    </tr>\n",
       "    <tr>\n",
       "      <th>34,050,160.0</th>\n",
       "      <td>nan</td>\n",
       "      <td>nan</td>\n",
       "      <td>nan</td>\n",
       "      <td>nan</td>\n",
       "      <td>nan</td>\n",
       "      <td>nan</td>\n",
       "      <td>-19.0</td>\n",
       "      <td>-57.0</td>\n",
       "    </tr>\n",
       "    <tr>\n",
       "      <th>34,050,166.7</th>\n",
       "      <td>nan</td>\n",
       "      <td>nan</td>\n",
       "      <td>nan</td>\n",
       "      <td>nan</td>\n",
       "      <td>nan</td>\n",
       "      <td>nan</td>\n",
       "      <td>-19.0</td>\n",
       "      <td>-28.0</td>\n",
       "    </tr>\n",
       "    <tr>\n",
       "      <th>34,050,173.3</th>\n",
       "      <td>nan</td>\n",
       "      <td>nan</td>\n",
       "      <td>nan</td>\n",
       "      <td>nan</td>\n",
       "      <td>nan</td>\n",
       "      <td>nan</td>\n",
       "      <td>-13.0</td>\n",
       "      <td>-20.0</td>\n",
       "    </tr>\n",
       "    <tr>\n",
       "      <th>34,050,180.0</th>\n",
       "      <td>nan</td>\n",
       "      <td>nan</td>\n",
       "      <td>nan</td>\n",
       "      <td>nan</td>\n",
       "      <td>nan</td>\n",
       "      <td>nan</td>\n",
       "      <td>-6.0</td>\n",
       "      <td>-2.0</td>\n",
       "    </tr>\n",
       "  </tbody>\n",
       "</table>\n",
       "<p>2832002 rows × 8 columns</p>\n",
       "</div>"
      ],
      "text/plain": [
       "                 5     11   12    13     14    17    19    29\n",
       "24,610,081.0 -117.0 102.0 81.0 125.0  -87.0  91.0   nan   nan\n",
       "24,610,087.7 -114.0 116.0 66.0  28.0  -77.0 102.0   nan   nan\n",
       "24,610,094.3 -120.0 138.0 50.0  -4.0  -83.0 115.0   nan   nan\n",
       "24,610,101.0 -141.0 142.0 53.0  17.0 -108.0 122.0   nan   nan\n",
       "24,610,107.7 -125.0 145.0 62.0  36.0 -128.0 104.0   nan   nan\n",
       "...             ...   ...  ...   ...    ...   ...   ...   ...\n",
       "34,050,154.7  -48.0 -11.0 12.0  22.0    8.0 -38.0   nan   nan\n",
       "34,050,160.0    nan   nan  nan   nan    nan   nan -19.0 -57.0\n",
       "34,050,166.7    nan   nan  nan   nan    nan   nan -19.0 -28.0\n",
       "34,050,173.3    nan   nan  nan   nan    nan   nan -13.0 -20.0\n",
       "34,050,180.0    nan   nan  nan   nan    nan   nan  -6.0  -2.0\n",
       "\n",
       "[2832002 rows x 8 columns]"
      ]
     },
     "execution_count": 16,
     "metadata": {},
     "output_type": "execute_result"
    }
   ],
   "source": [
    "eeg_df = eeg.data[4]\n",
    "eeg_df"
   ]
  },
  {
   "cell_type": "code",
   "execution_count": 9,
   "metadata": {},
   "outputs": [
    {
     "data": {
      "text/plain": [
       "(24610081.0, -117.0)"
      ]
     },
     "execution_count": 9,
     "metadata": {},
     "output_type": "execute_result"
    }
   ],
   "source": [
    "\n",
    "eeg_df[5].dropna().items().__next__()"
   ]
  },
  {
   "cell_type": "code",
   "execution_count": 13,
   "metadata": {},
   "outputs": [
    {
     "name": "stdout",
     "output_type": "stream",
     "text": [
      " "
     ]
    }
   ],
   "source": [
    "%%prun\n",
    "rip_param_dict = { \"rip_coeff1\": 1.2,\n",
    "                   \"rip_coeff2\": 0.2,\n",
    "                   \"ripple_threshold\": 5,\n",
    "                   \"samp_divisor\": 10000,\n",
    "                   \"n_above_thresh\": 1,\n",
    "                   \"lockout_time\": 7500,\n",
    "                   \"detect_no_ripples\": False,\n",
    "                   \"detect_no_ripple_time\": 60000,\n",
    "                   \"dio_gate\": False,\n",
    "                   \"dio_gate_port\": -1,\n",
    "                   \"enabled\": True,\n",
    "                   \"use_custom_baseline\": True,\n",
    "                   \"update_custom_baseline\": False }\n",
    "\n",
    "rip_param_msg = RippleParameterMessage(**rip_param_dict)\n",
    "\n",
    "rec_base = NoneRecordBase()\n",
    "\n",
    "rip_filt = RippleFilter(rec_base=rec_base, param=rip_param_msg, ntrode_id=5)\n",
    "for eeg_times, eeg_val in eeg_df[5].dropna().items():\n",
    "    rip_filt.process_data(eeg_times, eeg_val)"
   ]
  }
 ],
 "metadata": {
  "kernelspec": {
   "display_name": "Python 3",
   "language": "python",
   "name": "python3"
  },
  "language_info": {
   "codemirror_mode": {
    "name": "ipython",
    "version": 3
   },
   "file_extension": ".py",
   "mimetype": "text/x-python",
   "name": "python",
   "nbconvert_exporter": "python",
   "pygments_lexer": "ipython3",
   "version": "3.6.1"
  }
 },
 "nbformat": 4,
 "nbformat_minor": 2
}
