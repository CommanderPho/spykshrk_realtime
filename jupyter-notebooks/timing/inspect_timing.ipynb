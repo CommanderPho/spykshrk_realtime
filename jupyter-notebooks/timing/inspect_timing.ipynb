{
 "cells": [
  {
   "cell_type": "code",
   "execution_count": 6,
   "metadata": {
    "collapsed": true
   },
   "outputs": [],
   "source": [
    "import sys\n",
    "sys.path.append(\"/home/daliu/Src/spykshrk_realtime/\")\n",
    "from spykshrk.realtime.timing_system import TimingFileReader, TimingMessage"
   ]
  },
  {
   "cell_type": "code",
   "execution_count": 10,
   "metadata": {
    "scrolled": false
   },
   "outputs": [],
   "source": [
    "rec_dir = '/opt/data36/daliu/realtime/spykshrk'\n",
    "rec_dir = '/home/daliu/output/test'\n",
    "mpi_ranks = [0]\n",
    "file_prefix = 'test_animal'\n",
    "file_postfix = 'timing'\n",
    "\n",
    "for rank in mpi_ranks:\n",
    "    reader = TimingFileReader(save_dir=rec_dir, file_prefix=file_prefix, mpi_rank=rank, file_postfix=file_postfix)\n",
    "    for msg in reader:\n",
    "        pass"
   ]
  },
  {
   "cell_type": "code",
   "execution_count": null,
   "metadata": {
    "collapsed": true
   },
   "outputs": [],
   "source": []
  }
 ],
 "metadata": {
  "kernelspec": {
   "display_name": "Python 3",
   "language": "python",
   "name": "python3"
  },
  "language_info": {
   "codemirror_mode": {
    "name": "ipython",
    "version": 3
   },
   "file_extension": ".py",
   "mimetype": "text/x-python",
   "name": "python",
   "nbconvert_exporter": "python",
   "pygments_lexer": "ipython3",
   "version": "3.6.1"
  }
 },
 "nbformat": 4,
 "nbformat_minor": 2
}
