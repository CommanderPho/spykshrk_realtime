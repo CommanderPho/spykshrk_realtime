{
 "cells": [
  {
   "cell_type": "code",
   "execution_count": 2,
   "metadata": {
    "collapsed": true
   },
   "outputs": [],
   "source": [
    "import sys\n",
    "import pandas as pd\n",
    "sys.path.append(\"/home/daliu/Src/spykshrk_realtime/\")\n",
    "from spykshrk.realtime.timing_system import TimingFileReader, TimingMessage"
   ]
  },
  {
   "cell_type": "code",
   "execution_count": 3,
   "metadata": {
    "scrolled": false
   },
   "outputs": [],
   "source": [
    "rec_dir = '/opt/data36/daliu/realtime/spykshrk'\n",
    "rec_dir = '/home/daliu/output/test'\n",
    "mpi_ranks = [0]\n",
    "file_prefix = 'test_animal'\n",
    "file_postfix = 'timing'\n",
    "\n",
    "for rank in mpi_ranks:\n",
    "    reader = TimingFileReader(save_dir=rec_dir, file_prefix=file_prefix, mpi_rank=rank, file_postfix=file_postfix)\n",
    "    timing_data = reader.convert_panda_labels()\n",
    "        "
   ]
  },
  {
   "cell_type": "code",
   "execution_count": 5,
   "metadata": {},
   "outputs": [],
   "source": [
    "timing_lfp = timing_data['lfp']"
   ]
  },
  {
   "cell_type": "code",
   "execution_count": 11,
   "metadata": {},
   "outputs": [],
   "source": [
    "timing_lfp['time2'] - timing_lfp['time0']"
   ]
  }
 ],
 "metadata": {
  "git": {
   "suppress_outputs": true
  },
  "kernelspec": {
   "display_name": "Python 3",
   "language": "python",
   "name": "python3"
  },
  "language_info": {
   "codemirror_mode": {
    "name": "ipython",
    "version": 3
   },
   "file_extension": ".py",
   "mimetype": "text/x-python",
   "name": "python",
   "nbconvert_exporter": "python",
   "pygments_lexer": "ipython3",
   "version": "3.6.1"
  }
 },
 "nbformat": 4,
 "nbformat_minor": 2
}