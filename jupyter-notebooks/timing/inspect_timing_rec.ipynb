{
 "cells": [
  {
   "cell_type": "code",
   "execution_count": 41,
   "metadata": {},
   "outputs": [],
   "source": [
    "import pandas as pd\n",
    "import sys\n",
    "import os.path\n",
    "import numpy as np\n",
    "import json\n",
    "import matplotlib.pyplot as plt\n",
    "from spykshrk.realtime.datatypes import Datatypes\n",
    "\n",
    "# import bokeh.plotting\n",
    "# from bokeh.plotting import figure, output_notebook, show, gridplot, reset_output\n",
    "# output_notebook()\n",
    "\n",
    "pd.set_option('float_format', '{:,.1f}'.format)\n",
    "pd.set_option('display.max_rows', 10)\n",
    "pd.set_option('display.width', 120)\n",
    "\n"
   ]
  },
  {
   "cell_type": "code",
   "execution_count": 2,
   "metadata": {},
   "outputs": [],
   "source": [
    "config_file = '/opt/data36/daliu/realtime/spykshrk/timing/bond.config.json'\n",
    "config = json.load(open(config_file, 'r'))\n",
    "\n",
    "hdf_file = os.path.join(config['files']['output_dir'],\n",
    "                        '{}.rec_merged.h5'.format(config['files']['prefix']))\n",
    "\n",
    "store = pd.HDFStore(hdf_file, mode='r')\n",
    "timing = store['rec_100']"
   ]
  },
  {
   "cell_type": "code",
   "execution_count": 17,
   "metadata": {},
   "outputs": [],
   "source": [
    "spk_timing = timing[((timing['label'] == 'sim_send') | \n",
    "                     (timing['label'] == 'spk_dec') | \n",
    "                     (timing['label'] == 'spk_enc')) & \n",
    "                    (timing['datatype'] == Datatypes.SPIKES)]"
   ]
  },
  {
   "cell_type": "code",
   "execution_count": 28,
   "metadata": {},
   "outputs": [],
   "source": [
    "spk_timing = spk_timing.pivot_table(values='wtime', index=['timestamp', 'ntrode_id', 'datatype'], columns='label')\n",
    "spk_timing = spk_timing.dropna(axis=0, how='any')\n",
    "#small.pivot(index='timestamp', columns='label')"
   ]
  },
  {
   "cell_type": "code",
   "execution_count": 36,
   "metadata": {},
   "outputs": [],
   "source": [
    "spk_timing['time_to_encoder_node'] = spk_timing['spk_dec'] - spk_timing['sim_send']\n",
    "spk_timing['dec_to_enc'] = spk_timing['spk_enc'] - spk_timing['spk_dec']\n",
    "spk_timing['time_to_spk_enc'] = spk_timing['spk_enc'] - spk_timing['sim_send'] "
   ]
  },
  {
   "cell_type": "code",
   "execution_count": 51,
   "metadata": {
    "scrolled": false
   },
   "outputs": [],
   "source": [
    "plt.figure(figsize=[20,10])\n",
    "plt.hist(spk_timing['time_to_spk_enc']*1000, 100)\n",
    "\n",
    "plt.show()\n"
   ]
  },
  {
   "cell_type": "code",
   "execution_count": 31,
   "metadata": {
    "scrolled": true
   },
   "outputs": [],
   "source": [
    "timing = allrecs[100]\n",
    "single_timing_example = timing[(timing['timestamp'] == 73830243) & (timing['ntrode_id'] == 5)]\n",
    "\n",
    "single_timing_example[single_timing_example['label'] == 'stim_rip_state']['wtime'].values - \\\n",
    "    single_timing_example[single_timing_example['label'] == 'rip_recv']['wtime'].values\n"
   ]
  },
  {
   "cell_type": "code",
   "execution_count": 32,
   "metadata": {
    "collapsed": true
   },
   "outputs": [],
   "source": [
    "timing.sort_values(by=['timestamp', 'ntrode_id', 'wtime'], inplace=True)\n"
   ]
  },
  {
   "cell_type": "code",
   "execution_count": 40,
   "metadata": {
    "collapsed": true
   },
   "outputs": [],
   "source": [
    "boundary_time = timing['wtime'][timing['label'] == 'stim_rip_state'].values - timing['wtime'][timing['label'] == 'rip_recv'].values"
   ]
  },
  {
   "cell_type": "code",
   "execution_count": 44,
   "metadata": {},
   "outputs": [],
   "source": [
    "pl"
   ]
  },
  {
   "cell_type": "code",
   "execution_count": 20,
   "metadata": {
    "collapsed": true,
    "scrolled": false
   },
   "outputs": [],
   "source": [
    "ret_bytes = allrecs[100]['label'].iloc[0]\n",
    "ret_bytes.split(b'\\0')[0]"
   ]
  },
  {
   "cell_type": "code",
   "execution_count": 6,
   "metadata": {
    "collapsed": true
   },
   "outputs": [],
   "source": [
    "ripple_ntrode5"
   ]
  },
  {
   "cell_type": "code",
   "execution_count": 14,
   "metadata": {
    "collapsed": true
   },
   "outputs": [],
   "source": [
    "s1 = figure(plot_width=900, plot_height=400)\n",
    "s1.line(x=ripple_ntrode5['current_time']/30000,\n",
    "       y=ripple_ntrode5['lfp_data'], color='gray')\n",
    "s1.line(x=ripple_ntrode5['current_time']/30000,\n",
    "       y=ripple_ntrode5['rd'], color='blue')\n",
    "s1.line(x=ripple_ntrode5['current_time']/30000,\n",
    "       y=ripple_ntrode5['current_val'], color='red')\n",
    "\n",
    "\n",
    "show(s1)"
   ]
  },
  {
   "cell_type": "code",
   "execution_count": 18,
   "metadata": {
    "collapsed": true
   },
   "outputs": [],
   "source": []
  }
 ],
 "metadata": {
  "git": {
   "suppress_outputs": true
  },
  "kernelspec": {
   "display_name": "Python 3",
   "language": "python",
   "name": "python3"
  },
  "language_info": {
   "codemirror_mode": {
    "name": "ipython",
    "version": 3
   },
   "file_extension": ".py",
   "mimetype": "text/x-python",
   "name": "python",
   "nbconvert_exporter": "python",
   "pygments_lexer": "ipython3",
   "version": "3.6.1"
  }
 },
 "nbformat": 4,
 "nbformat_minor": 2
}