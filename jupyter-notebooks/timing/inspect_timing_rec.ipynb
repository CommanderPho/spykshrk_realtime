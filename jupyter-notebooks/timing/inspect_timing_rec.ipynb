{
 "cells": [
  {
   "cell_type": "code",
   "execution_count": 1,
   "metadata": {
    "collapsed": true
   },
   "outputs": [],
   "source": [
    "import pandas as pd\n",
    "import sys\n",
    "import os.path\n",
    "import numpy as np\n",
    "import json\n",
    "import matplotlib.pyplot as plt\n",
    "from spykshrk.realtime.datatypes import Datatypes\n",
    "\n",
    "# import bokeh.plotting\n",
    "# from bokeh.plotting import figure, output_notebook, show, gridplot, reset_output\n",
    "# output_notebook()\n",
    "\n",
    "#pd.set_option('float_format', '{:,.1f}'.format)\n",
    "pd.set_option('display.max_rows', 10)\n",
    "pd.set_option('display.width', 120)\n",
    "\n"
   ]
  },
  {
   "cell_type": "code",
   "execution_count": 2,
   "metadata": {},
   "outputs": [],
   "source": [
    "#config_file = '/opt/data36/daliu/realtime/spykshrk/timing/bond.config.json'\n",
    "config_file = '/opt/data36/daliu/realtime/spykshrk/test/test_animal.config.json'\n",
    "config = json.load(open(config_file, 'r'))\n",
    "\n",
    "hdf_file = os.path.join(config['files']['output_dir'],\n",
    "                        '{}.rec_merged.h5'.format(config['files']['prefix']))\n",
    "\n",
    "store = pd.HDFStore(hdf_file, mode='r')\n",
    "timing = store['rec_100']"
   ]
  },
  {
   "cell_type": "code",
   "execution_count": 3,
   "metadata": {},
   "outputs": [],
   "source": [
    "timing['label'].unique()"
   ]
  },
  {
   "cell_type": "code",
   "execution_count": 4,
   "metadata": {},
   "outputs": [],
   "source": [
    "%%time \n",
    "# Select timing data only used for spike decoding\n",
    "\n",
    "spk_timing = timing.query(\"(label == 'sim_send' | label == 'spk_dec' | label == 'spk_enc' | label == 'dec_recv') & datatype == {}\".format(Datatypes.SPIKES))"
   ]
  },
  {
   "cell_type": "code",
   "execution_count": 5,
   "metadata": {},
   "outputs": [],
   "source": [
    "spk_timing_pivot = spk_timing.pivot_table(values='wtime', index=['timestamp', 'ntrode_id', 'datatype'], columns='label')\n",
    "\n",
    "# Drop timing info for spikes ignored by encoder and decoder nodes, likely because they did not meet\n",
    "# the encode or decode criterion.\n",
    "spk_timing_pivot = spk_timing_pivot.dropna(axis=0, how='any')\n"
   ]
  },
  {
   "cell_type": "code",
   "execution_count": 6,
   "metadata": {
    "scrolled": false
   },
   "outputs": [],
   "source": [
    "spk_timing_pivot"
   ]
  },
  {
   "cell_type": "code",
   "execution_count": 7,
   "metadata": {},
   "outputs": [],
   "source": [
    "%%time\n",
    "spk_timing_pivot.eval(\"sim_to_dec = spk_dec - sim_send\", inplace=True)\n",
    "spk_timing_pivot.eval(\"dec_to_enc = spk_enc - spk_dec\", inplace=True)\n",
    "spk_timing_pivot.eval(\"dec_to_decoder = dec_recv - spk_dec\", inplace=True)\n",
    "spk_timing_pivot.eval(\"sim_to_decoder = dec_recv - sim_send\", inplace=True)"
   ]
  },
  {
   "cell_type": "code",
   "execution_count": 8,
   "metadata": {
    "scrolled": false
   },
   "outputs": [],
   "source": [
    "spk_timing_pivot.query('dec_to_decoder > .1')"
   ]
  },
  {
   "cell_type": "code",
   "execution_count": 9,
   "metadata": {},
   "outputs": [],
   "source": [
    "sim_decoder_mean = spk_timing_pivot.loc[:, 'sim_to_decoder'].mean()\n",
    "sim_decoder_med = spk_timing_pivot.loc[:, 'sim_to_decoder'].median()\n",
    "sim_decoder_max = spk_timing_pivot.loc[:, 'sim_to_decoder'].max()\n",
    "sim_decoder_min = spk_timing_pivot.loc[:, 'sim_to_decoder'].min()\n",
    "\n",
    "sim_dec_mean = spk_timing_pivot.loc[:, 'sim_to_dec'].mean()\n",
    "sim_dec_med = spk_timing_pivot.loc[:, 'sim_to_dec'].median()\n",
    "sim_dec_max = spk_timing_pivot.loc[:, 'sim_to_dec'].max()\n",
    "sim_dec_min = spk_timing_pivot.loc[:, 'sim_to_dec'].min()\n",
    "\n",
    "dec_decoder_mean = spk_timing_pivot.loc[:, 'dec_to_decoder'].mean()\n",
    "dec_decoder_med = spk_timing_pivot.loc[:, 'dec_to_decoder'].median()\n",
    "dec_decoder_max = spk_timing_pivot.loc[:, 'dec_to_decoder'].max()\n",
    "dec_decoder_min = spk_timing_pivot.loc[:, 'dec_to_decoder'].min()\n",
    "\n",
    "print('sim_to_decoder mean (median) (min, max): {:.04} ({:.04}) ({:.04}, {:.04}) ms'.format(sim_decoder_mean*1000, sim_decoder_med*1000,\n",
    "                                                                                            sim_decoder_min*1000, sim_decoder_max*1000))\n",
    "print('sim_to_dec mean (median) (min, max): {:.04} ({:.04}) ({:.04}, {:.04}) ms'.format(sim_dec_mean*1000, sim_dec_med*1000, \n",
    "                                                                                        sim_dec_min*1000, sim_dec_max*1000))\n",
    "print('dec_to_decoder mean (median) (min, max): {:.04} ({:.04}) ({:.04}, {:.04}) ms'.format(dec_decoder_mean*1000, dec_decoder_med*1000,\n",
    "                                                                                           dec_decoder_min*1000, dec_decoder_max*1000))"
   ]
  },
  {
   "cell_type": "markdown",
   "metadata": {},
   "source": [
    "sim_to_decoder mean (median) (min, max): 0.46 (0.444) (0.296, 18.6) ms\n",
    "\n",
    "sim_to_dec mean (median) (min, max): 0.412 (0.399) (0.247, 16.2) ms\n",
    "\n",
    "dec_to_decoder mean (median) (min, max): 0.0473 (0.0436) (0.00691, 18.2) ms"
   ]
  },
  {
   "cell_type": "code",
   "execution_count": 10,
   "metadata": {},
   "outputs": [],
   "source": [
    "temp = spk_timing_pivot['dec_to_decoder']\n",
    "np.sum(np.diff(temp.values[0:10000]))"
   ]
  },
  {
   "cell_type": "code",
   "execution_count": 11,
   "metadata": {},
   "outputs": [],
   "source": [
    "plt.figure(figsize=[40,10])\n",
    "plt.plot(spk_timing_pivot['dec_to_decoder'].values.transpose())\n",
    "plt.ylim([-0.0005, 0.0005])\n",
    "plt.xlim([0, 1000])\n",
    "plt.show()"
   ]
  },
  {
   "cell_type": "code",
   "execution_count": 12,
   "metadata": {
    "scrolled": false
   },
   "outputs": [],
   "source": [
    "plt.figure(figsize=[20,10])\n",
    "plt.hist(spk_timing_pivot['sim_to_decoder']*1000, 1000)\n",
    "\n",
    "plt.hist(spk_timing_pivot['sim_to_dec']*1000, 1000)\n",
    "\n",
    "plt.hist(spk_timing_pivot['dec_to_decoder']*1000, 1000)\n",
    "\n",
    "plt.xlim([0,2])\n",
    "plt.show()\n"
   ]
  },
  {
   "cell_type": "code",
   "execution_count": 13,
   "metadata": {},
   "outputs": [],
   "source": [
    "plt.hist(spk_timing_pivot['sim_to_dec']*1000, 10000)\n",
    "\n",
    "plt.show()\n"
   ]
  }
 ],
 "metadata": {
  "git": {
   "suppress_outputs": true
  },
  "kernelspec": {
   "display_name": "Python 3",
   "language": "python",
   "name": "python3"
  },
  "language_info": {
   "codemirror_mode": {
    "name": "ipython",
    "version": 3
   },
   "file_extension": ".py",
   "mimetype": "text/x-python",
   "name": "python",
   "nbconvert_exporter": "python",
   "pygments_lexer": "ipython3",
   "version": "3.6.1"
  }
 },
 "nbformat": 4,
 "nbformat_minor": 2
}