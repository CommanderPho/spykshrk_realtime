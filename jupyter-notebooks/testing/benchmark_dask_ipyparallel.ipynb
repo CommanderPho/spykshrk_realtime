{
 "cells": [
  {
   "cell_type": "code",
   "execution_count": 21,
   "metadata": {},
   "outputs": [
    {
     "data": {
      "text/plain": [
       "<dask.context.set_options at 0x7fbd05890550>"
      ]
     },
     "execution_count": 21,
     "metadata": {},
     "output_type": "execute_result"
    }
   ],
   "source": [
    "import dask\n",
    "import dask.dataframe as dd\n",
    "import dask.array as da\n",
    "import numpy as np\n",
    "import pandas as pd\n",
    "import ipyparallel as ipp\n",
    "import functools\n",
    "\n",
    "dask.set_options(get=dask.multiprocessing.get)\n",
    "\n"
   ]
  },
  {
   "cell_type": "code",
   "execution_count": 22,
   "metadata": {
    "collapsed": true
   },
   "outputs": [],
   "source": [
    "class Groupby:\n",
    "    def __init__(self, keys):\n",
    "        _, self.keys_as_int = np.unique(keys, return_inverse = True)\n",
    "        self.n_keys = max(self.keys_as_int)\n",
    "        self.set_indices()\n",
    "        \n",
    "    def set_indices(self):\n",
    "        self.indices = [[] for i in range(self.n_keys+1)]\n",
    "        for i, k in enumerate(self.keys_as_int):\n",
    "            self.indices[k].append(i)\n",
    "        self.indices = [np.array(elt) for elt in self.indices]\n",
    "        \n",
    "    def apply(self, function, vector, broadcast):\n",
    "        if broadcast:\n",
    "            result = np.zeros(len(vector))\n",
    "            for idx in self.indices:\n",
    "                result[idx] = function(vector[idx])\n",
    "        else:\n",
    "            result = np.zeros(self.n_keys)\n",
    "            for k, idx in enumerate(self.indices):\n",
    "                result[self.keys_as_int[k]] = function(vector[idx])\n",
    "\n",
    "        return result"
   ]
  },
  {
   "cell_type": "code",
   "execution_count": 23,
   "metadata": {},
   "outputs": [],
   "source": [
    "test_df = pd.DataFrame([[int(ii/100), ii]*10 for ii in range(100000000)])\n"
   ]
  },
  {
   "cell_type": "code",
   "execution_count": 24,
   "metadata": {},
   "outputs": [
    {
     "name": "stdout",
     "output_type": "stream",
     "text": [
      "CPU times: user 1min 48s, sys: 4min 1s, total: 5min 50s\n",
      "Wall time: 5min 47s\n"
     ]
    }
   ],
   "source": [
    "%%time\n",
    "test_dask = dd.from_pandas(test_df, npartitions=10)\n",
    "task = test_dask.groupby(0).apply(np.mean, meta=test_dask)\n",
    "dask_results = task.compute()"
   ]
  },
  {
   "cell_type": "code",
   "execution_count": null,
   "metadata": {},
   "outputs": [
    {
     "data": {
      "text/plain": [
       "(1000000, 20)"
      ]
     },
     "execution_count": 25,
     "metadata": {},
     "output_type": "execute_result"
    }
   ],
   "source": [
    "dask_results.shape"
   ]
  },
  {
   "cell_type": "code",
   "execution_count": null,
   "metadata": {
    "collapsed": true
   },
   "outputs": [],
   "source": []
  },
  {
   "cell_type": "code",
   "execution_count": null,
   "metadata": {},
   "outputs": [],
   "source": [
    "%%time\n",
    "grp_obj = Groupby(test_df[0])\n",
    "new_grp = test_df.values[grp_obj.indices]\n",
    "new_da = da.from_array(new_grp, chunks=(100000,100,20))\n",
    "task = da.apply_along_axis(np.mean, arr=new_da, axis=1)\n",
    "task = da.apply_along_axis(np.mean, arr=task, axis=1)\n",
    "dask_arr_result = task.compute()"
   ]
  },
  {
   "cell_type": "code",
   "execution_count": null,
   "metadata": {},
   "outputs": [],
   "source": [
    "%%time\n",
    "grp_obj = Groupby(test_df[0])\n",
    "new_grp = test_df.values[grp_obj.indices]\n",
    "new_da = da.from_array(new_grp, chunks=(1000,100,20))\n",
    "\n",
    "task = new_da.mean().compute()"
   ]
  },
  {
   "cell_type": "code",
   "execution_count": null,
   "metadata": {},
   "outputs": [],
   "source": [
    "dask_arr_result.shape"
   ]
  },
  {
   "cell_type": "code",
   "execution_count": null,
   "metadata": {},
   "outputs": [],
   "source": [
    "\n",
    "rc = ipp.Client()\n",
    "dview = rc[:]\n",
    "grp = test_df.groupby(0)\n"
   ]
  },
  {
   "cell_type": "code",
   "execution_count": null,
   "metadata": {},
   "outputs": [],
   "source": [
    "%%time\n",
    "pd_results = grp.apply(np.mean)"
   ]
  },
  {
   "cell_type": "code",
   "execution_count": null,
   "metadata": {},
   "outputs": [],
   "source": [
    "%%time\n",
    "def \n",
    "\n",
    "grp_obj = Groupby(test_df[0])\n",
    "new_grp = test_df.values[grp_obj.indices]\n",
    "\n",
    "ipp_results = dview.map_sync(functools.partial(np.mean, axis=0), new_grp)"
   ]
  },
  {
   "cell_type": "code",
   "execution_count": null,
   "metadata": {},
   "outputs": [],
   "source": [
    "ipp_results[0].shape"
   ]
  }
 ],
 "metadata": {
  "kernelspec": {
   "display_name": "Python 3",
   "language": "python",
   "name": "python3"
  },
  "language_info": {
   "codemirror_mode": {
    "name": "ipython",
    "version": 3
   },
   "file_extension": ".py",
   "mimetype": "text/x-python",
   "name": "python",
   "nbconvert_exporter": "python",
   "pygments_lexer": "ipython3",
   "version": "3.6.3"
  }
 },
 "nbformat": 4,
 "nbformat_minor": 2
}
