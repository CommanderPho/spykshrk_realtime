{
 "cells": [
  {
   "cell_type": "code",
   "execution_count": 1,
   "metadata": {},
   "outputs": [],
   "source": [
    "# This snippet of code properly adds the working source root path to python's path\n",
    "# so you no longer have to install spykshrk through setuptools\n",
    "import sys, os\n",
    "root_depth = 2\n",
    "notebook_dir = globals()['_dh'][0]\n",
    "root_path = os.path.abspath(os.path.join(notebook_dir, '../'*root_depth))\n",
    "# Add to python's path\n",
    "try:\n",
    "    while True:\n",
    "        sys.path.remove(root_path)\n",
    "except ValueError:\n",
    "    # no more root paths\n",
    "    pass\n",
    "sys.path.append(root_path)\n",
    "# Alternatively set root path as current working directory\n",
    "#os.chdir(root_path)"
   ]
  },
  {
   "cell_type": "code",
   "execution_count": 24,
   "metadata": {},
   "outputs": [],
   "source": [
    "import sys, os\n",
    "import pandas as pd\n",
    "import numpy as np\n",
    "import matplotlib.pyplot as plt\n",
    "import json\n",
    "import os\n",
    "\n",
    "#pd.set_option('float_format', '{:,.2f}'.format)\n",
    "pd.set_option('display.precision', 4)\n",
    "pd.set_option('display.max_rows', 10)\n",
    "#pd.set_option('display.width', 180)\n",
    "\n",
    "\n",
    "idx = pd.IndexSlice"
   ]
  },
  {
   "cell_type": "code",
   "execution_count": 120,
   "metadata": {},
   "outputs": [],
   "source": [
    "# Load merged rec HDF store based on config\n",
    "\n",
    "#config_file = '/opt/data36/daliu/realtime/spykshrk/test/test_animal.config.json'\n",
    "config_file = '/home/mcoulter/spykshrk_realtime/config/test_single_MEC.json'\n",
    "config = json.load(open(config_file, 'r'))\n",
    "\n",
    "#hdf_file = os.path.join(config['files']['output_dir'],\n",
    "#                        '{}.rec_merged.h5'.format(config['files']['prefix']))\n",
    "hdf_file = '/mnt/vortex/mcoulter/spykshrk_realtime/output/test_single_MEC.rec_merged.h5'\n",
    "\n",
    "store = pd.HDFStore(hdf_file, mode='r')\n"
   ]
  },
  {
   "cell_type": "code",
   "execution_count": 9,
   "metadata": {},
   "outputs": [
    {
     "data": {
      "text/plain": [
       "<class 'pandas.io.pytables.HDFStore'>\n",
       "File path: /mnt/vortex/mcoulter/spykshrk_realtime/output/test_single_MEC.rec_merged.h5"
      ]
     },
     "execution_count": 9,
     "metadata": {},
     "output_type": "execute_result"
    }
   ],
   "source": [
    "store"
   ]
  },
  {
   "cell_type": "code",
   "execution_count": 84,
   "metadata": {},
   "outputs": [
    {
     "data": {
      "text/plain": [
       "['/rec_1', '/rec_10', '/rec_100', '/rec_11', '/rec_3', '/rec_4', '/rec_5']"
      ]
     },
     "execution_count": 84,
     "metadata": {},
     "output_type": "execute_result"
    }
   ],
   "source": [
    "store.keys()"
   ]
  },
  {
   "cell_type": "code",
   "execution_count": 11,
   "metadata": {},
   "outputs": [],
   "source": [
    "df = store['rec_100']"
   ]
  },
  {
   "cell_type": "code",
   "execution_count": 40,
   "metadata": {},
   "outputs": [
    {
     "data": {
      "text/plain": [
       "array(['dec_proc', 'dec_recv', 'enc_recv', 'rip_recv', 'rip_send',\n",
       "       'spk_dec', 'spk_enc', 'stim_rip_state'], dtype=object)"
      ]
     },
     "execution_count": 40,
     "metadata": {},
     "output_type": "execute_result"
    }
   ],
   "source": [
    "np.unique(df['label'])"
   ]
  },
  {
   "cell_type": "code",
   "execution_count": 121,
   "metadata": {},
   "outputs": [],
   "source": [
    "ripple_data = store['rec_1']\n",
    "encoder_data = store['rec_3']\n",
    "decoder_data = store['rec_4']\n",
    "decoder_missed_spikes = store['rec_5']\n",
    "timing_data = store['rec_100']\n",
    "#stim_lockout = store['rec_11']"
   ]
  },
  {
   "cell_type": "code",
   "execution_count": 125,
   "metadata": {},
   "outputs": [
    {
     "data": {
      "text/plain": [
       "(82474, 454)"
      ]
     },
     "execution_count": 125,
     "metadata": {},
     "output_type": "execute_result"
    }
   ],
   "source": [
    "# most dropped spikes come from tet 5, and it is out of proportion to the firing rate\n",
    "# firing rate of 5 is ~2x of 11 and 19 but dropout rate is ~6x\n",
    "encoder_data.loc[encoder_data['position'] > 700]\n",
    "#encoder_data\n",
    "ripple_data.loc[ripple_data['thresh_crossed'] == False]\n",
    "decoder_missed_spikes.loc[decoder_missed_spikes['elec_grp_id'] == 5]\n",
    "#decoder_data.loc[decoder_data['elec_grp_id'] == 5]\n",
    "decoder_missed_spikes.shape\n",
    "encoder_data.shape\n",
    "#ripple_data[10000:10010]"
   ]
  },
  {
   "cell_type": "code",
   "execution_count": 124,
   "metadata": {},
   "outputs": [
    {
     "data": {
      "text/plain": [
       "(array([58417,     0,  1980,     0,     0,   237,     0,    22,     0,\n",
       "            2]),\n",
       " array([1. , 1.4, 1.8, 2.2, 2.6, 3. , 3.4, 3.8, 4.2, 4.6, 5. ]))"
      ]
     },
     "execution_count": 124,
     "metadata": {},
     "output_type": "execute_result"
    }
   ],
   "source": [
    "np.histogram(decoder_missed_spikes['late_bin']-decoder_missed_spikes['real_bin'])"
   ]
  },
  {
   "cell_type": "code",
   "execution_count": 127,
   "metadata": {},
   "outputs": [],
   "source": [
    "linear_position = np.loadtxt('/mnt/vortex/mcoulter/remy_trodes_linear_position_for_numpy.txt',delimiter=',')"
   ]
  },
  {
   "cell_type": "code",
   "execution_count": 139,
   "metadata": {},
   "outputs": [
    {
     "data": {
      "text/plain": [
       "array([[3.95250480e+07, 4.00000000e+00, 6.40641540e-01, 6.60000000e+02,\n",
       "        4.18000000e+02],\n",
       "       [3.95259720e+07, 4.00000000e+00, 6.45975070e-01, 6.61000000e+02,\n",
       "        4.18000000e+02],\n",
       "       [3.95268600e+07, 4.00000000e+00, 6.45975070e-01, 6.61000000e+02,\n",
       "        4.17000000e+02],\n",
       "       ...,\n",
       "       [1.19825625e+08, 7.00000000e+00, 1.00000000e+00, 3.47000000e+02,\n",
       "        8.70000000e+01],\n",
       "       [1.19826513e+08, 7.00000000e+00, 1.00000000e+00, 3.48000000e+02,\n",
       "        8.60000000e+01],\n",
       "       [1.19827705e+08, 7.00000000e+00, 1.00000000e+00, 3.48000000e+02,\n",
       "        8.60000000e+01]])"
      ]
     },
     "execution_count": 139,
     "metadata": {},
     "output_type": "execute_result"
    },
    {
     "data": {
      "image/png": "[encoded data removed]",
      "text/plain": [
       "<Figure size 432x288 with 1 Axes>"
      ]
     },
     "metadata": {
      "needs_background": "light"
     },
     "output_type": "display_data"
    }
   ],
   "source": [
    "plt.plot(linear_position[:,2])\n",
    "linear_position"
   ]
  },
  {
   "cell_type": "code",
   "execution_count": 140,
   "metadata": {},
   "outputs": [
    {
     "ename": "NameError",
     "evalue": "name 'arm_shift_dictionary' is not defined",
     "output_type": "error",
     "traceback": [
      "\u001b[0;31m---------------------------------------------------------------------------\u001b[0m",
      "\u001b[0;31mNameError\u001b[0m                                 Traceback (most recent call last)",
      "\u001b[0;32m<ipython-input-140-20f39ded84b4>\u001b[0m in \u001b[0;36m<module>\u001b[0;34m()\u001b[0m\n\u001b[1;32m      2\u001b[0m \u001b[0msegment_pos\u001b[0m \u001b[0;34m=\u001b[0m \u001b[0mlinear_position\u001b[0m\u001b[0;34m[\u001b[0m\u001b[0;34m:\u001b[0m\u001b[0;34m,\u001b[0m\u001b[0;36m2\u001b[0m\u001b[0;34m]\u001b[0m\u001b[0;34m\u001b[0m\u001b[0;34m\u001b[0m\u001b[0m\n\u001b[1;32m      3\u001b[0m \u001b[0mshift_linear_distance_by_arm_dictionary\u001b[0m \u001b[0;34m=\u001b[0m \u001b[0mdict\u001b[0m\u001b[0;34m(\u001b[0m\u001b[0;34m)\u001b[0m\u001b[0;34m\u001b[0m\u001b[0;34m\u001b[0m\u001b[0m\n\u001b[0;32m----> 4\u001b[0;31m \u001b[0marm_shift_dictionary\u001b[0m\u001b[0;34m(\u001b[0m\u001b[0;34m)\u001b[0m\u001b[0;34m\u001b[0m\u001b[0;34m\u001b[0m\u001b[0m\n\u001b[0m\u001b[1;32m      5\u001b[0m \u001b[0;34m\u001b[0m\u001b[0m\n\u001b[1;32m      6\u001b[0m \u001b[0mhardcode_armorder\u001b[0m \u001b[0;34m=\u001b[0m \u001b[0;34m[\u001b[0m\u001b[0;36m0\u001b[0m\u001b[0;34m,\u001b[0m\u001b[0;36m1\u001b[0m\u001b[0;34m,\u001b[0m\u001b[0;36m2\u001b[0m\u001b[0;34m,\u001b[0m\u001b[0;36m3\u001b[0m\u001b[0;34m,\u001b[0m\u001b[0;36m4\u001b[0m\u001b[0;34m,\u001b[0m\u001b[0;36m5\u001b[0m\u001b[0;34m,\u001b[0m\u001b[0;36m6\u001b[0m\u001b[0;34m,\u001b[0m\u001b[0;36m7\u001b[0m\u001b[0;34m,\u001b[0m\u001b[0;36m8\u001b[0m\u001b[0;34m,\u001b[0m\u001b[0;36m9\u001b[0m\u001b[0;34m,\u001b[0m\u001b[0;36m10\u001b[0m\u001b[0;34m,\u001b[0m\u001b[0;36m11\u001b[0m\u001b[0;34m,\u001b[0m\u001b[0;36m12\u001b[0m\u001b[0;34m,\u001b[0m\u001b[0;36m13\u001b[0m\u001b[0;34m,\u001b[0m\u001b[0;36m14\u001b[0m\u001b[0;34m]\u001b[0m \u001b[0;31m#add progressive stagger in this order\u001b[0m\u001b[0;34m\u001b[0m\u001b[0;34m\u001b[0m\u001b[0m\n",
      "\u001b[0;31mNameError\u001b[0m: name 'arm_shift_dictionary' is not defined"
     ]
    }
   ],
   "source": [
    "segment = linear_position[:,1]\n",
    "segment_pos = linear_position[:,2]\n",
    "shift_linear_distance_by_arm_dictionary = dict()\n",
    "#arm_shift_dictionary()\n",
    "\n",
    "hardcode_armorder = [0,1,2,3,4,5,6,7,8,9,10,11,12,13,14] #add progressive stagger in this order\n",
    "hardcode_shiftamount = 20 # add this stagger to sum of previous shifts\n",
    "        # for now set all arm lengths to 60\n",
    "linearization_arm_length = 60\n",
    "    \n",
    "        # Define dictionary for shifts for each arm segment\n",
    "        #shift_linear_distance_by_arm_dictionary = dict() # initialize empty dictionary \n",
    "for arm in hardcode_armorder: # for each outer arm\n",
    "    if arm < 7: # if all box segments, do nothing\n",
    "        temporary_variable_shift = 0\n",
    "\n",
    "    else: # if arm segments, shift with gap\n",
    "        temporary_variable_shift = hardcode_shiftamount + linearization_arm_length + shift_linear_distance_by_arm_dictionary[hardcode_armorder[arm - 1]]\n",
    "        \n",
    "    shift_linear_distance_by_arm_dictionary[arm] = temporary_variable_shift\n",
    "    \n",
    "assigned_pos = 0\n",
    "\n",
    "assigned_pos = segment_pos*60 + shift_linear_distance_by_arm_dictionary[segment]\n",
    "\n",
    "    "
   ]
  },
  {
   "cell_type": "code",
   "execution_count": 38,
   "metadata": {},
   "outputs": [
    {
     "data": {
      "text/plain": [
       "[<matplotlib.lines.Line2D at 0x7fb6f6c47e80>]"
      ]
     },
     "execution_count": 38,
     "metadata": {},
     "output_type": "execute_result"
    },
    {
     "data": {
      "image/png": "[encoded data removed]",
      "text/plain": [
       "<Figure size 432x288 with 1 Axes>"
      ]
     },
     "metadata": {
      "needs_background": "light"
     },
     "output_type": "display_data"
    }
   ],
   "source": [
    "speedFilterValues = [0.0393,0.0392,0.0391,0.0389,0.0387,0.0385,0.0382,0.0379,\n",
    "        0.0375,0.0371,0.0367,0.0362,0.0357,0.0352,0.0347,0.0341,0.0334,0.0328,0.0321,\n",
    "        0.0315,0.0307,0.0300,0.0293,0.0285,0.0278,0.0270,0.0262,0.0254,0.0246,0.0238]\n",
    "plt.plot(speedFilterValues)"
   ]
  },
  {
   "cell_type": "code",
   "execution_count": 8,
   "metadata": {
    "scrolled": false
   },
   "outputs": [],
   "source": [
    "stim_lockout_ranges = stim_lockout.pivot(index='lockout_num',columns='lockout_state', values='timestamp')\n",
    "stim_lockout_ranges.reindex(columns=[1,0])"
   ]
  },
  {
   "cell_type": "code",
   "execution_count": 15,
   "metadata": {
    "scrolled": false
   },
   "outputs": [
    {
     "data": {
      "image/png": "[encoded data removed]",
      "text/plain": [
       "<Figure size 2880x360 with 1 Axes>"
      ]
     },
     "metadata": {
      "needs_background": "light"
     },
     "output_type": "display_data"
    },
    {
     "data": {
      "image/png": "[encoded data removed]",
      "text/plain": [
       "<Figure size 2880x360 with 1 Axes>"
      ]
     },
     "metadata": {
      "needs_background": "light"
     },
     "output_type": "display_data"
    },
    {
     "data": {
      "image/png": "[encoded data removed]",
      "text/plain": [
       "<Figure size 2880x360 with 1 Axes>"
      ]
     },
     "metadata": {
      "needs_background": "light"
     },
     "output_type": "display_data"
    }
   ],
   "source": [
    "for group in ripple_data.groupby('elec_grp_id'):\n",
    "    plt.figure(figsize=[40,5])\n",
    "    lfp_data = group[1]['lfp_data']\n",
    "    timestamp = group[1]['timestamp']\n",
    "    plt.plot(timestamp, lfp_data)\n",
    "    #plt.plot(stim_lockout_ranges.values.transpose(), np.tile([[400], [400]], [1, len(stim_lockout_ranges)]), 'r-*' )\n",
    "plt.show()"
   ]
  },
  {
   "cell_type": "code",
   "execution_count": 11,
   "metadata": {
    "collapsed": true
   },
   "outputs": [],
   "source": [
    "plt.plot([[0, 1]], [[10, 10]], '-*')\n",
    "plt.show()"
   ]
  },
  {
   "cell_type": "code",
   "execution_count": 16,
   "metadata": {},
   "outputs": [
    {
     "data": {
      "text/html": [
       "<div>\n",
       "<style scoped>\n",
       "    .dataframe tbody tr th:only-of-type {\n",
       "        vertical-align: middle;\n",
       "    }\n",
       "\n",
       "    .dataframe tbody tr th {\n",
       "        vertical-align: top;\n",
       "    }\n",
       "\n",
       "    .dataframe thead th {\n",
       "        text-align: right;\n",
       "    }\n",
       "</style>\n",
       "<table border=\"1\" class=\"dataframe\">\n",
       "  <thead>\n",
       "    <tr style=\"text-align: right;\">\n",
       "      <th></th>\n",
       "      <th>rec_ind</th>\n",
       "      <th>timestamp</th>\n",
       "      <th>elec_grp_id</th>\n",
       "      <th>thresh_crossed</th>\n",
       "      <th>lockout</th>\n",
       "      <th>custom_mean</th>\n",
       "      <th>custom_std</th>\n",
       "      <th>lfp_data</th>\n",
       "      <th>rd</th>\n",
       "      <th>current_val</th>\n",
       "    </tr>\n",
       "  </thead>\n",
       "  <tbody>\n",
       "    <tr>\n",
       "      <th>0</th>\n",
       "      <td>1</td>\n",
       "      <td>39672240</td>\n",
       "      <td>5</td>\n",
       "      <td>False</td>\n",
       "      <td>False</td>\n",
       "      <td>12.769</td>\n",
       "      <td>8.034</td>\n",
       "      <td>0.0</td>\n",
       "      <td>0.0</td>\n",
       "      <td>0.0</td>\n",
       "    </tr>\n",
       "    <tr>\n",
       "      <th>1</th>\n",
       "      <td>4</td>\n",
       "      <td>39672240</td>\n",
       "      <td>11</td>\n",
       "      <td>False</td>\n",
       "      <td>False</td>\n",
       "      <td>13.067</td>\n",
       "      <td>8.143</td>\n",
       "      <td>0.0</td>\n",
       "      <td>0.0</td>\n",
       "      <td>0.0</td>\n",
       "    </tr>\n",
       "    <tr>\n",
       "      <th>2</th>\n",
       "      <td>7</td>\n",
       "      <td>39672240</td>\n",
       "      <td>19</td>\n",
       "      <td>False</td>\n",
       "      <td>False</td>\n",
       "      <td>12.997</td>\n",
       "      <td>8.057</td>\n",
       "      <td>0.0</td>\n",
       "      <td>0.0</td>\n",
       "      <td>0.0</td>\n",
       "    </tr>\n",
       "    <tr>\n",
       "      <th>3</th>\n",
       "      <td>10</td>\n",
       "      <td>39672260</td>\n",
       "      <td>5</td>\n",
       "      <td>False</td>\n",
       "      <td>False</td>\n",
       "      <td>12.769</td>\n",
       "      <td>8.034</td>\n",
       "      <td>0.0</td>\n",
       "      <td>0.0</td>\n",
       "      <td>0.0</td>\n",
       "    </tr>\n",
       "    <tr>\n",
       "      <th>4</th>\n",
       "      <td>13</td>\n",
       "      <td>39672260</td>\n",
       "      <td>11</td>\n",
       "      <td>False</td>\n",
       "      <td>False</td>\n",
       "      <td>13.067</td>\n",
       "      <td>8.143</td>\n",
       "      <td>0.0</td>\n",
       "      <td>0.0</td>\n",
       "      <td>0.0</td>\n",
       "    </tr>\n",
       "    <tr>\n",
       "      <th>...</th>\n",
       "      <td>...</td>\n",
       "      <td>...</td>\n",
       "      <td>...</td>\n",
       "      <td>...</td>\n",
       "      <td>...</td>\n",
       "      <td>...</td>\n",
       "      <td>...</td>\n",
       "      <td>...</td>\n",
       "      <td>...</td>\n",
       "      <td>...</td>\n",
       "    </tr>\n",
       "    <tr>\n",
       "      <th>36409</th>\n",
       "      <td>109225</td>\n",
       "      <td>39914960</td>\n",
       "      <td>5</td>\n",
       "      <td>False</td>\n",
       "      <td>False</td>\n",
       "      <td>12.769</td>\n",
       "      <td>8.034</td>\n",
       "      <td>0.0</td>\n",
       "      <td>0.0</td>\n",
       "      <td>0.0</td>\n",
       "    </tr>\n",
       "    <tr>\n",
       "      <th>36410</th>\n",
       "      <td>109231</td>\n",
       "      <td>39914960</td>\n",
       "      <td>19</td>\n",
       "      <td>False</td>\n",
       "      <td>False</td>\n",
       "      <td>12.997</td>\n",
       "      <td>8.057</td>\n",
       "      <td>0.0</td>\n",
       "      <td>0.0</td>\n",
       "      <td>0.0</td>\n",
       "    </tr>\n",
       "    <tr>\n",
       "      <th>36411</th>\n",
       "      <td>109237</td>\n",
       "      <td>39914980</td>\n",
       "      <td>11</td>\n",
       "      <td>False</td>\n",
       "      <td>False</td>\n",
       "      <td>13.067</td>\n",
       "      <td>8.143</td>\n",
       "      <td>0.0</td>\n",
       "      <td>0.0</td>\n",
       "      <td>0.0</td>\n",
       "    </tr>\n",
       "    <tr>\n",
       "      <th>36412</th>\n",
       "      <td>109234</td>\n",
       "      <td>39914980</td>\n",
       "      <td>5</td>\n",
       "      <td>False</td>\n",
       "      <td>False</td>\n",
       "      <td>12.769</td>\n",
       "      <td>8.034</td>\n",
       "      <td>0.0</td>\n",
       "      <td>0.0</td>\n",
       "      <td>0.0</td>\n",
       "    </tr>\n",
       "    <tr>\n",
       "      <th>36413</th>\n",
       "      <td>109240</td>\n",
       "      <td>39914980</td>\n",
       "      <td>19</td>\n",
       "      <td>False</td>\n",
       "      <td>False</td>\n",
       "      <td>12.997</td>\n",
       "      <td>8.057</td>\n",
       "      <td>0.0</td>\n",
       "      <td>0.0</td>\n",
       "      <td>0.0</td>\n",
       "    </tr>\n",
       "  </tbody>\n",
       "</table>\n",
       "<p>36414 rows × 10 columns</p>\n",
       "</div>"
      ],
      "text/plain": [
       "       rec_ind  timestamp  elec_grp_id  thresh_crossed  lockout  custom_mean  \\\n",
       "0            1   39672240            5           False    False       12.769   \n",
       "1            4   39672240           11           False    False       13.067   \n",
       "2            7   39672240           19           False    False       12.997   \n",
       "3           10   39672260            5           False    False       12.769   \n",
       "4           13   39672260           11           False    False       13.067   \n",
       "...        ...        ...          ...             ...      ...          ...   \n",
       "36409   109225   39914960            5           False    False       12.769   \n",
       "36410   109231   39914960           19           False    False       12.997   \n",
       "36411   109237   39914980           11           False    False       13.067   \n",
       "36412   109234   39914980            5           False    False       12.769   \n",
       "36413   109240   39914980           19           False    False       12.997   \n",
       "\n",
       "       custom_std  lfp_data   rd  current_val  \n",
       "0           8.034       0.0  0.0          0.0  \n",
       "1           8.143       0.0  0.0          0.0  \n",
       "2           8.057       0.0  0.0          0.0  \n",
       "3           8.034       0.0  0.0          0.0  \n",
       "4           8.143       0.0  0.0          0.0  \n",
       "...           ...       ...  ...          ...  \n",
       "36409       8.034       0.0  0.0          0.0  \n",
       "36410       8.057       0.0  0.0          0.0  \n",
       "36411       8.143       0.0  0.0          0.0  \n",
       "36412       8.034       0.0  0.0          0.0  \n",
       "36413       8.057       0.0  0.0          0.0  \n",
       "\n",
       "[36414 rows x 10 columns]"
      ]
     },
     "execution_count": 16,
     "metadata": {},
     "output_type": "execute_result"
    }
   ],
   "source": [
    "pd.set_option('display.max_rows', 10)\n",
    "\n",
    "ripple_data"
   ]
  },
  {
   "cell_type": "code",
   "execution_count": null,
   "metadata": {},
   "outputs": [],
   "source": []
  }
 ],
 "metadata": {
  "git": {
   "suppress_outputs": true
  },
  "kernelspec": {
   "display_name": "Python 3",
   "language": "python",
   "name": "python3"
  },
  "language_info": {
   "codemirror_mode": {
    "name": "ipython",
    "version": 3
   },
   "file_extension": ".py",
   "mimetype": "text/x-python",
   "name": "python",
   "nbconvert_exporter": "python",
   "pygments_lexer": "ipython3",
   "version": "3.6.8"
  }
 },
 "nbformat": 4,
 "nbformat_minor": 2
}
