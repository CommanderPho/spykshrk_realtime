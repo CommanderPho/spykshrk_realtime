{
 "cells": [
  {
   "cell_type": "code",
   "execution_count": 1,
   "metadata": {
    "collapsed": true
   },
   "outputs": [],
   "source": [
    "import pandas as pd\n",
    "import numpy as np\n",
    "import matplotlib.pyplot as plt\n",
    "import json\n",
    "import os\n",
    "\n",
    "import spykshrk.realtime.simulator.nspike_data as nspike_data\n",
    "\n",
    "\n",
    "#pd.set_option('float_format', '{:,.2f}'.format)\n",
    "pd.set_option('display.precision', 4)\n",
    "pd.set_option('display.max_rows', 10)\n",
    "#pd.set_option('display.width', 180)\n",
    "\n",
    "\n",
    "idx = pd.IndexSlice"
   ]
  },
  {
   "cell_type": "code",
   "execution_count": 2,
   "metadata": {
    "collapsed": true
   },
   "outputs": [],
   "source": [
    "# Load merged rec HDF store based on config\n",
    "\n",
    "#config_file = '/opt/data36/daliu/realtime/spykshrk/test/test_animal.config.json'\n",
    "config_file = '/opt/data36/daliu/realtime/spykshrk/ripple_dec/bond.config.json'\n",
    "config = json.load(open(config_file, 'r'))\n",
    "\n",
    "hdf_file = os.path.join(config['files']['output_dir'],\n",
    "                        '{}.rec_merged.h5'.format(config['files']['prefix']))\n",
    "\n",
    "store = pd.HDFStore(hdf_file, mode='r')\n",
    "\n",
    "pos_num_bins = config['encoder']['position']['bins']\n",
    "\n",
    "decoder_df = store['rec_4']"
   ]
  },
  {
   "cell_type": "code",
   "execution_count": 10,
   "metadata": {},
   "outputs": [],
   "source": [
    "np.mean(decoder_df['real_pos_time'] - decoder_df['timestamp'])"
   ]
  },
  {
   "cell_type": "code",
   "execution_count": 4,
   "metadata": {
    "scrolled": true
   },
   "outputs": [],
   "source": [
    "decoder_df"
   ]
  },
  {
   "cell_type": "code",
   "execution_count": 11,
   "metadata": {
    "scrolled": false
   },
   "outputs": [],
   "source": [
    "# Get real position\n",
    "\n",
    "nspike_anim = nspike_data.AnimalInfo(**config['simulator']['nspike_animal_info'])\n",
    "pos = nspike_data.PosMatDataStream(nspike_anim)\n",
    "pos_data = pos.data\n",
    "\n",
    "# Transform position into simpler table with only linear position\n",
    "pos_data_time = pos_data.loc[:, 'time']\n",
    "\n",
    "pos_data_linpos = pos_data.loc[:,'lin_dist_well']\n",
    "pos_data_linpos.loc[:, 'lin_vel_center'] = pos_data.loc[:,('lin_vel', 'well_center')]\n",
    "pos_data_linpos.loc[:, 'seg_idx'] = pos_data.loc[:,('seg_idx', 0)]\n",
    "pos_data_linpos.loc[:,'timestamps'] = pos_data_time*30000\n",
    "pos_data_linpos = pos_data_linpos.set_index('timestamps')\n",
    "\n",
    "# Convert real pos to realtime system linear map (single linear coordinate)\n",
    "\n",
    "center_pos_flat = pos_data_linpos[pos_data_linpos['seg_idx'] == 1]['well_center']\n",
    "left_pos_flat = pos_data_linpos[(pos_data_linpos['seg_idx'] == 2) | \n",
    "                                (pos_data_linpos['seg_idx'] == 3)]['well_left'] + 150\n",
    "right_pos_flat = pos_data_linpos[(pos_data_linpos['seg_idx'] == 4) | \n",
    "                                 (pos_data_linpos['seg_idx'] == 5)]['well_right'] + 300\n",
    "\n",
    "center_pos_flat.name = 'linpos_flat'\n",
    "left_pos_flat.name = 'linpos_flat'\n",
    "right_pos_flat.name = 'linpos_flat'\n",
    "\n",
    "linpos_flat = pd.concat([center_pos_flat, left_pos_flat, right_pos_flat])\n",
    "linpos_flat = linpos_flat.sort_index()\n"
   ]
  },
  {
   "cell_type": "code",
   "execution_count": 12,
   "metadata": {
    "collapsed": true
   },
   "outputs": [],
   "source": [
    "stim_lockout = store['rec_11']\n",
    "stim_lockout_ranges = stim_lockout.pivot(index='lockout_num',columns='lockout_state', values='timestamp')\n",
    "stim_lockout_ranges = stim_lockout_ranges.reindex(columns=[1,0])"
   ]
  },
  {
   "cell_type": "code",
   "execution_count": 13,
   "metadata": {
    "collapsed": true
   },
   "outputs": [],
   "source": [
    "def plot_decode_2d(dec_est, dec_bin_times, stim_lockout_ranges, linpos_flat, plt_range):\n",
    "    stim_lockout_ranges_sec = stim_lockout_ranges/30000\n",
    "    stim_lockout_range_sec_sub = stim_lockout_ranges_sec[(stim_lockout_ranges_sec[1] > plt_range[0]) &\n",
    "                                                         (stim_lockout_ranges_sec[0] < plt_range[1])]\n",
    "    \n",
    "    plt.imshow(dec_est[(dec_bin_times > plt_range[0]*30000) & (dec_bin_times < plt_range[1]*30000)].transpose(), \n",
    "               extent=[plt_range[0], plt_range[1], 0, 450], origin='lower', aspect='auto', cmap='hot', zorder=0)\n",
    "\n",
    "    plt.colorbar()\n",
    "\n",
    "    # Plot linear position\n",
    "    linpos_index_s = linpos_flat.index / 30000\n",
    "    index_mask = (linpos_index_s > plt_range[0]) & (linpos_index_s < plt_range[1])\n",
    "\n",
    "    plt.plot(linpos_index_s[index_mask],\n",
    "             linpos_flat.values[index_mask], 'c.', zorder=1, markersize=5)\n",
    "\n",
    "    \n",
    "    plt.plot(stim_lockout_range_sec_sub.values.transpose(), np.tile([[440], [440]], [1, len(stim_lockout_range_sec_sub)]), 'c-*' )\n",
    "\n",
    "    for stim_lockout in stim_lockout_range_sec_sub.values:\n",
    "        plt.axvspan(stim_lockout[0], stim_lockout[1], facecolor='#AAAAAA', alpha=0.3)\n",
    "\n",
    "    plt.plot(plt_range, [74, 74], '--', color='gray')\n",
    "    plt.plot(plt_range, [148, 148], '--', color='gray')\n",
    "    plt.plot(plt_range, [256, 256], '--', color='gray')\n",
    "    plt.plot(plt_range, [298, 298], '--', color='gray')\n",
    "    plt.plot(plt_range, [407, 407], '--', color='gray')\n"
   ]
  },
  {
   "cell_type": "code",
   "execution_count": 16,
   "metadata": {},
   "outputs": [],
   "source": [
    "linpos_flat"
   ]
  },
  {
   "cell_type": "code",
   "execution_count": 22,
   "metadata": {},
   "outputs": [],
   "source": []
  },
  {
   "cell_type": "code",
   "execution_count": 23,
   "metadata": {},
   "outputs": [],
   "source": [
    "plt_ranges = [[2461, 3404]]\n",
    "for plt_range in plt_ranges:\n",
    "    plt.figure(figsize=(400,10))\n",
    "    plot_decode_2d(decoder_df.loc[:,'x0':'x449'].values,\n",
    "                   decoder_df['timestamp'], stim_lockout_ranges, \n",
    "                   decoder_df.set_index('real_pos_time')['real_pos'], plt_range)\n",
    "plt.show()"
   ]
  }
 ],
 "metadata": {
  "git": {
   "suppress_outputs": true
  },
  "kernelspec": {
   "display_name": "Python 3",
   "language": "python",
   "name": "python3"
  },
  "language_info": {
   "codemirror_mode": {
    "name": "ipython",
    "version": 3
   },
   "file_extension": ".py",
   "mimetype": "text/x-python",
   "name": "python",
   "nbconvert_exporter": "python",
   "pygments_lexer": "ipython3",
   "version": "3.6.1"
  }
 },
 "nbformat": 4,
 "nbformat_minor": 2
}