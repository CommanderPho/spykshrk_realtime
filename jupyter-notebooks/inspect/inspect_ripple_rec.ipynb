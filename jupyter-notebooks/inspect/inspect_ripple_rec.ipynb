{
 "cells": [
  {
   "cell_type": "code",
   "execution_count": 48,
   "metadata": {
    "collapsed": false
   },
   "outputs": [],
   "source": [
    "import pandas as pd\n",
    "import sys\n",
    "import os.path\n",
    "import numpy as np\n",
    "\n",
    "import bokeh.plotting\n",
    "from bokeh.plotting import figure, output_server, output_notebook, show, gridplot, reset_output\n",
    "\n",
    "sys.path.append(\"/home/daliu/Src/spykshrk_realtime/\")\n",
    "\n",
    "import spykshrk.realtime.binary_record as bin_rec\n",
    "\n",
    "pd.set_option('float_format', '{:,.1f}'.format)\n",
    "pd.set_option('display.max_rows', 10)\n",
    "pd.set_option('display.width', 120)\n",
    "\n",
    "output_notebook()"
   ]
  },
  {
   "cell_type": "code",
   "execution_count": 49,
   "metadata": {
    "collapsed": false
   },
   "outputs": [],
   "source": [
    "rec_dir = '/opt/data36/daliu/realtime/spykshrk'\n",
    "file_ids = [1, 2]\n",
    "file_prefix = 'test_animal'\n",
    "file_postfix = 'bin_rec'\n",
    "\n",
    "allrecs = {}\n",
    "\n",
    "for file_id in file_ids:\n",
    "    binrec = bin_rec.BinaryRecordsFileReader(file_id=file_id, save_dir=rec_dir, file_prefix=file_prefix, \n",
    "                                             file_postfix=file_postfix, filemeta_as_col=False)\n",
    "\n",
    "    rec_pandas = binrec.convert_pandas()\n",
    "    \n",
    "    for rec_id, rec_pd in rec_pandas.items():\n",
    "        existing_rec_pd = allrecs.setdefault(rec_id, pd.DataFrame())\n",
    "        allrecs[rec_id] = existing_rec_pd.append(rec_pd, ignore_index=True). \\\n",
    "                sort_values(['current_time']).reset_index(drop=True)\n"
   ]
  },
  {
   "cell_type": "code",
   "execution_count": 53,
   "metadata": {
    "collapsed": false,
    "scrolled": false
   },
   "outputs": [],
   "source": [
    "ripple_ntrode5 = allrecs[1][allrecs[1]['ntrode_index']==5]"
   ]
  },
  {
   "cell_type": "code",
   "execution_count": 54,
   "metadata": {
    "collapsed": false
   },
   "outputs": [],
   "source": [
    "ripple_ntrode5"
   ]
  },
  {
   "cell_type": "code",
   "execution_count": 56,
   "metadata": {
    "collapsed": false
   },
   "outputs": [],
   "source": [
    "s1 = figure()\n",
    "s1.line(x=ripple_ntrode5['current_time'],\n",
    "       y=ripple_ntrode5['lfp_data'])\n",
    "\n",
    "show(s1)"
   ]
  },
  {
   "cell_type": "code",
   "execution_count": 18,
   "metadata": {
    "collapsed": false
   },
   "outputs": [],
   "source": []
  }
 ],
 "metadata": {
  "git": {
   "suppress_outputs": true
  },
  "kernelspec": {
   "display_name": "Python [conda root]",
   "language": "python",
   "name": "conda-root-py"
  },
  "language_info": {
   "codemirror_mode": {
    "name": "ipython",
    "version": 3
   },
   "file_extension": ".py",
   "mimetype": "text/x-python",
   "name": "python",
   "nbconvert_exporter": "python",
   "pygments_lexer": "ipython3",
   "version": "3.5.2"
  }
 },
 "nbformat": 4,
 "nbformat_minor": 2
}