{
 "cells": [
  {
   "cell_type": "code",
   "execution_count": 15,
   "metadata": {
    "collapsed": false
   },
   "outputs": [],
   "source": [
    "import pandas as pd\n",
    "import sys\n",
    "import os.path\n",
    "import numpy as np\n",
    "\n",
    "import bokeh.plotting\n",
    "from bokeh.plotting import figure, output_server, output_notebook, show, gridplot, reset_output\n",
    "\n",
    "sys.path.append(\"/home/daliu/Src/spykshrk_realtime/\")\n",
    "\n",
    "import spykshrk.realtime.binary_record as bin_rec\n",
    "\n",
    "pd.set_option('float_format', '{:,.1f}'.format)\n",
    "pd.set_option('display.max_rows', 10)\n",
    "pd.set_option('display.width', 120)\n",
    "\n",
    "output_notebook()"
   ]
  },
  {
   "cell_type": "code",
   "execution_count": 30,
   "metadata": {
    "collapsed": false
   },
   "outputs": [],
   "source": [
    "rec_dir = '/opt/data36/daliu/realtime/spykshrk'\n",
    "rec_dir = '/home/daliu/output/test'\n",
    "mpi_ranks = [0, 2, 3]\n",
    "file_prefix = 'test_animal'\n",
    "manager_label = 'state'\n",
    "file_postfix = 'bin_rec'\n",
    "\n",
    "allrecs = {}\n",
    "\n",
    "for mpi_rank in mpi_ranks:\n",
    "    binrec = bin_rec.BinaryRecordsFileReader(save_dir=rec_dir, file_prefix=file_prefix,\n",
    "                                             mpi_rank=mpi_rank,\n",
    "                                             manager_label=manager_label,\n",
    "                                             file_postfix=file_postfix, filemeta_as_col=False)\n",
    "\n",
    "    rec_pandas = binrec.convert_pandas()\n",
    "    \n",
    "    for rec_id, rec_pd in rec_pandas.items():\n",
    "        existing_rec_pd = allrecs.setdefault(rec_id, pd.DataFrame())\n",
    "        allrecs[rec_id] = existing_rec_pd.append(rec_pd, ignore_index=True). \\\n",
    "                sort_values(['timestamp']).reset_index(drop=True)\n"
   ]
  },
  {
   "cell_type": "code",
   "execution_count": 33,
   "metadata": {
    "collapsed": false
   },
   "outputs": [],
   "source": [
    "allrecs[10]"
   ]
  },
  {
   "cell_type": "code",
   "execution_count": 5,
   "metadata": {
    "collapsed": false,
    "scrolled": false
   },
   "outputs": [],
   "source": [
    "ripple_ntrode5 = allrecs[1][allrecs[1]['ntrode_index']==5]"
   ]
  },
  {
   "cell_type": "code",
   "execution_count": 6,
   "metadata": {
    "collapsed": false
   },
   "outputs": [],
   "source": [
    "ripple_ntrode5"
   ]
  },
  {
   "cell_type": "code",
   "execution_count": 14,
   "metadata": {
    "collapsed": false
   },
   "outputs": [],
   "source": [
    "s1 = figure(plot_width=900, plot_height=400)\n",
    "s1.line(x=ripple_ntrode5['current_time']/30000,\n",
    "       y=ripple_ntrode5['lfp_data'], color='gray')\n",
    "s1.line(x=ripple_ntrode5['current_time']/30000,\n",
    "       y=ripple_ntrode5['rd'], color='blue')\n",
    "s1.line(x=ripple_ntrode5['current_time']/30000,\n",
    "       y=ripple_ntrode5['current_val'], color='red')\n",
    "\n",
    "\n",
    "show(s1)"
   ]
  },
  {
   "cell_type": "code",
   "execution_count": 18,
   "metadata": {
    "collapsed": false
   },
   "outputs": [],
   "source": []
  }
 ],
 "metadata": {
  "git": {
   "suppress_outputs": true
  },
  "kernelspec": {
   "display_name": "Python 3",
   "language": "python",
   "name": "python3"
  },
  "language_info": {
   "codemirror_mode": {
    "name": "ipython",
    "version": 3
   },
   "file_extension": ".py",
   "mimetype": "text/x-python",
   "name": "python",
   "nbconvert_exporter": "python",
   "pygments_lexer": "ipython3",
   "version": "3.6.0"
  }
 },
 "nbformat": 4,
 "nbformat_minor": 2
}