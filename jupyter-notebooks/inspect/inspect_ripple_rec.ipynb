{
 "cells": [
  {
   "cell_type": "code",
   "execution_count": 1,
   "metadata": {
    "collapsed": true
   },
   "outputs": [],
   "source": [
    "import pandas as pd\n",
    "import sys\n",
    "import os.path\n",
    "import numpy as np\n",
    "import cProfile\n",
    "import pstats\n",
    "import matplotlib.pyplot as plt\n",
    "# import bokeh.plotting\n",
    "# from bokeh.plotting import figure, output_notebook, show, gridplot, reset_output\n",
    "\n",
    "import spykshrk.realtime.binary_record as bin_rec\n",
    "import spykshrk.realtime.binary_record_cy as bin_rec_cy\n",
    "\n",
    "pd.set_option('float_format', '{:,.2f}'.format)\n",
    "pd.set_option('display.max_rows', 15)\n",
    "pd.set_option('display.width', 180)\n",
    "\n",
    "# output_notebook()"
   ]
  },
  {
   "cell_type": "code",
   "execution_count": null,
   "metadata": {},
   "outputs": [],
   "source": [
    "rec_dir = '/opt/data36/daliu/realtime/spykshrk/bond_test'\n",
    "#rec_dir = '/opt/data36/daliu/realtime/spykshrk/timing'\n",
    "# rec_dir = '/home/daliu/output/test'\n",
    "mpi_ranks = [0, 2, 3, 4, 5, 6]\n",
    "file_prefix = 'test_animal'\n",
    "manager_label = 'state'\n",
    "file_postfix = 'bin_rec'\n",
    "\n",
    "allrecs = {}\n",
    "\n",
    "for mpi_rank in mpi_ranks:\n",
    "    binrec = bin_rec_cy.BinaryRecordsFileReader(save_dir=rec_dir, file_prefix=file_prefix,\n",
    "                                             mpi_rank=mpi_rank,\n",
    "                                             manager_label=manager_label,\n",
    "                                             file_postfix=file_postfix, filemeta_as_col=False)\n",
    "\n",
    "    rec_pandas = binrec.convert_pandas()\n",
    "    \n",
    "    for rec_id, rec_pd in rec_pandas.items():\n",
    "        existing_rec_pd = allrecs.setdefault(rec_id, pd.DataFrame())\n",
    "        allrecs[rec_id] = existing_rec_pd.append(rec_pd, ignore_index=True)\n",
    "    \n",
    "for rec_id, rec_pd in allrecs.items():\n",
    "    if 'timestamp' in rec_pd.columns:\n",
    "        rec_pd.sort_values(['timestamp']).reset_index(drop=True)"
   ]
  },
  {
   "cell_type": "code",
   "execution_count": null,
   "metadata": {
    "collapsed": true
   },
   "outputs": [],
   "source": []
  },
  {
   "cell_type": "code",
   "execution_count": null,
   "metadata": {
    "collapsed": true
   },
   "outputs": [],
   "source": []
  },
  {
   "cell_type": "code",
   "execution_count": 3,
   "metadata": {},
   "outputs": [],
   "source": [
    "rec_dir = '/opt/data36/daliu/realtime/spykshrk/bond04'\n",
    "#rec_dir = '/opt/data36/daliu/realtime/spykshrk/timing'\n",
    "# rec_dir = '/home/daliu/output/test'\n",
    "mpi_rank = 2\n",
    "file_prefix = 'test_animal'\n",
    "manager_label = 'state'\n",
    "file_postfix = 'bin_rec'\n",
    "\n",
    "binrec = bin_rec_cy.BinaryRecordsFileReader(save_dir=rec_dir, file_prefix=file_prefix,\n",
    "                                         mpi_rank=mpi_rank,\n",
    "                                         manager_label=manager_label,\n",
    "                                         file_postfix=file_postfix, filemeta_as_col=False)\n",
    "\n",
    "cProfile.runctx('binrec.convert_pandas()', locals=locals(), globals=globals(), filename='pstats')"
   ]
  },
  {
   "cell_type": "code",
   "execution_count": 7,
   "metadata": {},
   "outputs": [],
   "source": [
    "p = pstats.Stats('pstats')\n",
    "p.strip_dirs()\n",
    "p.sort_stats('cumulative')\n",
    "p.print_stats()"
   ]
  },
  {
   "cell_type": "code",
   "execution_count": 5,
   "metadata": {},
   "outputs": [],
   "source": [
    "p = pstats.Stats('pstats')\n",
    "p.strip_dirs()\n",
    "p.sort_stats('cumulative')\n",
    "p.print_stats()"
   ]
  },
  {
   "cell_type": "code",
   "execution_count": 14,
   "metadata": {},
   "outputs": [],
   "source": [
    "p.print_callees('binary_record.py:339')"
   ]
  },
  {
   "cell_type": "code",
   "execution_count": 3,
   "metadata": {
    "scrolled": true
   },
   "outputs": [],
   "source": [
    "allrecs.keys()"
   ]
  },
  {
   "cell_type": "code",
   "execution_count": 13,
   "metadata": {},
   "outputs": [],
   "source": [
    "spike_dec = allrecs[4]\n",
    "spike_dec"
   ]
  },
  {
   "cell_type": "code",
   "execution_count": 19,
   "metadata": {},
   "outputs": [],
   "source": [
    "p1 = plt.plot(spike_dec[spike_dec['timestamp'] == 102141000].loc[:, 'x0':'x149'].values[0])\n",
    "\n",
    "plt.show(p1)"
   ]
  },
  {
   "cell_type": "code",
   "execution_count": 4,
   "metadata": {},
   "outputs": [],
   "source": [
    "decode_values = spike_dec.values[:,2:].astype('float')\n",
    "decode_values = decode_values + 1e-200\n",
    "decode_values = decode_values * 1/np.max(decode_values, axis=1)[:,None]"
   ]
  },
  {
   "cell_type": "code",
   "execution_count": null,
   "metadata": {
    "collapsed": true
   },
   "outputs": [],
   "source": [
    "\n",
    "plt.figure(figsize=[25,10])\n",
    "im1 = plt.imshow(np.transpose(decode_values), aspect='auto')\n",
    "plt.show(im1)"
   ]
  }
 ],
 "metadata": {
  "git": {
   "suppress_outputs": true
  },
  "kernelspec": {
   "display_name": "Python 3",
   "language": "python",
   "name": "python3"
  },
  "language_info": {
   "codemirror_mode": {
    "name": "ipython",
    "version": 3
   },
   "file_extension": ".py",
   "mimetype": "text/x-python",
   "name": "python",
   "nbconvert_exporter": "python",
   "pygments_lexer": "ipython3",
   "version": "3.6.1"
  }
 },
 "nbformat": 4,
 "nbformat_minor": 2
}