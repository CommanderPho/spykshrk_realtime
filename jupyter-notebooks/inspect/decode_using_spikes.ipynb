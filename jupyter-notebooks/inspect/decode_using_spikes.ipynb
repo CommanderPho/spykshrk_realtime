{
 "cells": [
  {
   "cell_type": "code",
   "execution_count": 227,
   "metadata": {
    "collapsed": true
   },
   "outputs": [],
   "source": [
    "import pandas as pd\n",
    "import numpy as np\n",
    "import matplotlib.pyplot as plt\n",
    "import json\n",
    "import os\n",
    "\n",
    "import spykshrk.realtime.simulator.nspike_data as nspike_data\n",
    "\n",
    "#pd.set_option('float_format', '{:,.2f}'.format)\n",
    "pd.set_option('display.max_rows', 10)\n",
    "#pd.set_option('display.width', 180)\n",
    "\n",
    "\n",
    "idx = pd.IndexSlice"
   ]
  },
  {
   "cell_type": "code",
   "execution_count": 2,
   "metadata": {
    "collapsed": true
   },
   "outputs": [],
   "source": [
    "# Load merged rec HDF store based on config\n",
    "\n",
    "config_file = '/home/daliu/Src/spykshrk_realtime/config/bond_full.json'\n",
    "config = json.load(open(config_file, 'r'))\n",
    "\n",
    "hdf_file = os.path.join(config['files']['output_dir'],\n",
    "                        '{}.rec_merged.h5'.format(config['files']['prefix']))\n",
    "\n",
    "store = pd.HDFStore(hdf_file, mode='r')"
   ]
  },
  {
   "cell_type": "code",
   "execution_count": 3,
   "metadata": {
    "collapsed": true
   },
   "outputs": [],
   "source": [
    "# Get table with decode for each spike and generate decode bin mask\n",
    "\n",
    "dec_bin_size = 6000     # Decode bin size in samples (usually 30kHz)\n",
    "\n",
    "spike_decode = store['rec_3']\n",
    "dec_bins = np.floor((spike_decode['timestamp'] - spike_decode['timestamp'][0])/dec_bin_size).astype('int')\n",
    "spike_decode['dec_bin'] = dec_bins"
   ]
  },
  {
   "cell_type": "code",
   "execution_count": 5,
   "metadata": {},
   "outputs": [],
   "source": [
    "# Loop through each bin and generate normalized posterior estimate of location\n",
    "\n",
    "dec_bin_ids = np.unique(dec_bins)\n",
    "dec_est = np.zeros([dec_bin_ids[-1]+1, 150])\n",
    "dec_est_bin_time = np.floor(spike_decode['timestamp'][0] / dec_bin_size) * dec_bin_size\n",
    "\n",
    "start_bin_time = np.floor(spike_decode['timestamp'][0] / dec_bin_size) * dec_bin_size\n",
    "dec_bin_times = np.arange(start_bin_time, start_bin_time + dec_bin_size * len(dec_est), dec_bin_size)\n",
    "\n",
    "for bin_id in dec_bin_ids:\n",
    "    spikes_in_bin = spike_decode[spike_decode['dec_bin'] == bin_id]\n",
    "    dec_in_bin = np.prod(spikes_in_bin.loc[:, 'x0':'x149'].values+0.0001, axis=0)\n",
    "    dec_in_bin = dec_in_bin / np.sum(dec_in_bin)\n",
    "    dec_est[bin_id, :] = dec_in_bin"
   ]
  },
  {
   "cell_type": "code",
   "execution_count": 169,
   "metadata": {},
   "outputs": [],
   "source": [
    "# Calculate MAP of decoder posterior and scale to real position units\n",
    "\n",
    "dec_est_map = np.argmax(dec_est, axis = 1) * ((config['encoder']['position']['upper'] - \n",
    "                                               config['encoder']['position']['lower']) / \n",
    "                                              config['encoder']['position']['bins'] + \n",
    "                                              config['encoder']['position']['lower'])\n",
    "\n",
    "dec_est_pos = pd.DataFrame({'est_pos': dec_est_map}, index=pd.Index(data=dec_bin_times, name='timestamp'))"
   ]
  },
  {
   "cell_type": "code",
   "execution_count": 171,
   "metadata": {
    "scrolled": false
   },
   "outputs": [],
   "source": [
    "# Get real position\n",
    "\n",
    "nspike_anim = nspike_data.AnimalInfo(**config['simulator']['nspike_animal_info'])\n",
    "pos = nspike_data.PosMatDataStream(nspike_anim)\n",
    "pos_data = pos.data\n",
    "\n",
    "# Transform position into simpler table with only linear position\n",
    "pos_data_time = pos_data.loc[(4,1), 'time']\n",
    "\n",
    "pos_data_linpos = pos_data.loc[(4,1), 'lin_dist_well']\n",
    "pos_data_linpos['timestamps'] = pos_data_time*30000\n",
    "pos_data_linpos = pos_data_linpos.set_index('timestamps')"
   ]
  },
  {
   "cell_type": "code",
   "execution_count": 225,
   "metadata": {},
   "outputs": [],
   "source": [
    "# Break trajectory into arms and attach real position\n",
    "\n",
    "center_dec_est = dec_est_pos[dec_est_pos['est_pos'] < 150]\n",
    "left_dec_est = dec_est_pos[(dec_est_pos['est_pos'] > 150) & (dec_est_pos['est_pos'] < 300)]\n",
    "right_dec_est = dec_est_pos[dec_est_pos['est_pos'] > 300]\n",
    "\n",
    "pos_data_indexed_center = pos_data_linpos.reindex(center_dec_est.index, method='bfill')\n",
    "center_dec_est = center_dec_est.join(pos_data_indexed_center['well_center'])\n",
    "center_dec_est = center_dec_est.rename(columns={'well_center': 'real_pos'})\n",
    "\n",
    "pos_data_indexed_left = pos_data_linpos.reindex(left_dec_est.index, method='bfill')\n",
    "left_dec_est = left_dec_est.join(pos_data_indexed_left['well_left'])\n",
    "left_dec_est = left_dec_est.rename(columns={'well_left': 'real_pos'})\n",
    "\n",
    "pos_data_indexed_right = pos_data_linpos.reindex(right_dec_est.index, method='bfill')\n",
    "right_dec_est = right_dec_est.join(pos_data_indexed_right['well_right'])\n",
    "right_dec_est = right_dec_est.rename(columns={'well_right': 'real_pos'})\n"
   ]
  },
  {
   "cell_type": "code",
   "execution_count": 228,
   "metadata": {
    "scrolled": false
   },
   "outputs": [],
   "source": [
    "center_dec_est"
   ]
  },
  {
   "cell_type": "code",
   "execution_count": 233,
   "metadata": {},
   "outputs": [],
   "source": [
    "\n",
    "plt.figure(figsize=[40,10])\n",
    "plt.plot(center_dec_est.index/30000, center_dec_est['est_pos'], '*')\n",
    "plt.plot(center_dec_est.index/30000, center_dec_est['real_pos'], '*')\n",
    "\n",
    "plt.show()"
   ]
  }
 ],
 "metadata": {
  "git": {
   "suppress_outputs": true
  },
  "kernelspec": {
   "display_name": "Python 3",
   "language": "python",
   "name": "python3"
  },
  "language_info": {
   "codemirror_mode": {
    "name": "ipython",
    "version": 3
   },
   "file_extension": ".py",
   "mimetype": "text/x-python",
   "name": "python",
   "nbconvert_exporter": "python",
   "pygments_lexer": "ipython3",
   "version": "3.6.1"
  }
 },
 "nbformat": 4,
 "nbformat_minor": 2
}