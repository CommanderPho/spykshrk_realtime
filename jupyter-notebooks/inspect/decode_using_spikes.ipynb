{
 "cells": [
  {
   "cell_type": "code",
   "execution_count": 1,
   "metadata": {},
   "outputs": [],
   "source": [
    "import pandas as pd\n",
    "import numpy as np\n",
    "import matplotlib.pyplot as plt\n",
    "import json\n",
    "import os\n",
    "\n",
    "import spykshrk.realtime.simulator.nspike_data as nspike_data\n",
    "\n",
    "#pd.set_option('float_format', '{:,.2f}'.format)\n",
    "pd.set_option('display.max_rows', 10)\n",
    "#pd.set_option('display.width', 180)\n",
    "\n",
    "\n",
    "idx = pd.IndexSlice"
   ]
  },
  {
   "cell_type": "code",
   "execution_count": 2,
   "metadata": {
    "collapsed": true
   },
   "outputs": [],
   "source": [
    "# Load merged rec HDF store based on config\n",
    "\n",
    "config_file = '/home/daliu/Src/spykshrk_realtime/config/bond_full.json'\n",
    "config = json.load(open(config_file, 'r'))\n",
    "\n",
    "hdf_file = os.path.join(config['files']['output_dir'],\n",
    "                        '{}.rec_merged.h5'.format(config['files']['prefix']))\n",
    "\n",
    "store = pd.HDFStore(hdf_file, mode='r')"
   ]
  },
  {
   "cell_type": "code",
   "execution_count": 3,
   "metadata": {
    "collapsed": true
   },
   "outputs": [],
   "source": [
    "# Get table with decode for each spike and generate decode bin mask\n",
    "\n",
    "dec_bin_size = 6000     # Decode bin size in samples (usually 30kHz)\n",
    "\n",
    "spike_decode = store['rec_3']\n",
    "dec_bins = np.floor((spike_decode['timestamp'] - spike_decode['timestamp'][0])/dec_bin_size).astype('int')\n",
    "spike_decode['dec_bin'] = dec_bins"
   ]
  },
  {
   "cell_type": "code",
   "execution_count": 4,
   "metadata": {},
   "outputs": [],
   "source": [
    "# Loop through each bin and generate normalized posterior estimate of location\n",
    "\n",
    "dec_bin_ids = np.unique(dec_bins)\n",
    "dec_est = np.zeros([dec_bin_ids[-1]+1, 150])\n",
    "dec_est_bin_time = np.floor(spike_decode['timestamp'][0] / dec_bin_size) * dec_bin_size\n",
    "\n",
    "start_bin_time = np.floor(spike_decode['timestamp'][0] / dec_bin_size) * dec_bin_size\n",
    "dec_bin_times = np.arange(start_bin_time, start_bin_time + dec_bin_size * len(dec_est), dec_bin_size)\n",
    "\n",
    "for bin_id in dec_bin_ids:\n",
    "    spikes_in_bin = spike_decode[spike_decode['dec_bin'] == bin_id]\n",
    "    dec_in_bin = np.prod(spikes_in_bin.loc[:, 'x0':'x149'].values+0.000001, axis=0)\n",
    "    dec_in_bin = dec_in_bin / np.sum(dec_in_bin)\n",
    "    dec_est[bin_id, :] = dec_in_bin"
   ]
  },
  {
   "cell_type": "code",
   "execution_count": 5,
   "metadata": {
    "collapsed": true
   },
   "outputs": [],
   "source": [
    "# Calculate MAP of decoder posterior and scale to real position units\n",
    "\n",
    "dec_est_map = np.argmax(dec_est, axis = 1) * ((config['encoder']['position']['upper'] - \n",
    "                                               config['encoder']['position']['lower']) / \n",
    "                                              config['encoder']['position']['bins'] + \n",
    "                                              config['encoder']['position']['lower'])\n",
    "\n",
    "dec_est_pos = pd.DataFrame({'est_pos': dec_est_map}, index=pd.Index(data=dec_bin_times, name='timestamp'))"
   ]
  },
  {
   "cell_type": "code",
   "execution_count": 6,
   "metadata": {
    "scrolled": false
   },
   "outputs": [],
   "source": [
    "# Get real position\n",
    "\n",
    "nspike_anim = nspike_data.AnimalInfo(**config['simulator']['nspike_animal_info'])\n",
    "pos = nspike_data.PosMatDataStream(nspike_anim)\n",
    "pos_data = pos.data\n",
    "\n",
    "# Transform position into simpler table with only linear position\n",
    "pos_data_time = pos_data.loc[(4,1), 'time']\n",
    "\n",
    "pos_data_linpos = pos_data.loc[(4,1), 'lin_dist_well']\n",
    "pos_data_linpos.loc[:, 'seg_idx'] = pos_data['seg_idx', 0].values\n",
    "pos_data_linpos['timestamps'] = pos_data_time*30000\n",
    "pos_data_linpos = pos_data_linpos.set_index('timestamps')"
   ]
  },
  {
   "cell_type": "code",
   "execution_count": 75,
   "metadata": {},
   "outputs": [],
   "source": [
    "# Separate estimated and real position into separate arms of track, then convert position for both\n",
    "# to be \"well centric\", distance measured from the well the real position is closest to.\n",
    "\n",
    "def conv_center_pos(pos):\n",
    "    if pos < 150:\n",
    "        return pos\n",
    "    elif (pos >= 150) and (pos < 300):\n",
    "        return 251-pos+68\n",
    "    elif (pos >= 300) and (pos < 450):\n",
    "        return 404-pos+65\n",
    "def conv_left_pos(pos):\n",
    "    if pos < 150:\n",
    "        return 68-pos+101\n",
    "    elif (pos >= 150) and (pos < 300):\n",
    "        return pos-150\n",
    "    elif (pos >= 300) and (pos < 450):\n",
    "        return 404-pos+101\n",
    "def conv_right_pos(pos):\n",
    "    if pos < 150:\n",
    "        return 68-pos+104\n",
    "    elif (pos >= 150) and (pos < 300):\n",
    "        return 251-pos-104\n",
    "    elif (pos >= 300) and (pos < 450):\n",
    "        return pos-300\n",
    "\n",
    "# Reindex and join real position (linpos) to the decode estimated position table\n",
    "linpos_reindexed = pos_data_linpos.reindex(dec_est_pos.index, method='bfill')\n",
    "dec_est_and_linpos = dec_est_pos.join(linpos_reindexed)\n",
    "\n",
    "# Separate out each arm's position\n",
    "center_dec_est_merged = dec_est_and_linpos[dec_est_and_linpos['seg_idx'] == 1]\n",
    "left_dec_est_merged = dec_est_and_linpos[(dec_est_and_linpos['seg_idx'] == 2) | \n",
    "                                         (dec_est_and_linpos['seg_idx'] == 3)]\n",
    "right_dec_est_merged = dec_est_and_linpos[(dec_est_and_linpos['seg_idx'] == 4) | \n",
    "                                          (dec_est_and_linpos['seg_idx'] == 5)]\n",
    "\n",
    "# Apply \"closest well centric\" tranform to each arm's data\n",
    "center_dec_est = pd.DataFrame()\n",
    "center_dec_est.loc[:,'est_pos'] = center_dec_est_merged['est_pos'].map(conv_center_pos)\n",
    "center_dec_est.loc[:,'real_pos'] = center_dec_est_merged['well_center']\n",
    "\n",
    "left_dec_est = pd.DataFrame()\n",
    "left_dec_est.loc[:,'est_pos'] = left_dec_est_merged['est_pos'].map(conv_left_pos)\n",
    "left_dec_est.loc[:,'real_pos'] = left_dec_est_merged['well_left']\n",
    "\n",
    "right_dec_est = pd.DataFrame()\n",
    "right_dec_est.loc[:,'est_pos'] = right_dec_est_merged['est_pos'].map(conv_right_pos)\n",
    "right_dec_est.loc[:,'real_pos'] = right_dec_est_merged['well_right']\n",
    "\n",
    "# Calculate error in estimated position and the errors used to draw one sided error bars\n",
    "\n",
    "center_dec_est.loc[:,'error'] = center_dec_est['real_pos'] - center_dec_est['est_pos']\n",
    "center_dec_est.loc[:,'plt_error_up'] = center_dec_est['error']\n",
    "center_dec_est.loc[center_dec_est['error'] < 0,'plt_error_up'] = 0 \n",
    "center_dec_est.loc[:,'plt_error_down'] = center_dec_est['error']\n",
    "center_dec_est.loc[center_dec_est['error'] > 0,'plt_error_down'] = 0\n",
    "center_dec_est.loc[:,'plt_error_down'] = np.abs(center_dec_est['plt_error_down'])\n",
    "\n",
    "left_dec_est.loc[:,'error'] = left_dec_est['real_pos'] - left_dec_est['est_pos']\n",
    "left_dec_est.loc[:,'plt_error_up'] = left_dec_est['error']\n",
    "left_dec_est.loc[left_dec_est['error'] < 0,'plt_error_up'] = 0 \n",
    "left_dec_est.loc[:,'plt_error_down'] = left_dec_est['error']\n",
    "left_dec_est.loc[left_dec_est['error'] > 0,'plt_error_down'] = 0\n",
    "left_dec_est.loc[:,'plt_error_down'] = np.abs(left_dec_est['plt_error_down'])\n",
    "\n",
    "right_dec_est.loc[:,'error'] = right_dec_est['real_pos'] - right_dec_est['est_pos']\n",
    "right_dec_est.loc[:,'plt_error_up'] = right_dec_est['error']\n",
    "right_dec_est.loc[right_dec_est['error'] < 0,'plt_error_up'] = 0 \n",
    "right_dec_est.loc[:,'plt_error_down'] = right_dec_est['error']\n",
    "right_dec_est.loc[right_dec_est['error'] > 0,'plt_error_down'] = 0\n",
    "right_dec_est.loc[:,'plt_error_down'] = np.abs(right_dec_est['plt_error_down'])"
   ]
  },
  {
   "cell_type": "code",
   "execution_count": 76,
   "metadata": {},
   "outputs": [],
   "source": [
    "center_dec_est.loc[82116000.0]"
   ]
  },
  {
   "cell_type": "code",
   "execution_count": 79,
   "metadata": {
    "scrolled": false
   },
   "outputs": [],
   "source": [
    "\n",
    "right_dec_est"
   ]
  },
  {
   "cell_type": "code",
   "execution_count": 78,
   "metadata": {},
   "outputs": [],
   "source": [
    "print('median error center: {:0.5}, left: {:0.5}, right: {:.5}'.format(np.median(center_dec_est['error']),\n",
    "                                                                       np.median(left_dec_est['error']),\n",
    "                                                                       np.median(right_dec_est['error'])))\n",
    "\n",
    "print('mean error center: {:0.5}, left: {:0.5}, right: {:.5}'.format(np.mean(center_dec_est['error']),\n",
    "                                                                       np.mean(left_dec_est['error']),\n",
    "                                                                       np.mean(right_dec_est['error'])))"
   ]
  },
  {
   "cell_type": "code",
   "execution_count": 8,
   "metadata": {},
   "outputs": [],
   "source": []
  },
  {
   "cell_type": "code",
   "execution_count": 81,
   "metadata": {},
   "outputs": [],
   "source": [
    "\n",
    "plt.figure(figsize=[200,10])\n",
    "plt.errorbar(x=center_dec_est.index/30000, y=center_dec_est['est_pos'], \n",
    "             yerr=[center_dec_est['plt_error_down'], center_dec_est['plt_error_up']], fmt='*')\n",
    "plt.errorbar(x=left_dec_est.index/30000, y=left_dec_est['est_pos'], \n",
    "             yerr=[left_dec_est['plt_error_down'], left_dec_est['plt_error_up']], fmt='*')\n",
    "plt.errorbar(x=right_dec_est.index/30000, y=right_dec_est['est_pos'], \n",
    "             yerr=[right_dec_est['plt_error_down'], right_dec_est['plt_error_up']], fmt='*')\n",
    "# plt.plot(center_dec_est.index/30000, center_dec_est['real_pos'], '*')\n",
    "\n",
    "\n",
    "plt.show()"
   ]
  }
 ],
 "metadata": {
  "git": {
   "suppress_outputs": true
  },
  "kernelspec": {
   "display_name": "Python 3",
   "language": "python",
   "name": "python3"
  },
  "language_info": {
   "codemirror_mode": {
    "name": "ipython",
    "version": 3
   },
   "file_extension": ".py",
   "mimetype": "text/x-python",
   "name": "python",
   "nbconvert_exporter": "python",
   "pygments_lexer": "ipython3",
   "version": "3.6.1"
  }
 },
 "nbformat": 4,
 "nbformat_minor": 2
}