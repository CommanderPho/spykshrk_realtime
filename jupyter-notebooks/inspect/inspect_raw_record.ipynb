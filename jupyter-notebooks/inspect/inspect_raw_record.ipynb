{
 "cells": [
  {
   "cell_type": "code",
   "execution_count": 9,
   "metadata": {},
   "outputs": [],
   "source": [
    "import pandas as pd\n",
    "import sys\n",
    "import os.path\n",
    "import numpy as np\n",
    "import cProfile\n",
    "import pstats\n",
    "import matplotlib.pyplot as plt\n",
    "from multiprocessing import Pool\n",
    "import time\n",
    "\n",
    "# import bokeh.plotting\n",
    "# from bokeh.plotting import figure, output_notebook, show, gridplot, reset_output\n",
    "\n",
    "import spykshrk.realtime.binary_record as bin_rec\n",
    "import spykshrk.realtime.binary_record_cy as bin_rec_cy\n",
    "\n",
    "pd.set_option('float_format', '{:,.2f}'.format)\n",
    "pd.set_option('display.max_rows', 15)\n",
    "pd.set_option('display.width', 180)\n",
    "\n",
    "# output_notebook()"
   ]
  },
  {
   "cell_type": "code",
   "execution_count": 10,
   "metadata": {},
   "outputs": [],
   "source": [
    "start_time = time.monotonic()\n",
    "\n",
    "#rec_dir = '/opt/data36/daliu/realtime/spykshrk/bond_test'\n",
    "rec_dir = '/opt/data36/daliu/realtime/spykshrk/timing'\n",
    "# rec_dir = '/home/daliu/output/test'\n",
    "mpi_ranks = [0, 2, 3, 4, 5, 6, 7, 8, 9, 10, 11, 12, 13, 14]\n",
    "file_prefix = 'test_animal'\n",
    "manager_label = 'state'\n",
    "file_postfix = 'bin_rec'\n",
    "\n",
    "p = Pool(20)\n",
    "\n",
    "allrecs = {}\n",
    "\n",
    "bin_panda_convert_list = []\n",
    "for mpi_rank in mpi_ranks:\n",
    "    binrec = bin_rec.BinaryRecordsFileReader(save_dir=rec_dir, file_prefix=file_prefix,\n",
    "                                             mpi_rank=mpi_rank,\n",
    "                                             manager_label=manager_label,\n",
    "                                             file_postfix=file_postfix, filemeta_as_col=True)\n",
    "\n",
    "    bin_panda_convert_list.append(binrec)\n",
    "    \n",
    "panda_list = p.map(bin_rec.reader_multiprocessing_helper, bin_panda_convert_list)\n",
    "\n",
    "stop_time = time.monotonic()\n",
    "print('Runtime {:} mins.'.format((stop_time - start_time)/60))\n"
   ]
  },
  {
   "cell_type": "code",
   "execution_count": 11,
   "metadata": {},
   "outputs": [],
   "source": [
    "start_time = time.monotonic()\n",
    "\n",
    "for rec_pandas in panda_list:\n",
    "    for rec_id, rec_pd in rec_pandas.items():\n",
    "        existing_rec_pd = allrecs.setdefault(rec_id, pd.DataFrame())\n",
    "        allrecs[rec_id] = existing_rec_pd.append(rec_pd, ignore_index=True)\n",
    "    \n",
    "for rec_id, rec_pd in allrecs.items():\n",
    "    if 'timestamp' in rec_pd.columns:\n",
    "        rec_pd.sort_values(['timestamp']).reset_index(drop=True)\n",
    "        \n",
    "stop_time = time.monotonic()\n",
    "print('Runtime {:} mins.'.format((stop_time - start_time)/60))\n"
   ]
  },
  {
   "cell_type": "code",
   "execution_count": 13,
   "metadata": {},
   "outputs": [],
   "source": [
    "allrecs[2]"
   ]
  },
  {
   "cell_type": "code",
   "execution_count": 5,
   "metadata": {},
   "outputs": [],
   "source": [
    "allrecs[1].dtypes"
   ]
  },
  {
   "cell_type": "code",
   "execution_count": 10,
   "metadata": {
    "scrolled": true
   },
   "outputs": [],
   "source": [
    "allrecs.keys()"
   ]
  },
  {
   "cell_type": "code",
   "execution_count": 24,
   "metadata": {},
   "outputs": [],
   "source": [
    "spike_dec = allrecs[4]\n",
    "spike_dec"
   ]
  },
  {
   "cell_type": "code",
   "execution_count": 25,
   "metadata": {},
   "outputs": [],
   "source": [
    "spike_dec.loc[942, 'x0':'x149'].values"
   ]
  },
  {
   "cell_type": "code",
   "execution_count": 28,
   "metadata": {
    "scrolled": true
   },
   "outputs": [],
   "source": [
    "p1 = plt.plot(spike_dec.loc[904, 'x0':'x149'].values)\n",
    "\n",
    "plt.show(p1)"
   ]
  },
  {
   "cell_type": "code",
   "execution_count": 43,
   "metadata": {},
   "outputs": [],
   "source": [
    "plt.figure(figsize=[20,10])\n",
    "p1 = plt.plot(np.argmax(spike_dec.loc[:, 'x0':'x149'].values, axis=1))\n",
    "\n",
    "plt.show(p1)"
   ]
  },
  {
   "cell_type": "code",
   "execution_count": null,
   "metadata": {
    "collapsed": true
   },
   "outputs": [],
   "source": [
    "\n",
    "plt.figure(figsize=[25,10])\n",
    "im1 = plt.imshow(np.transpose(decode_values), aspect='auto')\n",
    "plt.show(im1)"
   ]
  }
 ],
 "metadata": {
  "git": {
   "suppress_outputs": true
  },
  "kernelspec": {
   "display_name": "Python 3",
   "language": "python",
   "name": "python3"
  },
  "language_info": {
   "codemirror_mode": {
    "name": "ipython",
    "version": 3
   },
   "file_extension": ".py",
   "mimetype": "text/x-python",
   "name": "python",
   "nbconvert_exporter": "python",
   "pygments_lexer": "ipython3",
   "version": "3.6.1"
  }
 },
 "nbformat": 4,
 "nbformat_minor": 2
}