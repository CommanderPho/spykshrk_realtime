{
 "cells": [
  {
   "cell_type": "code",
   "execution_count": 90,
   "metadata": {},
   "outputs": [],
   "source": [
    "# To start mysql docker: sudo docker-compose up -d\n",
    "\n",
    "import datajoint as dj\n",
    "import os\n",
    "import sys\n",
    "import json\n"
   ]
  },
  {
   "cell_type": "code",
   "execution_count": 91,
   "metadata": {},
   "outputs": [],
   "source": [
    "root_path = os.path.abspath(os.path.join(globals()['_dh'][0], '../..'))"
   ]
  },
  {
   "cell_type": "code",
   "execution_count": 3,
   "metadata": {},
   "outputs": [],
   "source": [
    "local_cred_filename = os.path.join(root_path, 'datajoint/local_cred.ini')\n",
    "with open(local_cred_filename) as f:\n",
    "    local_cred = json.load(f)"
   ]
  },
  {
   "cell_type": "code",
   "execution_count": 4,
   "metadata": {},
   "outputs": [],
   "source": [
    "local_cred"
   ]
  },
  {
   "cell_type": "code",
   "execution_count": 5,
   "metadata": {},
   "outputs": [],
   "source": [
    "cred_filename = \"~/\"\n",
    "\n",
    "dj.config['database.host'] = local_cred['host']\n",
    "dj.config['database.user'] = local_cred['user']\n",
    "dj.config['database.password'] = local_cred['password']"
   ]
  },
  {
   "cell_type": "code",
   "execution_count": 10,
   "metadata": {},
   "outputs": [],
   "source": [
    "schema = dj.schema('test', locals())"
   ]
  },
  {
   "cell_type": "code",
   "execution_count": 7,
   "metadata": {},
   "outputs": [],
   "source": [
    "schema.drop()"
   ]
  },
  {
   "cell_type": "code",
   "execution_count": 74,
   "metadata": {},
   "outputs": [],
   "source": [
    "parent.drop()\n",
    "child.drop()"
   ]
  },
  {
   "cell_type": "code",
   "execution_count": 75,
   "metadata": {},
   "outputs": [],
   "source": [
    "# Testing multiple  \n",
    "\n",
    "@schema\n",
    "class Parent(dj.Manual):\n",
    "    definition = \"\"\"\n",
    "    parent_id: int\n",
    "    ---\n",
    "    parent_data = NULL: varchar(20)\n",
    "    \"\"\"\n",
    "\n",
    "@schema\n",
    "class Middle(dj.Manual):\n",
    "    definition = \"\"\"\n",
    "    -> Parent\n",
    "    middle_id: int\n",
    "    ---\n",
    "    middle_data: varchar(20)\n",
    "    \"\"\"\n",
    "    \n",
    "@schema\n",
    "class Child(dj.Manual):\n",
    "    definition = \"\"\"\n",
    "    child_id: int\n",
    "    ---\n",
    "    child_data: varchar(20)\n",
    "    \"\"\"\n",
    "    \n",
    "    class ParentSrc(dj.Part):\n",
    "        definition = \"\"\"\n",
    "        -> Middle\n",
    "        -> Child\n",
    "        \"\"\""
   ]
  },
  {
   "cell_type": "code",
   "execution_count": 76,
   "metadata": {},
   "outputs": [],
   "source": [
    "parent = Parent()\n",
    "middle = Middle()\n",
    "child = Child()"
   ]
  },
  {
   "cell_type": "code",
   "execution_count": 77,
   "metadata": {},
   "outputs": [],
   "source": [
    "parent.insert([{'parent_id': 0, 'parent_data': 'stuff0'}])\n",
    "parent.insert1({'parent_id': 1})\n",
    "parent.insert([{'parent_id': 2}])\n",
    "parent.insert1({'parent_id': 3, 'parent_data': 'stuff3'})\n",
    "parent.insert1({'parent_id': 10, 'parent_data': 'stuff10'})\n",
    "parent"
   ]
  },
  {
   "cell_type": "code",
   "execution_count": 85,
   "metadata": {},
   "outputs": [],
   "source": [
    "p_id, p_data = parent.fetch('parent_id', 'parent_data')\n"
   ]
  },
  {
   "cell_type": "code",
   "execution_count": 86,
   "metadata": {},
   "outputs": [],
   "source": [
    "middle.insert([{'parent_id': 0, 'middle_id': 0, 'middle_data': 'mid0'},\n",
    "               {'parent_id': 1, 'middle_id': 1, 'middle_data': 'mid1'}])\n",
    "middle"
   ]
  },
  {
   "cell_type": "code",
   "execution_count": 87,
   "metadata": {},
   "outputs": [],
   "source": [
    "child.insert([{'child_id': 0, 'child_data': 'more0'},\n",
    "              {'child_id': 1, 'child_data': 'more1'}])\n",
    "child"
   ]
  },
  {
   "cell_type": "code",
   "execution_count": 88,
   "metadata": {},
   "outputs": [],
   "source": [
    "child.ParentSrc.insert([{'parent_id': 0, 'middle_id': 0, 'child_id': 0},\n",
    "                        {'parent_id': 1, 'middle_id': 1, 'child_id': 0},\n",
    "                        {'parent_id': 0, 'middle_id': 0, 'child_id': 1},\n",
    "                        {'parent_id': 1, 'middle_id': 1, 'child_id': 1}])\n",
    "child.ParentSrc()"
   ]
  },
  {
   "cell_type": "code",
   "execution_count": 89,
   "metadata": {},
   "outputs": [],
   "source": [
    "(child.ParentSrc() & 'child_id = 0') * child * parent"
   ]
  },
  {
   "cell_type": "code",
   "execution_count": 94,
   "metadata": {},
   "outputs": [],
   "source": [
    "schema = dj.schema('franklab_nspike', locals())"
   ]
  },
  {
   "cell_type": "code",
   "execution_count": 96,
   "metadata": {},
   "outputs": [],
   "source": [
    "schema.jobs"
   ]
  },
  {
   "cell_type": "code",
   "execution_count": null,
   "metadata": {},
   "outputs": [],
   "source": []
  }
 ],
 "metadata": {
  "git": {
   "suppress_outputs": true
  },
  "kernelspec": {
   "display_name": "Python 3",
   "language": "python",
   "name": "python3"
  },
  "language_info": {
   "codemirror_mode": {
    "name": "ipython",
    "version": 3
   },
   "file_extension": ".py",
   "mimetype": "text/x-python",
   "name": "python",
   "nbconvert_exporter": "python",
   "pygments_lexer": "ipython3",
   "version": "3.7.1"
  }
 },
 "nbformat": 4,
 "nbformat_minor": 2
}